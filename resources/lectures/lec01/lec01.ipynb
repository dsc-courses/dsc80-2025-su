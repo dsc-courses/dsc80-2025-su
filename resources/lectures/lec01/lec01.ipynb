{
 "cells": [
  {
   "cell_type": "code",
   "execution_count": 67,
   "id": "b26fd008-4ef8-4e35-932f-134bb4e3b038",
   "metadata": {
    "editable": true,
    "slideshow": {
     "slide_type": "fragment"
    },
    "tags": []
   },
   "outputs": [],
   "source": [
    "from dsc80_utils import *"
   ]
  },
  {
   "cell_type": "markdown",
   "id": "3143de48",
   "metadata": {
    "slideshow": {
     "slide_type": "slide"
    },
    "tags": []
   },
   "source": [
    "# Lecture 1 – Introduction, Data Science Lifecycle\n",
    "\n",
    "## DSC 80, Spring 2025"
   ]
  },
  {
   "cell_type": "markdown",
   "id": "61dfa21e",
   "metadata": {
    "slideshow": {
     "slide_type": "slide"
    }
   },
   "source": [
    "<center><h2>Welcome to DSC 80! 🎉</h2></center>"
   ]
  },
  {
   "cell_type": "markdown",
   "id": "07213ce0",
   "metadata": {
    "jp-MarkdownHeadingCollapsed": true,
    "slideshow": {
     "slide_type": "slide"
    }
   },
   "source": [
    "### Agenda\n",
    "\n",
    "- Who are we?\n",
    "- What does a data scientist do?\n",
    "- What is this course about, and how will it run?\n",
    "- The data science lifecycle.\n",
    "- Example: What's in a name?"
   ]
  },
  {
   "cell_type": "markdown",
   "id": "be426149",
   "metadata": {
    "jp-MarkdownHeadingCollapsed": true,
    "slideshow": {
     "slide_type": "slide"
    }
   },
   "source": [
    "### Instructor: Prof. Bivin Sadler\n",
    "\n",
    "<img src='imgs/Sadler.jpg' width=15%>\n",
    "\n",
    "- Assistant Professor, HDSI, UCSD\n",
    "- Website: https://mosaic-laboratory.github.io\n",
    "\n",
    "- PhD from SMU in Statistical Science\n",
    "- Msc from SMU in Statistical Science\n",
    "- Research Interest: Time Series and Educational Assessment\n",
    "- I love to sing, play, read and cook with my 7 year old daughter.\n",
    "- In the past, I moved to Mission Beach to try to play VB on the AVP. :) \n",
    "\n",
    "Tell me about you! Use the Class[Buzz] code: `intro-q`\n"
   ]
  },
   "source": [
    "## What is data science? 🤔"
   ]
  },
  {
   "cell_type": "markdown",
   "id": "d2145c39",
   "metadata": {
    "jp-MarkdownHeadingCollapsed": true,
    "slideshow": {
     "slide_type": "slide"
    }
   },
   "source": [
    "### What is data science?\n",
    "\n",
    "<br>\n",
    "\n",
    "<center><img src='imgs/what-is-data-science.png' width=60%></center>\n",
    "\n",
    "Everyone seems to have their own definition of what data science is!"
   ]
  },
  {
   "cell_type": "markdown",
   "id": "81d88189",
   "metadata": {
    "slideshow": {
     "slide_type": "slide"
    }
   },
   "source": [
    "### The DSC 10 approach\n",
    "\n",
    "In DSC 10, we told you that data science is about **drawing useful conclusions from data using computation**. In DSC 10, you:"
   ]
  },
  {
   "cell_type": "markdown",
   "id": "755ea4ea",
   "metadata": {
    "slideshow": {
     "slide_type": "fragment"
    }
   },
   "source": [
    "- Used Python to **explore** and **visualize** data."
   ]
  },
  {
   "cell_type": "markdown",
   "id": "b6c51e83",
   "metadata": {
    "slideshow": {
     "slide_type": "fragment"
    }
   },
   "source": [
    "- Used **simulation** to make **inferences** about a population, given just a sample."
   ]
  },
  {
   "cell_type": "markdown",
   "id": "258b5000",
   "metadata": {
    "slideshow": {
     "slide_type": "fragment"
    }
   },
   "source": [
    "- Made **predictions** about the future given data from the past."
   ]
  },
  {
   "cell_type": "markdown",
   "id": "efabcfc5",
   "metadata": {
    "slideshow": {
     "slide_type": "fragment"
    }
   },
   "source": [
    "Let's look at a few more definitions of data science."
   ]
  },
  {
   "cell_type": "markdown",
   "id": "1efb892b",
   "metadata": {
    "jp-MarkdownHeadingCollapsed": true,
    "slideshow": {
     "slide_type": "slide"
    }
   },
   "source": [
    "### What is data science?\n",
    "\n",
    "<center><img src=\"imgs/image_0.png\"></center>\n",
    "\n",
    "In 2010, Drew Conway published his famous [Data Science Venn Diagram](http://drewconway.com/zia/2013/3/26/the-data-science-venn-diagram)."
   ]
  },
  {
   "cell_type": "markdown",
   "id": "8d0b484f",
   "metadata": {
    "slideshow": {
     "slide_type": "slide"
    }
   },
   "source": [
    "### What is data science?\n",
    "\n",
    "There isn't agreement on which \"Venn Diagram\" is correct!\n",
    "\n",
    "<center><img src=\"imgs/image_1.png\" width=30%></center>\n",
    "\n",
    "- **Why not?** The field is new and rapidly developing.\n",
    "- Make sure you're solid on the fundamentals, then find a niche that you enjoy.\n",
    "- Read Taylor, [Battle of the Data Science Venn Diagrams](https://deeplearning.lipingyang.org/wp-content/uploads/2017/10/Battle-of-the-Data-Science-Venn-Diagrams.pdf)."
   ]
  },
  {
   "cell_type": "markdown",
   "id": "dd48a8ec",
   "metadata": {
    "slideshow": {
     "slide_type": "slide"
    }
   },
   "source": [
    "### What does a _data scientist_ do?\n",
    "\n",
    "The chart below is taken from the [2016 Data Science Salary Survey](https://www.oreilly.com/radar/2016-data-science-salary-survey-results/), administered by O'Reilly. They asked respondents what they spend their time doing on a daily basis. What do you notice? <br>\n",
    "\n",
    "<center><img src='imgs/survey.png' width=40%></center>"
   ]
  },
  {
   "cell_type": "markdown",
   "id": "e164e0c6",
   "metadata": {
    "slideshow": {
     "slide_type": "slide"
    }
   },
   "source": [
    "The chart below is taken from the followup [2021 Data/AI Salary Survey](https://www.oreilly.com/radar/2021-data-ai-salary-survey/), also administered by O'Reilly. They asked respondents:\n",
    "\n",
    "> What technologies will have the biggest effect on compensation in the coming year?\n",
    "\n",
    "<center><img src='imgs/2021-most-relevant-skill.png' width=45%></center>"
   ]
  },
  {
   "cell_type": "markdown",
   "id": "5146c163",
   "metadata": {
    "slideshow": {
     "slide_type": "slide"
    }
   },
   "source": [
    "### What does a _data scientist_ do?\n",
    "\n",
    "Our take: in DSC 80, and in the DSC major more broadly, we are training you to **ask and answer questions using data**."
   ]
  },
  {
   "cell_type": "markdown",
   "id": "dd1a883b",
   "metadata": {
    "slideshow": {
     "slide_type": "fragment"
    }
   },
   "source": [
    "As you take more courses, we're training you to answer questions whose answers are **ambiguous** – this uncertainly is what makes data science challenging!"
   ]
  },
  {
   "cell_type": "markdown",
   "id": "9d2f8d88",
   "metadata": {
    "slideshow": {
     "slide_type": "fragment"
    }
   },
   "source": [
    "Let's look at some examples of data science in practice."
   ]
  },
  {
   "cell_type": "markdown",
   "id": "86af436e",
   "metadata": {
    "slideshow": {
     "slide_type": "slide"
    }
   },
   "source": [
    "### Do people care about climate change?\n",
    "\n",
    "From [How Americans Think About Climate Change, in Six Maps](https://www.nytimes.com/interactive/2017/03/21/climate/how-americans-think-about-climate-change-in-six-maps.html?amp=&smid=fb-nytimes).\n",
    "\n",
    "<center><img src='imgs/nyt-climate-legend.png' width=35%></center>\n",
    "<center><img src='imgs/nyt-climate-harm.png' width=50%></center>"
   ]
  },
  {
   "cell_type": "markdown",
   "id": "0999754a-0033-44e2-8244-5fdaa037aebc",
   "metadata": {
    "slideshow": {
     "slide_type": "slide"
    }
   },
   "source": [
    "### Do people care about climate change?\n",
    "\n",
    "<center><img src='imgs/nyt-climate-legend.png' width=35%></center>\n",
    "<center><img src='imgs/nyt-climate-personal.png' width=50%></center>"
   ]
  },
  {
   "cell_type": "markdown",
   "id": "7c34fb09",
   "metadata": {
    "slideshow": {
     "slide_type": "slide"
    }
   },
   "source": [
    "An excerpt from the article:\n",
    "\n",
    "> Global warming is precisely the kind of threat humans are awful at dealing with: a problem with enormous consequences over the long term, but little that is sharply visible on a personal level in the short term. Humans are hard-wired for quick fight-or-flight reactions in the face of an imminent threat, but not highly motivated to act against slow-moving and somewhat abstract problems, even if the challenges that they pose are ultimately dire."
   ]
  },
  {
   "cell_type": "markdown",
   "id": "4cd37733",
   "metadata": {
    "slideshow": {
     "slide_type": "slide"
    }
   },
   "source": [
    "### Data science involves _people_ 🧍\n",
    "\n",
    "The decisions that we make as data scientists have the potential to impact the livelihoods of other people.\n",
    "\n",
    "- Flu case forecasting.\n",
    "- Admissions and hiring.\n",
    "- Hyper-personalized ad recommendations."
   ]
  },
  {
   "cell_type": "markdown",
   "id": "dfdae8ce",
   "metadata": {
    "slideshow": {
     "slide_type": "slide"
    }
   },
   "source": [
    "### What is this course really about, then?"
   ]
  },
  {
   "cell_type": "markdown",
   "id": "01e943ca",
   "metadata": {
    "slideshow": {
     "slide_type": "fragment"
    }
   },
   "source": [
    "- Good data analysis is not:\n",
    "    - A simple application of a statistics formula.\n",
    "    - A simple application of computer programs."
   ]
  },
  {
   "cell_type": "markdown",
   "id": "5e4a5924",
   "metadata": {
    "slideshow": {
     "slide_type": "fragment"
    }
   },
   "source": [
    "- There are many tools out there for data science, but they are merely tools. **They don’t do any of the important thinking – that's where you come in!**\n"
   ]
  },
  {
   "cell_type": "markdown",
   "id": "0c22fafe",
   "metadata": {
    "slideshow": {
     "slide_type": "slide"
    }
   },
   "source": [
    "## Course content"
   ]
  },
  {
   "cell_type": "markdown",
   "id": "f6020d91",
   "metadata": {
    "slideshow": {
     "slide_type": "slide"
    }
   },
   "source": [
    "### Course goals\n",
    "\n",
    "**DSC 80 teaches you to *think* like a data scientist.**\n",
    "\n",
    "In this course, you will...\n",
    "\n",
    "* **Get a taste of the \"life of a data scientist.\"**\n",
    "* Practice translating potentially vague questions into quantitative questions about measurable observations.\n",
    "* Learn to reason about \"black-box\" processes (e.g. complicated models).\n",
    "* Understand computational and statistical implications of working with data.\n",
    "* Learn to use real data tools (and rely on documentation)."
   ]
  },
  {
   "cell_type": "markdown",
   "id": "ac5a59be",
   "metadata": {
    "slideshow": {
     "slide_type": "slide"
    }
   },
   "source": [
    "### Course outcomes\n",
    "\n",
    "After this course, you will...\n",
    "\n",
    "* Be prepared for internships and data science \"take home\" interviews!\n",
    "* Be ready to create your own portfolio of personal projects.\n",
    "* Have the background and maturity to succeed in the upper-division."
   ]
  },
  {
   "cell_type": "markdown",
   "id": "0825619c-7d95-4238-b2dc-0e4f1fbaa65c",
   "metadata": {
    "slideshow": {
     "slide_type": "slide"
    }
   },
   "source": [
    "### Topics\n",
    "\n",
    "- Week 1: From `babypandas` to `pandas`.\n",
    "- Week 2: DataFrames.\n",
    "- Week 3: Working with messy data, hypothesis and permutation testing.\n",
    "- Week 4: Missing values.\n",
    "- Week 5: HTML and web scraping.\n",
    "- Week 6: **Midterm Exam** and regular expressions.\n",
    "- Week 7: Text data, modeling.\n",
    "- Week 8: Feature engineering and generalization.\n",
    "- Week 9: Modeling in `sklearn`.\n",
    "- Week 10: Classifier evaluation, fairness, conclusion.\n",
    "- Week 11: **Final Exam**"
   ]
  },
  {
   "cell_type": "markdown",
   "id": "ee4d0050",
   "metadata": {
    "slideshow": {
     "slide_type": "slide"
    }
   },
   "source": [
    "## Course logistics"
   ]
  },
  {
   "cell_type": "markdown",
   "id": "0a2c2394-7c55-45f2-9668-fd3b945eda2c",
   "metadata": {
    "slideshow": {
     "slide_type": "slide"
    },
    "tags": []
   },
   "source": [
    "### Course website\n",
    "\n",
    "The course website is your one-stop-shop for all things related to the course.\n",
    "\n",
    "<br>\n",
    "\n",
    "<center><h3><a href=\"https://dsc80.com\">dsc80.com</a></h3></center>\n",
    "\n",
    "<br>\n",
    "\n",
    "Make sure to **read the [syllabus](https://dsc80.com/syllabus)**!"
   ]
  },
  {
   "cell_type": "markdown",
   "id": "c261d793",
   "metadata": {
    "slideshow": {
     "slide_type": "slide"
    }
   },
   "source": [
    "### Getting set up\n",
    "\n",
    "- **Piazza**: Q&A forum. Must be active here, since this is where all announcements will be made.\n",
    "- **Gradescope**: Where you will submit all assignments for autograding, and where all of your grades will live.\n",
    "- **Canvas**: No ❌.\n",
    "\n",
    "In addition, you must fill out our **[Welcome Survey](https://docs.google.com/forms/d/e/1FAIpQLScNAvrwJpb850IjIul91ddi2bUKLyrRQkAS8N6t5mbXy0Vi0A/viewform?usp=dialog)**\n"
   ]
  },
  {
   "cell_type": "markdown",
   "id": "dae66a40",
   "metadata": {
    "slideshow": {
     "slide_type": "slide"
    }
   },
   "source": [
    "### Accessing course content on GitHub\n",
    "\n",
    "You will access all course content by pulling the course GitHub repository:\n",
    "\n",
    "<br>\n",
    "\n",
    "<center><p><b><a href=\"https://github.com/dsc-courses/dsc80-2025-sp\">github.com/dsc-courses/dsc80-2025-sp</a></b></p></center>\n",
    "\n",
    "<br>\n",
    "\n",
    "We will post HTML versions of lecture notebooks on the course website, but otherwise you must `git pull` from this repository to access all course materials (including blank copies of assignments)."
   ]
  },
  {
   "cell_type": "markdown",
   "id": "a7dcec94",
   "metadata": {
    "slideshow": {
     "slide_type": "slide"
    }
   },
   "source": [
    "### Environment setup\n",
    "\n",
    "- You're required to set up a Python environment on your own computer.\n",
    "- To do so, follow the instructions on the [Tech Support](https://dsc80.com/tech_support) page of the course website.\n",
    "- Once you set up your environment, you will `git pull` the course repo every time a new assignment comes out.\n",
    "- **Note**: You will submit your work to Gradescope directly, without using Git.\n",
    "- We will post a demo video with Lab 1."
   ]
  },
  {
   "cell_type": "markdown",
   "id": "44ec2def",
   "metadata": {
    "slideshow": {
     "slide_type": "slide"
    }
   },
   "source": [
    "### Lectures"
   ]
  },
  {
   "cell_type": "markdown",
   "id": "0316b814",
   "metadata": {
    "slideshow": {
     "slide_type": "fragment"
    }
   },
   "source": [
    "- Lectures are held in-person on **Tuesdays and Thursdays 9:30am-10:50am in CENTR 113**. \n",
    "Lectures are podcasted."
   ]
  },
  {
   "cell_type": "markdown",
   "id": "d2330a86",
   "metadata": {
    "slideshow": {
     "slide_type": "fragment"
    }
   },
   "source": [
    "- Assignment deadlines are fairly flexible (as I'll explain soon). To help yourself stay on track with material, you can opt into lecture attendance. If you do, lecture attendance is worth 5% of your overall grade (instead of 0%) and the midterm and final are worth 2.5% less.\n",
    "\n",
    "- To get credit for a class, attend and participate in the activities for both lectures. Lowest four classes dropped."
   ]
  },
  {
   "cell_type": "markdown",
   "id": "32e15386",
   "metadata": {
    "jp-MarkdownHeadingCollapsed": true,
    "slideshow": {
     "slide_type": "slide"
    }
   },
   "source": [
    "### Assignments\n",
    "\n",
    "In this course, you will learn by doing!\n",
    "\n",
    "- **Labs (20%)**: 9 total, lowest score dropped. Due **Wednesdays at 11:59PM**.\n",
    "- **Projects (25%)**: 4 total, no drops. Due on **Fridays at 11:59PM**.\n",
    "\n",
    "In DSC 80, assignments will usually consist of both a Jupyter Notebook and a `.py` file. You will write your code in the `.py` file; the Jupyter Notebook will contain problem descriptions and test cases. Lab 1 will explain the workflow."
   ]
  },
  {
   "cell_type": "markdown",
   "id": "3cd859e4",
   "metadata": {
    "slideshow": {
     "slide_type": "slide"
    }
   },
   "source": [
    "### Late Policy\n",
    "\n",
    "- **No late submissions accepted, but...**\n",
    "- [Extension Request Form](https://docs.google.com/forms/d/e/1FAIpQLSe1jsdmOFvTi0SkEGVFk8DA4yG3GddgqMuCdBL_cwgJ1Xrdqg/viewform?usp=dialog) grants you 1 day extension on assignment submission (instead of slip days).\n",
    "- We will essentially approve all requests!\n",
    "- Goal is to help support you if you start falling behind, so if you fill out form a lot, we'll schedule a meeting with you to help come up with a plan for success.\n",
    "- **No extensions on project checkpoints or Final Project.**"
   ]
  },
  {
   "cell_type": "markdown",
   "id": "498fa304",
   "metadata": {
    "slideshow": {
     "slide_type": "slide"
    }
   },
   "source": [
    "### Redemption for Labs and Projects\n",
    "\n",
    "- All labs and projects 1-3 have hidden autograder tests.\n",
    "    - We won't show you what you missed until the deadline has passed.\n",
    "- But you can resubmit after the original deadline to redeem up to 80% of points lost."
   ]
  },
  {
   "cell_type": "markdown",
   "id": "3d428dc1",
   "metadata": {
    "slideshow": {
     "slide_type": "slide"
    }
   },
   "source": [
    "### Discussions\n",
    "\n",
    "- Discussion classes this quarter will be held by the TA: 10:00AM-10:50AM in HSS 1330!\n",
    "- Will post worksheets with suggested past exam questions to try out that week."
   ]
  },
  {
   "cell_type": "markdown",
   "id": "599177f8",
   "metadata": {
    "slideshow": {
     "slide_type": "slide"
    }
   },
   "source": [
    "### Exams\n",
    "\n",
    "- This class has one Midterm Exam and one Final Exam. Exams are cumulative, though the Final Exam will emphasize material after the Midterm Exam.\n",
    "- **Midterm Exam**: Tuesday of Week 6 (during lecture)\n",
    "- **Final Exam:** Location and time will be declared.\n",
    "- Both exams will be administered in-person. If you have conflicts with either of the exams, please let us know on the. There will be an exam accomodation form that will be released.\n",
    "\n",
    "- Your final exam score can **redeem** your midterm score (see the [Syllabus](https://dsc80.com/syllabus) for details).\n"
   ]
  },
  {
   "cell_type": "markdown",
   "id": "6fc5d28a",
   "metadata": {
    "slideshow": {
     "slide_type": "slide"
    }
   },
   "source": [
    "<!-- \n",
    "\n",
    "**Monday:** Free\n",
    "\n",
    "**Tuesday:** Lecture\n",
    "\n",
    "**Wednesday:** Lab due\n",
    "\n",
    "**Thursday:** Lecture\n",
    "\n",
    "**Friday:** Project Due -->\n",
    "\n",
    "| Monday | Tuesday                                           | Wednesday | Thursday | Friday                                        |\n",
    "| ------ | ------------------------------------------------- | --------- | -------- | --------------------------------------------- |\n",
    "|        | Lecture                                           |           | Lecture  |                                               |\n",
    "|        | |  <span style='color:red'><b>Lab due</b></span>         |          | <span style='color:red'><b>Project due</b></span>  |\n",
    "\n",
    " \n",
    "🏃‍♂️💨💨💨"
   ]
  },
  {
   "cell_type": "markdown",
   "id": "534f5fcc",
   "metadata": {
    "slideshow": {
     "slide_type": "slide"
    }
   },
   "source": [
    "### Resources\n",
    "\n",
    "- Your main resource will be lecture notebooks.\n",
    "- Most lectures also have supplemental readings that come from our course textbook, [Learning Data Science](https://learningds.org/intro.html). These are not required, but are highly recommended.\n",
    "\n",
    "<center>\n",
    "<img alt=\"Front cover of textbook\" src=\"imgs/book-cover.png\" width=\"300\">\n",
    "</center>"
   ]
  },
  {
   "cell_type": "markdown",
   "id": "b2c18d41",
   "metadata": {
    "slideshow": {
     "slide_type": "slide"
    }
   },
   "source": [
    "### Support 🫂\n",
    "\n",
    "It is no secret that this course requires **a lot** of work – becoming fluent with working with data is hard!\n",
    "\n",
    "- You will learn how to solve problems **independently** – documentation and the internet will be your friends.\n",
    "- Learning how to effectively check your work and debug is extremely useful.\n",
    "- Learning to stick with a problem (*tenacity*) is a very valuable skill; but don't be afraid to ask for help."
   ]
  },
  {
   "cell_type": "markdown",
   "id": "e5edbdb6",
   "metadata": {
    "slideshow": {
     "slide_type": "fragment"
    }
   },
   "source": [
    "Once you've tried to solve problems on your own, we're glad to help.\n",
    "\n",
    "- We have several **office hours** in person each week. See the [Calendar 📆](https://dsc80.com/calendar/) for details.\n",
    "- **Piazza** is your friend too. Make your conceptual questions public, and make your debugging questions private."
   ]
  },
  {
   "cell_type": "markdown",
   "id": "f752ac9a",
   "metadata": {
    "slideshow": {
     "slide_type": "slide"
    }
   },
   "source": [
    "### Generative Artificial Intelligence\n",
    "\n",
    "- We know that tools, like ChatGPT and GitHub Copilot, can write code for you.\n",
    "- Feel free to use such tools **with caution**. Refer to the [Generative AI](https://dsc80.com/syllabus/#use-of-generative-artificial-intelligence) section of the syllabus for details.\n",
    "- We trust that you're here to learn and do the work for yourself.\n",
    "- You won't be able to use ChatGPT on the exams, so make sure you **understand** how your code actually works."
   ]
  },
  {
   "cell_type": "markdown",
   "id": "5ecb31ac",
   "metadata": {
    "slideshow": {
     "slide_type": "slide"
    }
   },
   "source": [
    "<center><img src=\"imgs/sets.png\" width=75%></center>\n",
    "\n",
    "<center>You'll have to work a lot, but we'll make the time spent worth it.</center>"
   ]
  },
  {
   "cell_type": "markdown",
   "id": "e3bb2a04",
   "metadata": {
    "slideshow": {
     "slide_type": "slide"
    }
   },
   "source": [
    "## The data science lifecycle 🚴"
   ]
  },
  {
   "cell_type": "markdown",
   "id": "afd51458",
   "metadata": {
    "slideshow": {
     "slide_type": "slide"
    }
   },
   "source": [
    "### The scientific method\n",
    "\n",
    "You learned about the scientific method in elementary school. "
   ]
  },
  {
   "cell_type": "markdown",
   "id": "621c38e0",
   "metadata": {
    "slideshow": {
     "slide_type": "fragment"
    }
   },
   "source": [
    "<center><img src=\"imgs/image_3.png\" width=500></center>"
   ]
  },
  {
   "cell_type": "markdown",
   "id": "56ee9fdd",
   "metadata": {
    "slideshow": {
     "slide_type": "fragment"
    }
   },
   "source": [
    "However, it hides a lot of complexity.\n",
    "- Where did the hypothesis come from?\n",
    "- What data are you modeling? Is the data sufficient?\n",
    "- Under which conditions are the conclusions valid?"
   ]
  },
  {
   "cell_type": "markdown",
   "id": "1a45f8c4",
   "metadata": {
    "slideshow": {
     "slide_type": "slide"
    }
   },
   "source": [
    "### The data science lifecycle\n",
    "\n",
    "<center><img src=\"imgs/ds-lifecycle.svg\" width=\"60%\"></center>"
   ]
  },
  {
   "cell_type": "markdown",
   "id": "1bb7af57",
   "metadata": {
    "slideshow": {
     "slide_type": "fragment"
    }
   },
   "source": [
    "**All steps lead to more questions!** We'll refer back to the data science lifecycle repeatedly throughout the quarter."
   ]
  },
  {
   "cell_type": "markdown",
   "id": "7bd138d9",
   "metadata": {
    "slideshow": {
     "slide_type": "slide"
    }
   },
   "source": [
    "## Example: What's in a name?"
   ]
  },
  {
   "cell_type": "markdown",
   "id": "ca637d08",
   "metadata": {
    "editable": true,
    "slideshow": {
     "slide_type": "fragment"
    },
    "tags": []
   },
   "source": [
    "### Lilith, Lilibet … Lucifer? How Baby Names Went to 'L'\n",
    "\n",
    "[This New York Times](https://archive.is/NpORG) article claims that baby names beginning with \"L\" have become more popular over time."
   ]
  },
  {
   "cell_type": "markdown",
   "id": "b6334a22",
   "metadata": {
    "slideshow": {
     "slide_type": "fragment"
    }
   },
   "source": [
    "Let's see if these claims are true, based on the data!"
   ]
  },
  {
   "cell_type": "markdown",
   "id": "3158f04f-9416-4062-9b7a-ab975721667b",
   "metadata": {
    "slideshow": {
     "slide_type": "slide"
    },
    "tags": []
   },
   "source": [
    "### The data\n",
    "\n",
    "What we're seeing below is a `pandas` DataFrame. The DataFrame contains one row for every combination of `'Name'`, `'Sex'`, and `'Year'`."
   ]
  },
  {
   "cell_type": "code",
   "execution_count": 68,
   "id": "ba6829c9-5ece-42ca-a5f2-3d7065ec19b2",
   "metadata": {
    "scrolled": true
   },
   "outputs": [
    {
     "data": {
      "text/html": [
       "<div>\n",
       "<style scoped>\n",
       "    .dataframe tbody tr th:only-of-type {\n",
       "        vertical-align: middle;\n",
       "    }\n",
       "\n",
       "    .dataframe tbody tr th {\n",
       "        vertical-align: top;\n",
       "    }\n",
       "\n",
       "    .dataframe thead th {\n",
       "        text-align: right;\n",
       "    }\n",
       "</style>\n",
       "<table border=\"1\" class=\"dataframe\">\n",
       "  <thead>\n",
       "    <tr style=\"text-align: right;\">\n",
       "      <th></th>\n",
       "      <th>Name</th>\n",
       "      <th>Sex</th>\n",
       "      <th>Count</th>\n",
       "      <th>Year</th>\n",
       "    </tr>\n",
       "  </thead>\n",
       "  <tbody>\n",
       "    <tr>\n",
       "      <th>0</th>\n",
       "      <td>Liam</td>\n",
       "      <td>M</td>\n",
       "      <td>20456</td>\n",
       "      <td>2022</td>\n",
       "    </tr>\n",
       "    <tr>\n",
       "      <th>1</th>\n",
       "      <td>Noah</td>\n",
       "      <td>M</td>\n",
       "      <td>18621</td>\n",
       "      <td>2022</td>\n",
       "    </tr>\n",
       "    <tr>\n",
       "      <th>2</th>\n",
       "      <td>Olivia</td>\n",
       "      <td>F</td>\n",
       "      <td>16573</td>\n",
       "      <td>2022</td>\n",
       "    </tr>\n",
       "    <tr>\n",
       "      <th>...</th>\n",
       "      <td>...</td>\n",
       "      <td>...</td>\n",
       "      <td>...</td>\n",
       "      <td>...</td>\n",
       "    </tr>\n",
       "    <tr>\n",
       "      <th>2085155</th>\n",
       "      <td>Wright</td>\n",
       "      <td>M</td>\n",
       "      <td>5</td>\n",
       "      <td>1880</td>\n",
       "    </tr>\n",
       "    <tr>\n",
       "      <th>2085156</th>\n",
       "      <td>York</td>\n",
       "      <td>M</td>\n",
       "      <td>5</td>\n",
       "      <td>1880</td>\n",
       "    </tr>\n",
       "    <tr>\n",
       "      <th>2085157</th>\n",
       "      <td>Zachariah</td>\n",
       "      <td>M</td>\n",
       "      <td>5</td>\n",
       "      <td>1880</td>\n",
       "    </tr>\n",
       "  </tbody>\n",
       "</table>\n",
       "<p>2085158 rows × 4 columns</p>\n",
       "</div>"
      ],
      "text/plain": [
       "              Name Sex  Count  Year\n",
       "0             Liam   M  20456  2022\n",
       "1             Noah   M  18621  2022\n",
       "2           Olivia   F  16573  2022\n",
       "...            ...  ..    ...   ...\n",
       "2085155     Wright   M      5  1880\n",
       "2085156       York   M      5  1880\n",
       "2085157  Zachariah   M      5  1880\n",
       "\n",
       "[2085158 rows x 4 columns]"
      ]
     },
     "execution_count": 68,
     "metadata": {},
     "output_type": "execute_result"
    }
   ],
   "source": [
    "baby = pd.read_csv('data/baby.csv')\n",
    "baby"
   ]
  },
  {
   "cell_type": "markdown",
   "id": "37ecc9f7",
   "metadata": {
    "slideshow": {
     "slide_type": "slide"
    }
   },
   "source": [
    "Recall from DSC 10, to access columns in a DataFrame, you used the `.get` method."
   ]
  },
  {
   "cell_type": "code",
   "execution_count": 69,
   "id": "e38a98e2",
   "metadata": {},
   "outputs": [
    {
     "data": {
      "text/plain": [
       "np.int64(365296191)"
      ]
     },
     "execution_count": 69,
     "metadata": {},
     "output_type": "execute_result"
    }
   ],
   "source": [
    "baby.get('Count').sum()"
   ]
  },
  {
   "cell_type": "markdown",
   "id": "2c27c766",
   "metadata": {
    "slideshow": {
     "slide_type": "fragment"
    }
   },
   "source": [
    "Everything you learned in `babypandas` translates to `pandas`. However, the more common way of accessing a column in `pandas` involves dictionary syntax:"
   ]
  },
  {
   "cell_type": "code",
   "execution_count": 70,
   "id": "c8478309",
   "metadata": {},
   "outputs": [
    {
     "data": {
      "text/plain": [
       "np.int64(365296191)"
      ]
     },
     "execution_count": 70,
     "metadata": {},
     "output_type": "execute_result"
    }
   ],
   "source": [
    "baby['Count'].sum()"
   ]
  },
  {
   "cell_type": "markdown",
   "id": "c97d5bac",
   "metadata": {
    "slideshow": {
     "slide_type": "slide"
    }
   },
   "source": [
    "### How many unique names were there per year?"
   ]
  },
  {
   "cell_type": "code",
   "execution_count": 71,
   "id": "10a26947",
   "metadata": {},
   "outputs": [
    {
     "data": {
      "text/plain": [
       "Year\n",
       "1880     2000\n",
       "1881     1934\n",
       "1882     2127\n",
       "        ...  \n",
       "2020    31517\n",
       "2021    31685\n",
       "2022    31915\n",
       "Length: 143, dtype: int64"
      ]
     },
     "execution_count": 71,
     "metadata": {},
     "output_type": "execute_result"
    }
   ],
   "source": [
    "baby.groupby('Year').size()"
   ]
  },
  {
   "cell_type": "markdown",
   "id": "d373aa96",
   "metadata": {},
   "source": [
    "A shortcut to the above is as follows:"
   ]
  },
  {
   "cell_type": "code",
   "execution_count": 72,
   "id": "ebb4b305",
   "metadata": {
    "scrolled": true
   },
   "outputs": [
    {
     "data": {
      "text/plain": [
       "Year\n",
       "2008    35094\n",
       "2007    34966\n",
       "2009    34724\n",
       "        ...  \n",
       "1883     2084\n",
       "1880     2000\n",
       "1881     1934\n",
       "Name: count, Length: 143, dtype: int64"
      ]
     },
     "execution_count": 72,
     "metadata": {},
     "output_type": "execute_result"
    }
   ],
   "source": [
    "baby['Year'].value_counts()"
   ]
  },
  {
   "cell_type": "markdown",
   "id": "03792149",
   "metadata": {
    "slideshow": {
     "slide_type": "fragment"
    }
   },
   "source": [
    "Why **doesn't** the above Series actually contain the number of unique names per year?"
   ]
  },
  {
   "cell_type": "code",
   "execution_count": 73,
   "id": "7f795aac",
   "metadata": {},
   "outputs": [
    {
     "data": {
      "text/html": [
       "<div>\n",
       "<style scoped>\n",
       "    .dataframe tbody tr th:only-of-type {\n",
       "        vertical-align: middle;\n",
       "    }\n",
       "\n",
       "    .dataframe tbody tr th {\n",
       "        vertical-align: top;\n",
       "    }\n",
       "\n",
       "    .dataframe thead th {\n",
       "        text-align: right;\n",
       "    }\n",
       "</style>\n",
       "<table border=\"1\" class=\"dataframe\">\n",
       "  <thead>\n",
       "    <tr style=\"text-align: right;\">\n",
       "      <th></th>\n",
       "      <th>Name</th>\n",
       "      <th>Sex</th>\n",
       "      <th>Count</th>\n",
       "      <th>Year</th>\n",
       "    </tr>\n",
       "  </thead>\n",
       "  <tbody>\n",
       "    <tr>\n",
       "      <th>2083158</th>\n",
       "      <td>John</td>\n",
       "      <td>M</td>\n",
       "      <td>9655</td>\n",
       "      <td>1880</td>\n",
       "    </tr>\n",
       "    <tr>\n",
       "      <th>2083159</th>\n",
       "      <td>William</td>\n",
       "      <td>M</td>\n",
       "      <td>9532</td>\n",
       "      <td>1880</td>\n",
       "    </tr>\n",
       "    <tr>\n",
       "      <th>2083160</th>\n",
       "      <td>Mary</td>\n",
       "      <td>F</td>\n",
       "      <td>7065</td>\n",
       "      <td>1880</td>\n",
       "    </tr>\n",
       "    <tr>\n",
       "      <th>...</th>\n",
       "      <td>...</td>\n",
       "      <td>...</td>\n",
       "      <td>...</td>\n",
       "      <td>...</td>\n",
       "    </tr>\n",
       "    <tr>\n",
       "      <th>2085155</th>\n",
       "      <td>Wright</td>\n",
       "      <td>M</td>\n",
       "      <td>5</td>\n",
       "      <td>1880</td>\n",
       "    </tr>\n",
       "    <tr>\n",
       "      <th>2085156</th>\n",
       "      <td>York</td>\n",
       "      <td>M</td>\n",
       "      <td>5</td>\n",
       "      <td>1880</td>\n",
       "    </tr>\n",
       "    <tr>\n",
       "      <th>2085157</th>\n",
       "      <td>Zachariah</td>\n",
       "      <td>M</td>\n",
       "      <td>5</td>\n",
       "      <td>1880</td>\n",
       "    </tr>\n",
       "  </tbody>\n",
       "</table>\n",
       "<p>2000 rows × 4 columns</p>\n",
       "</div>"
      ],
      "text/plain": [
       "              Name Sex  Count  Year\n",
       "2083158       John   M   9655  1880\n",
       "2083159    William   M   9532  1880\n",
       "2083160       Mary   F   7065  1880\n",
       "...            ...  ..    ...   ...\n",
       "2085155     Wright   M      5  1880\n",
       "2085156       York   M      5  1880\n",
       "2085157  Zachariah   M      5  1880\n",
       "\n",
       "[2000 rows x 4 columns]"
      ]
     },
     "execution_count": 73,
     "metadata": {},
     "output_type": "execute_result"
    }
   ],
   "source": [
    "baby[(baby['Year'] == 1880)]"
   ]
  },
  {
   "cell_type": "code",
   "execution_count": 74,
   "id": "df97e95e",
   "metadata": {},
   "outputs": [
    {
     "data": {
      "text/plain": [
       "Name\n",
       "Grace      2\n",
       "Emma       2\n",
       "Clair      2\n",
       "          ..\n",
       "Evaline    1\n",
       "Evalena    1\n",
       "Zula       1\n",
       "Name: count, Length: 1889, dtype: int64"
      ]
     },
     "execution_count": 74,
     "metadata": {},
     "output_type": "execute_result"
    }
   ],
   "source": [
    "baby[(baby['Year'] == 1880)].value_counts('Name')"
   ]
  },
  {
   "cell_type": "markdown",
   "id": "5e7d10b7",
   "metadata": {
    "slideshow": {
     "slide_type": "slide"
    }
   },
   "source": [
    "### How many babies were recorded per year?"
   ]
  },
  {
   "cell_type": "code",
   "execution_count": 75,
   "id": "36d80e14",
   "metadata": {},
   "outputs": [
    {
     "data": {
      "text/plain": [
       "Year\n",
       "1880     201484\n",
       "1881     192690\n",
       "1882     221533\n",
       "         ...   \n",
       "2020    3333981\n",
       "2021    3379713\n",
       "2022    3361896\n",
       "Name: Count, Length: 143, dtype: int64"
      ]
     },
     "execution_count": 75,
     "metadata": {},
     "output_type": "execute_result"
    }
   ],
   "source": [
    "baby.groupby('Year')['Count'].sum()"
   ]
  },
  {
   "cell_type": "code",
   "execution_count": 76,
   "id": "c122d6cb-de97-4273-8165-307143d27191",
   "metadata": {},
   "outputs": [
    {
     "data": {
      "application/vnd.plotly.v1+json": {
       "config": {
        "plotlyServerURL": "https://plot.ly"
       },
       "data": [
        {
         "hovertemplate": "variable=Count<br>Year=%{x}<br>value=%{y}<extra></extra>",
         "legendgroup": "Count",
         "line": {
          "color": "#1F77B4",
          "dash": "solid"
         },
         "marker": {
          "symbol": "circle"
         },
         "mode": "lines",
         "name": "Count",
         "orientation": "v",
         "showlegend": true,
         "type": "scatter",
         "x": [
          1880,
          1881,
          1882,
          1883,
          1884,
          1885,
          1886,
          1887,
          1888,
          1889,
          1890,
          1891,
          1892,
          1893,
          1894,
          1895,
          1896,
          1897,
          1898,
          1899,
          1900,
          1901,
          1902,
          1903,
          1904,
          1905,
          1906,
          1907,
          1908,
          1909,
          1910,
          1911,
          1912,
          1913,
          1914,
          1915,
          1916,
          1917,
          1918,
          1919,
          1920,
          1921,
          1922,
          1923,
          1924,
          1925,
          1926,
          1927,
          1928,
          1929,
          1930,
          1931,
          1932,
          1933,
          1934,
          1935,
          1936,
          1937,
          1938,
          1939,
          1940,
          1941,
          1942,
          1943,
          1944,
          1945,
          1946,
          1947,
          1948,
          1949,
          1950,
          1951,
          1952,
          1953,
          1954,
          1955,
          1956,
          1957,
          1958,
          1959,
          1960,
          1961,
          1962,
          1963,
          1964,
          1965,
          1966,
          1967,
          1968,
          1969,
          1970,
          1971,
          1972,
          1973,
          1974,
          1975,
          1976,
          1977,
          1978,
          1979,
          1980,
          1981,
          1982,
          1983,
          1984,
          1985,
          1986,
          1987,
          1988,
          1989,
          1990,
          1991,
          1992,
          1993,
          1994,
          1995,
          1996,
          1997,
          1998,
          1999,
          2000,
          2001,
          2002,
          2003,
          2004,
          2005,
          2006,
          2007,
          2008,
          2009,
          2010,
          2011,
          2012,
          2013,
          2014,
          2015,
          2016,
          2017,
          2018,
          2019,
          2020,
          2021,
          2022
         ],
         "xaxis": "x",
         "y": [
          201484,
          192690,
          221533,
          216945,
          243461,
          240854,
          255317,
          247393,
          299473,
          288946,
          301401,
          286671,
          334374,
          325223,
          338690,
          351021,
          357484,
          346957,
          381456,
          339233,
          450261,
          345812,
          386732,
          381202,
          403485,
          423925,
          428451,
          465392,
          488652,
          511224,
          590712,
          644279,
          988060,
          1137111,
          1416346,
          1832430,
          1934418,
          2006755,
          2171110,
          2110251,
          2262650,
          2334504,
          2289152,
          2302494,
          2381621,
          2333321,
          2295896,
          2319355,
          2260901,
          2192169,
          2223280,
          2104348,
          2111263,
          1999408,
          2076766,
          2089819,
          2077525,
          2130624,
          2212563,
          2203405,
          2302599,
          2436340,
          2731726,
          2822506,
          2690007,
          2652849,
          3195248,
          3602222,
          3452480,
          3484713,
          3503404,
          3683765,
          3798034,
          3853609,
          3980710,
          4015068,
          4123085,
          4202494,
          4132767,
          4156722,
          4154291,
          4140926,
          4035048,
          3958590,
          3887673,
          3625625,
          3475631,
          3395010,
          3378557,
          3475646,
          3606829,
          3432482,
          3143319,
          3017121,
          3040206,
          3019730,
          3034634,
          3176703,
          3174191,
          3327313,
          3444839,
          3459588,
          3508180,
          3463440,
          3488736,
          3569014,
          3556951,
          3605439,
          3694759,
          3844303,
          3952106,
          3894988,
          3840964,
          3769983,
          3717356,
          3661887,
          3646918,
          3625528,
          3677981,
          3693617,
          3779618,
          3743094,
          3737794,
          3801760,
          3820359,
          3844167,
          3955317,
          3996648,
          3929428,
          3818823,
          3694428,
          3656309,
          3655713,
          3643652,
          3704186,
          3698388,
          3665860,
          3572758,
          3511750,
          3465821,
          3333981,
          3379713,
          3361896
         ],
         "yaxis": "y"
        }
       ],
       "layout": {
        "autosize": true,
        "legend": {
         "title": {
          "text": "variable"
         },
         "tracegroupgap": 0
        },
        "template": {
         "data": {
          "bar": [
           {
            "error_x": {
             "color": "rgb(36,36,36)"
            },
            "error_y": {
             "color": "rgb(36,36,36)"
            },
            "marker": {
             "line": {
              "color": "white",
              "width": 0.5
             },
             "pattern": {
              "fillmode": "overlay",
              "size": 10,
              "solidity": 0.2
             }
            },
            "type": "bar"
           }
          ],
          "barpolar": [
           {
            "marker": {
             "line": {
              "color": "white",
              "width": 0.5
             },
             "pattern": {
              "fillmode": "overlay",
              "size": 10,
              "solidity": 0.2
             }
            },
            "type": "barpolar"
           }
          ],
          "carpet": [
           {
            "aaxis": {
             "endlinecolor": "rgb(36,36,36)",
             "gridcolor": "white",
             "linecolor": "white",
             "minorgridcolor": "white",
             "startlinecolor": "rgb(36,36,36)"
            },
            "baxis": {
             "endlinecolor": "rgb(36,36,36)",
             "gridcolor": "white",
             "linecolor": "white",
             "minorgridcolor": "white",
             "startlinecolor": "rgb(36,36,36)"
            },
            "type": "carpet"
           }
          ],
          "choropleth": [
           {
            "colorbar": {
             "outlinewidth": 1,
             "tickcolor": "rgb(36,36,36)",
             "ticks": "outside"
            },
            "type": "choropleth"
           }
          ],
          "contour": [
           {
            "colorbar": {
             "outlinewidth": 1,
             "tickcolor": "rgb(36,36,36)",
             "ticks": "outside"
            },
            "colorscale": [
             [
              0,
              "#440154"
             ],
             [
              0.1111111111111111,
              "#482878"
             ],
             [
              0.2222222222222222,
              "#3e4989"
             ],
             [
              0.3333333333333333,
              "#31688e"
             ],
             [
              0.4444444444444444,
              "#26828e"
             ],
             [
              0.5555555555555556,
              "#1f9e89"
             ],
             [
              0.6666666666666666,
              "#35b779"
             ],
             [
              0.7777777777777778,
              "#6ece58"
             ],
             [
              0.8888888888888888,
              "#b5de2b"
             ],
             [
              1,
              "#fde725"
             ]
            ],
            "type": "contour"
           }
          ],
          "contourcarpet": [
           {
            "colorbar": {
             "outlinewidth": 1,
             "tickcolor": "rgb(36,36,36)",
             "ticks": "outside"
            },
            "type": "contourcarpet"
           }
          ],
          "heatmap": [
           {
            "colorbar": {
             "outlinewidth": 1,
             "tickcolor": "rgb(36,36,36)",
             "ticks": "outside"
            },
            "colorscale": [
             [
              0,
              "#440154"
             ],
             [
              0.1111111111111111,
              "#482878"
             ],
             [
              0.2222222222222222,
              "#3e4989"
             ],
             [
              0.3333333333333333,
              "#31688e"
             ],
             [
              0.4444444444444444,
              "#26828e"
             ],
             [
              0.5555555555555556,
              "#1f9e89"
             ],
             [
              0.6666666666666666,
              "#35b779"
             ],
             [
              0.7777777777777778,
              "#6ece58"
             ],
             [
              0.8888888888888888,
              "#b5de2b"
             ],
             [
              1,
              "#fde725"
             ]
            ],
            "type": "heatmap"
           }
          ],
          "heatmapgl": [
           {
            "colorbar": {
             "outlinewidth": 1,
             "tickcolor": "rgb(36,36,36)",
             "ticks": "outside"
            },
            "colorscale": [
             [
              0,
              "#440154"
             ],
             [
              0.1111111111111111,
              "#482878"
             ],
             [
              0.2222222222222222,
              "#3e4989"
             ],
             [
              0.3333333333333333,
              "#31688e"
             ],
             [
              0.4444444444444444,
              "#26828e"
             ],
             [
              0.5555555555555556,
              "#1f9e89"
             ],
             [
              0.6666666666666666,
              "#35b779"
             ],
             [
              0.7777777777777778,
              "#6ece58"
             ],
             [
              0.8888888888888888,
              "#b5de2b"
             ],
             [
              1,
              "#fde725"
             ]
            ],
            "type": "heatmapgl"
           }
          ],
          "histogram": [
           {
            "marker": {
             "line": {
              "color": "white",
              "width": 0.6
             }
            },
            "type": "histogram"
           }
          ],
          "histogram2d": [
           {
            "colorbar": {
             "outlinewidth": 1,
             "tickcolor": "rgb(36,36,36)",
             "ticks": "outside"
            },
            "colorscale": [
             [
              0,
              "#440154"
             ],
             [
              0.1111111111111111,
              "#482878"
             ],
             [
              0.2222222222222222,
              "#3e4989"
             ],
             [
              0.3333333333333333,
              "#31688e"
             ],
             [
              0.4444444444444444,
              "#26828e"
             ],
             [
              0.5555555555555556,
              "#1f9e89"
             ],
             [
              0.6666666666666666,
              "#35b779"
             ],
             [
              0.7777777777777778,
              "#6ece58"
             ],
             [
              0.8888888888888888,
              "#b5de2b"
             ],
             [
              1,
              "#fde725"
             ]
            ],
            "type": "histogram2d"
           }
          ],
          "histogram2dcontour": [
           {
            "colorbar": {
             "outlinewidth": 1,
             "tickcolor": "rgb(36,36,36)",
             "ticks": "outside"
            },
            "colorscale": [
             [
              0,
              "#440154"
             ],
             [
              0.1111111111111111,
              "#482878"
             ],
             [
              0.2222222222222222,
              "#3e4989"
             ],
             [
              0.3333333333333333,
              "#31688e"
             ],
             [
              0.4444444444444444,
              "#26828e"
             ],
             [
              0.5555555555555556,
              "#1f9e89"
             ],
             [
              0.6666666666666666,
              "#35b779"
             ],
             [
              0.7777777777777778,
              "#6ece58"
             ],
             [
              0.8888888888888888,
              "#b5de2b"
             ],
             [
              1,
              "#fde725"
             ]
            ],
            "type": "histogram2dcontour"
           }
          ],
          "mesh3d": [
           {
            "colorbar": {
             "outlinewidth": 1,
             "tickcolor": "rgb(36,36,36)",
             "ticks": "outside"
            },
            "type": "mesh3d"
           }
          ],
          "parcoords": [
           {
            "line": {
             "colorbar": {
              "outlinewidth": 1,
              "tickcolor": "rgb(36,36,36)",
              "ticks": "outside"
             }
            },
            "type": "parcoords"
           }
          ],
          "pie": [
           {
            "automargin": true,
            "type": "pie"
           }
          ],
          "scatter": [
           {
            "fillpattern": {
             "fillmode": "overlay",
             "size": 10,
             "solidity": 0.2
            },
            "type": "scatter"
           }
          ],
          "scatter3d": [
           {
            "line": {
             "colorbar": {
              "outlinewidth": 1,
              "tickcolor": "rgb(36,36,36)",
              "ticks": "outside"
             }
            },
            "marker": {
             "colorbar": {
              "outlinewidth": 1,
              "tickcolor": "rgb(36,36,36)",
              "ticks": "outside"
             }
            },
            "type": "scatter3d"
           }
          ],
          "scattercarpet": [
           {
            "marker": {
             "colorbar": {
              "outlinewidth": 1,
              "tickcolor": "rgb(36,36,36)",
              "ticks": "outside"
             }
            },
            "type": "scattercarpet"
           }
          ],
          "scattergeo": [
           {
            "marker": {
             "colorbar": {
              "outlinewidth": 1,
              "tickcolor": "rgb(36,36,36)",
              "ticks": "outside"
             }
            },
            "type": "scattergeo"
           }
          ],
          "scattergl": [
           {
            "marker": {
             "colorbar": {
              "outlinewidth": 1,
              "tickcolor": "rgb(36,36,36)",
              "ticks": "outside"
             }
            },
            "type": "scattergl"
           }
          ],
          "scattermapbox": [
           {
            "marker": {
             "colorbar": {
              "outlinewidth": 1,
              "tickcolor": "rgb(36,36,36)",
              "ticks": "outside"
             }
            },
            "type": "scattermapbox"
           }
          ],
          "scatterpolar": [
           {
            "marker": {
             "colorbar": {
              "outlinewidth": 1,
              "tickcolor": "rgb(36,36,36)",
              "ticks": "outside"
             }
            },
            "type": "scatterpolar"
           }
          ],
          "scatterpolargl": [
           {
            "marker": {
             "colorbar": {
              "outlinewidth": 1,
              "tickcolor": "rgb(36,36,36)",
              "ticks": "outside"
             }
            },
            "type": "scatterpolargl"
           }
          ],
          "scatterternary": [
           {
            "marker": {
             "colorbar": {
              "outlinewidth": 1,
              "tickcolor": "rgb(36,36,36)",
              "ticks": "outside"
             }
            },
            "type": "scatterternary"
           }
          ],
          "surface": [
           {
            "colorbar": {
             "outlinewidth": 1,
             "tickcolor": "rgb(36,36,36)",
             "ticks": "outside"
            },
            "colorscale": [
             [
              0,
              "#440154"
             ],
             [
              0.1111111111111111,
              "#482878"
             ],
             [
              0.2222222222222222,
              "#3e4989"
             ],
             [
              0.3333333333333333,
              "#31688e"
             ],
             [
              0.4444444444444444,
              "#26828e"
             ],
             [
              0.5555555555555556,
              "#1f9e89"
             ],
             [
              0.6666666666666666,
              "#35b779"
             ],
             [
              0.7777777777777778,
              "#6ece58"
             ],
             [
              0.8888888888888888,
              "#b5de2b"
             ],
             [
              1,
              "#fde725"
             ]
            ],
            "type": "surface"
           }
          ],
          "table": [
           {
            "cells": {
             "fill": {
              "color": "rgb(237,237,237)"
             },
             "line": {
              "color": "white"
             }
            },
            "header": {
             "fill": {
              "color": "rgb(217,217,217)"
             },
             "line": {
              "color": "white"
             }
            },
            "type": "table"
           }
          ]
         },
         "layout": {
          "annotationdefaults": {
           "arrowhead": 0,
           "arrowwidth": 1
          },
          "autosize": true,
          "autotypenumbers": "strict",
          "coloraxis": {
           "colorbar": {
            "outlinewidth": 1,
            "tickcolor": "rgb(36,36,36)",
            "ticks": "outside"
           }
          },
          "colorscale": {
           "diverging": [
            [
             0,
             "rgb(103,0,31)"
            ],
            [
             0.1,
             "rgb(178,24,43)"
            ],
            [
             0.2,
             "rgb(214,96,77)"
            ],
            [
             0.3,
             "rgb(244,165,130)"
            ],
            [
             0.4,
             "rgb(253,219,199)"
            ],
            [
             0.5,
             "rgb(247,247,247)"
            ],
            [
             0.6,
             "rgb(209,229,240)"
            ],
            [
             0.7,
             "rgb(146,197,222)"
            ],
            [
             0.8,
             "rgb(67,147,195)"
            ],
            [
             0.9,
             "rgb(33,102,172)"
            ],
            [
             1,
             "rgb(5,48,97)"
            ]
           ],
           "sequential": [
            [
             0,
             "#440154"
            ],
            [
             0.1111111111111111,
             "#482878"
            ],
            [
             0.2222222222222222,
             "#3e4989"
            ],
            [
             0.3333333333333333,
             "#31688e"
            ],
            [
             0.4444444444444444,
             "#26828e"
            ],
            [
             0.5555555555555556,
             "#1f9e89"
            ],
            [
             0.6666666666666666,
             "#35b779"
            ],
            [
             0.7777777777777778,
             "#6ece58"
            ],
            [
             0.8888888888888888,
             "#b5de2b"
            ],
            [
             1,
             "#fde725"
            ]
           ],
           "sequentialminus": [
            [
             0,
             "#440154"
            ],
            [
             0.1111111111111111,
             "#482878"
            ],
            [
             0.2222222222222222,
             "#3e4989"
            ],
            [
             0.3333333333333333,
             "#31688e"
            ],
            [
             0.4444444444444444,
             "#26828e"
            ],
            [
             0.5555555555555556,
             "#1f9e89"
            ],
            [
             0.6666666666666666,
             "#35b779"
            ],
            [
             0.7777777777777778,
             "#6ece58"
            ],
            [
             0.8888888888888888,
             "#b5de2b"
            ],
            [
             1,
             "#fde725"
            ]
           ]
          },
          "colorway": [
           "#1F77B4",
           "#FF7F0E",
           "#2CA02C",
           "#D62728",
           "#9467BD",
           "#8C564B",
           "#E377C2",
           "#7F7F7F",
           "#BCBD22",
           "#17BECF"
          ],
          "font": {
           "color": "rgb(36,36,36)"
          },
          "geo": {
           "bgcolor": "white",
           "lakecolor": "white",
           "landcolor": "white",
           "showlakes": true,
           "showland": true,
           "subunitcolor": "white"
          },
          "height": 400,
          "hoverlabel": {
           "align": "left"
          },
          "hovermode": "closest",
          "mapbox": {
           "style": "light"
          },
          "margin": {
           "b": 30,
           "l": 30,
           "r": 30,
           "t": 30
          },
          "paper_bgcolor": "white",
          "plot_bgcolor": "white",
          "polar": {
           "angularaxis": {
            "gridcolor": "rgb(232,232,232)",
            "linecolor": "rgb(36,36,36)",
            "showgrid": false,
            "showline": true,
            "ticks": "outside"
           },
           "bgcolor": "white",
           "radialaxis": {
            "gridcolor": "rgb(232,232,232)",
            "linecolor": "rgb(36,36,36)",
            "showgrid": false,
            "showline": true,
            "ticks": "outside"
           }
          },
          "scene": {
           "xaxis": {
            "backgroundcolor": "white",
            "gridcolor": "rgb(232,232,232)",
            "gridwidth": 2,
            "linecolor": "rgb(36,36,36)",
            "showbackground": true,
            "showgrid": false,
            "showline": true,
            "ticks": "outside",
            "zeroline": false,
            "zerolinecolor": "rgb(36,36,36)"
           },
           "yaxis": {
            "backgroundcolor": "white",
            "gridcolor": "rgb(232,232,232)",
            "gridwidth": 2,
            "linecolor": "rgb(36,36,36)",
            "showbackground": true,
            "showgrid": false,
            "showline": true,
            "ticks": "outside",
            "zeroline": false,
            "zerolinecolor": "rgb(36,36,36)"
           },
           "zaxis": {
            "backgroundcolor": "white",
            "gridcolor": "rgb(232,232,232)",
            "gridwidth": 2,
            "linecolor": "rgb(36,36,36)",
            "showbackground": true,
            "showgrid": false,
            "showline": true,
            "ticks": "outside",
            "zeroline": false,
            "zerolinecolor": "rgb(36,36,36)"
           }
          },
          "shapedefaults": {
           "fillcolor": "black",
           "line": {
            "width": 0
           },
           "opacity": 0.3
          },
          "ternary": {
           "aaxis": {
            "gridcolor": "rgb(232,232,232)",
            "linecolor": "rgb(36,36,36)",
            "showgrid": false,
            "showline": true,
            "ticks": "outside"
           },
           "baxis": {
            "gridcolor": "rgb(232,232,232)",
            "linecolor": "rgb(36,36,36)",
            "showgrid": false,
            "showline": true,
            "ticks": "outside"
           },
           "bgcolor": "white",
           "caxis": {
            "gridcolor": "rgb(232,232,232)",
            "linecolor": "rgb(36,36,36)",
            "showgrid": false,
            "showline": true,
            "ticks": "outside"
           }
          },
          "title": {
           "x": 0.5,
           "xanchor": "center"
          },
          "width": 600,
          "xaxis": {
           "automargin": true,
           "gridcolor": "rgb(232,232,232)",
           "linecolor": "rgb(36,36,36)",
           "showgrid": true,
           "showline": true,
           "ticks": "outside",
           "title": {
            "standoff": 15
           },
           "zeroline": false,
           "zerolinecolor": "rgb(36,36,36)"
          },
          "yaxis": {
           "automargin": true,
           "gridcolor": "rgb(232,232,232)",
           "linecolor": "rgb(36,36,36)",
           "showgrid": true,
           "showline": true,
           "ticks": "outside",
           "title": {
            "standoff": 15
           },
           "zeroline": false,
           "zerolinecolor": "rgb(36,36,36)"
          }
         }
        },
        "xaxis": {
         "anchor": "y",
         "autorange": true,
         "domain": [
          0,
          1
         ],
         "range": [
          1880,
          2022
         ],
         "title": {
          "text": "Year"
         },
         "type": "linear"
        },
        "yaxis": {
         "anchor": "x",
         "autorange": true,
         "domain": [
          0,
          1
         ],
         "range": [
          -30076.888888888905,
          4425260.888888889
         ],
         "title": {
          "text": "value"
         },
         "type": "linear"
        }
       }
      },
      "image/png": "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",
      "text/html": [
       "<div>                            <div id=\"bc197ffb-722a-487a-b3d1-cc77f087adc4\" class=\"plotly-graph-div\" style=\"height:400px; width:600px;\"></div>            <script type=\"text/javascript\">                require([\"plotly\"], function(Plotly) {                    window.PLOTLYENV=window.PLOTLYENV || {};                                    if (document.getElementById(\"bc197ffb-722a-487a-b3d1-cc77f087adc4\")) {                    Plotly.newPlot(                        \"bc197ffb-722a-487a-b3d1-cc77f087adc4\",                        [{\"hovertemplate\":\"variable=Count\\u003cbr\\u003eYear=%{x}\\u003cbr\\u003evalue=%{y}\\u003cextra\\u003e\\u003c\\u002fextra\\u003e\",\"legendgroup\":\"Count\",\"line\":{\"color\":\"#1F77B4\",\"dash\":\"solid\"},\"marker\":{\"symbol\":\"circle\"},\"mode\":\"lines\",\"name\":\"Count\",\"orientation\":\"v\",\"showlegend\":true,\"x\":[1880,1881,1882,1883,1884,1885,1886,1887,1888,1889,1890,1891,1892,1893,1894,1895,1896,1897,1898,1899,1900,1901,1902,1903,1904,1905,1906,1907,1908,1909,1910,1911,1912,1913,1914,1915,1916,1917,1918,1919,1920,1921,1922,1923,1924,1925,1926,1927,1928,1929,1930,1931,1932,1933,1934,1935,1936,1937,1938,1939,1940,1941,1942,1943,1944,1945,1946,1947,1948,1949,1950,1951,1952,1953,1954,1955,1956,1957,1958,1959,1960,1961,1962,1963,1964,1965,1966,1967,1968,1969,1970,1971,1972,1973,1974,1975,1976,1977,1978,1979,1980,1981,1982,1983,1984,1985,1986,1987,1988,1989,1990,1991,1992,1993,1994,1995,1996,1997,1998,1999,2000,2001,2002,2003,2004,2005,2006,2007,2008,2009,2010,2011,2012,2013,2014,2015,2016,2017,2018,2019,2020,2021,2022],\"xaxis\":\"x\",\"y\":[201484,192690,221533,216945,243461,240854,255317,247393,299473,288946,301401,286671,334374,325223,338690,351021,357484,346957,381456,339233,450261,345812,386732,381202,403485,423925,428451,465392,488652,511224,590712,644279,988060,1137111,1416346,1832430,1934418,2006755,2171110,2110251,2262650,2334504,2289152,2302494,2381621,2333321,2295896,2319355,2260901,2192169,2223280,2104348,2111263,1999408,2076766,2089819,2077525,2130624,2212563,2203405,2302599,2436340,2731726,2822506,2690007,2652849,3195248,3602222,3452480,3484713,3503404,3683765,3798034,3853609,3980710,4015068,4123085,4202494,4132767,4156722,4154291,4140926,4035048,3958590,3887673,3625625,3475631,3395010,3378557,3475646,3606829,3432482,3143319,3017121,3040206,3019730,3034634,3176703,3174191,3327313,3444839,3459588,3508180,3463440,3488736,3569014,3556951,3605439,3694759,3844303,3952106,3894988,3840964,3769983,3717356,3661887,3646918,3625528,3677981,3693617,3779618,3743094,3737794,3801760,3820359,3844167,3955317,3996648,3929428,3818823,3694428,3656309,3655713,3643652,3704186,3698388,3665860,3572758,3511750,3465821,3333981,3379713,3361896],\"yaxis\":\"y\",\"type\":\"scatter\"}],                        {\"template\":{\"data\":{\"barpolar\":[{\"marker\":{\"line\":{\"color\":\"white\",\"width\":0.5},\"pattern\":{\"fillmode\":\"overlay\",\"size\":10,\"solidity\":0.2}},\"type\":\"barpolar\"}],\"bar\":[{\"error_x\":{\"color\":\"rgb(36,36,36)\"},\"error_y\":{\"color\":\"rgb(36,36,36)\"},\"marker\":{\"line\":{\"color\":\"white\",\"width\":0.5},\"pattern\":{\"fillmode\":\"overlay\",\"size\":10,\"solidity\":0.2}},\"type\":\"bar\"}],\"carpet\":[{\"aaxis\":{\"endlinecolor\":\"rgb(36,36,36)\",\"gridcolor\":\"white\",\"linecolor\":\"white\",\"minorgridcolor\":\"white\",\"startlinecolor\":\"rgb(36,36,36)\"},\"baxis\":{\"endlinecolor\":\"rgb(36,36,36)\",\"gridcolor\":\"white\",\"linecolor\":\"white\",\"minorgridcolor\":\"white\",\"startlinecolor\":\"rgb(36,36,36)\"},\"type\":\"carpet\"}],\"choropleth\":[{\"colorbar\":{\"outlinewidth\":1,\"tickcolor\":\"rgb(36,36,36)\",\"ticks\":\"outside\"},\"type\":\"choropleth\"}],\"contourcarpet\":[{\"colorbar\":{\"outlinewidth\":1,\"tickcolor\":\"rgb(36,36,36)\",\"ticks\":\"outside\"},\"type\":\"contourcarpet\"}],\"contour\":[{\"colorbar\":{\"outlinewidth\":1,\"tickcolor\":\"rgb(36,36,36)\",\"ticks\":\"outside\"},\"colorscale\":[[0.0,\"#440154\"],[0.1111111111111111,\"#482878\"],[0.2222222222222222,\"#3e4989\"],[0.3333333333333333,\"#31688e\"],[0.4444444444444444,\"#26828e\"],[0.5555555555555556,\"#1f9e89\"],[0.6666666666666666,\"#35b779\"],[0.7777777777777778,\"#6ece58\"],[0.8888888888888888,\"#b5de2b\"],[1.0,\"#fde725\"]],\"type\":\"contour\"}],\"heatmapgl\":[{\"colorbar\":{\"outlinewidth\":1,\"tickcolor\":\"rgb(36,36,36)\",\"ticks\":\"outside\"},\"colorscale\":[[0.0,\"#440154\"],[0.1111111111111111,\"#482878\"],[0.2222222222222222,\"#3e4989\"],[0.3333333333333333,\"#31688e\"],[0.4444444444444444,\"#26828e\"],[0.5555555555555556,\"#1f9e89\"],[0.6666666666666666,\"#35b779\"],[0.7777777777777778,\"#6ece58\"],[0.8888888888888888,\"#b5de2b\"],[1.0,\"#fde725\"]],\"type\":\"heatmapgl\"}],\"heatmap\":[{\"colorbar\":{\"outlinewidth\":1,\"tickcolor\":\"rgb(36,36,36)\",\"ticks\":\"outside\"},\"colorscale\":[[0.0,\"#440154\"],[0.1111111111111111,\"#482878\"],[0.2222222222222222,\"#3e4989\"],[0.3333333333333333,\"#31688e\"],[0.4444444444444444,\"#26828e\"],[0.5555555555555556,\"#1f9e89\"],[0.6666666666666666,\"#35b779\"],[0.7777777777777778,\"#6ece58\"],[0.8888888888888888,\"#b5de2b\"],[1.0,\"#fde725\"]],\"type\":\"heatmap\"}],\"histogram2dcontour\":[{\"colorbar\":{\"outlinewidth\":1,\"tickcolor\":\"rgb(36,36,36)\",\"ticks\":\"outside\"},\"colorscale\":[[0.0,\"#440154\"],[0.1111111111111111,\"#482878\"],[0.2222222222222222,\"#3e4989\"],[0.3333333333333333,\"#31688e\"],[0.4444444444444444,\"#26828e\"],[0.5555555555555556,\"#1f9e89\"],[0.6666666666666666,\"#35b779\"],[0.7777777777777778,\"#6ece58\"],[0.8888888888888888,\"#b5de2b\"],[1.0,\"#fde725\"]],\"type\":\"histogram2dcontour\"}],\"histogram2d\":[{\"colorbar\":{\"outlinewidth\":1,\"tickcolor\":\"rgb(36,36,36)\",\"ticks\":\"outside\"},\"colorscale\":[[0.0,\"#440154\"],[0.1111111111111111,\"#482878\"],[0.2222222222222222,\"#3e4989\"],[0.3333333333333333,\"#31688e\"],[0.4444444444444444,\"#26828e\"],[0.5555555555555556,\"#1f9e89\"],[0.6666666666666666,\"#35b779\"],[0.7777777777777778,\"#6ece58\"],[0.8888888888888888,\"#b5de2b\"],[1.0,\"#fde725\"]],\"type\":\"histogram2d\"}],\"histogram\":[{\"marker\":{\"line\":{\"color\":\"white\",\"width\":0.6}},\"type\":\"histogram\"}],\"mesh3d\":[{\"colorbar\":{\"outlinewidth\":1,\"tickcolor\":\"rgb(36,36,36)\",\"ticks\":\"outside\"},\"type\":\"mesh3d\"}],\"parcoords\":[{\"line\":{\"colorbar\":{\"outlinewidth\":1,\"tickcolor\":\"rgb(36,36,36)\",\"ticks\":\"outside\"}},\"type\":\"parcoords\"}],\"pie\":[{\"automargin\":true,\"type\":\"pie\"}],\"scatter3d\":[{\"line\":{\"colorbar\":{\"outlinewidth\":1,\"tickcolor\":\"rgb(36,36,36)\",\"ticks\":\"outside\"}},\"marker\":{\"colorbar\":{\"outlinewidth\":1,\"tickcolor\":\"rgb(36,36,36)\",\"ticks\":\"outside\"}},\"type\":\"scatter3d\"}],\"scattercarpet\":[{\"marker\":{\"colorbar\":{\"outlinewidth\":1,\"tickcolor\":\"rgb(36,36,36)\",\"ticks\":\"outside\"}},\"type\":\"scattercarpet\"}],\"scattergeo\":[{\"marker\":{\"colorbar\":{\"outlinewidth\":1,\"tickcolor\":\"rgb(36,36,36)\",\"ticks\":\"outside\"}},\"type\":\"scattergeo\"}],\"scattergl\":[{\"marker\":{\"colorbar\":{\"outlinewidth\":1,\"tickcolor\":\"rgb(36,36,36)\",\"ticks\":\"outside\"}},\"type\":\"scattergl\"}],\"scattermapbox\":[{\"marker\":{\"colorbar\":{\"outlinewidth\":1,\"tickcolor\":\"rgb(36,36,36)\",\"ticks\":\"outside\"}},\"type\":\"scattermapbox\"}],\"scatterpolargl\":[{\"marker\":{\"colorbar\":{\"outlinewidth\":1,\"tickcolor\":\"rgb(36,36,36)\",\"ticks\":\"outside\"}},\"type\":\"scatterpolargl\"}],\"scatterpolar\":[{\"marker\":{\"colorbar\":{\"outlinewidth\":1,\"tickcolor\":\"rgb(36,36,36)\",\"ticks\":\"outside\"}},\"type\":\"scatterpolar\"}],\"scatter\":[{\"fillpattern\":{\"fillmode\":\"overlay\",\"size\":10,\"solidity\":0.2},\"type\":\"scatter\"}],\"scatterternary\":[{\"marker\":{\"colorbar\":{\"outlinewidth\":1,\"tickcolor\":\"rgb(36,36,36)\",\"ticks\":\"outside\"}},\"type\":\"scatterternary\"}],\"surface\":[{\"colorbar\":{\"outlinewidth\":1,\"tickcolor\":\"rgb(36,36,36)\",\"ticks\":\"outside\"},\"colorscale\":[[0.0,\"#440154\"],[0.1111111111111111,\"#482878\"],[0.2222222222222222,\"#3e4989\"],[0.3333333333333333,\"#31688e\"],[0.4444444444444444,\"#26828e\"],[0.5555555555555556,\"#1f9e89\"],[0.6666666666666666,\"#35b779\"],[0.7777777777777778,\"#6ece58\"],[0.8888888888888888,\"#b5de2b\"],[1.0,\"#fde725\"]],\"type\":\"surface\"}],\"table\":[{\"cells\":{\"fill\":{\"color\":\"rgb(237,237,237)\"},\"line\":{\"color\":\"white\"}},\"header\":{\"fill\":{\"color\":\"rgb(217,217,217)\"},\"line\":{\"color\":\"white\"}},\"type\":\"table\"}]},\"layout\":{\"annotationdefaults\":{\"arrowhead\":0,\"arrowwidth\":1},\"autotypenumbers\":\"strict\",\"coloraxis\":{\"colorbar\":{\"outlinewidth\":1,\"tickcolor\":\"rgb(36,36,36)\",\"ticks\":\"outside\"}},\"colorscale\":{\"diverging\":[[0.0,\"rgb(103,0,31)\"],[0.1,\"rgb(178,24,43)\"],[0.2,\"rgb(214,96,77)\"],[0.3,\"rgb(244,165,130)\"],[0.4,\"rgb(253,219,199)\"],[0.5,\"rgb(247,247,247)\"],[0.6,\"rgb(209,229,240)\"],[0.7,\"rgb(146,197,222)\"],[0.8,\"rgb(67,147,195)\"],[0.9,\"rgb(33,102,172)\"],[1.0,\"rgb(5,48,97)\"]],\"sequential\":[[0.0,\"#440154\"],[0.1111111111111111,\"#482878\"],[0.2222222222222222,\"#3e4989\"],[0.3333333333333333,\"#31688e\"],[0.4444444444444444,\"#26828e\"],[0.5555555555555556,\"#1f9e89\"],[0.6666666666666666,\"#35b779\"],[0.7777777777777778,\"#6ece58\"],[0.8888888888888888,\"#b5de2b\"],[1.0,\"#fde725\"]],\"sequentialminus\":[[0.0,\"#440154\"],[0.1111111111111111,\"#482878\"],[0.2222222222222222,\"#3e4989\"],[0.3333333333333333,\"#31688e\"],[0.4444444444444444,\"#26828e\"],[0.5555555555555556,\"#1f9e89\"],[0.6666666666666666,\"#35b779\"],[0.7777777777777778,\"#6ece58\"],[0.8888888888888888,\"#b5de2b\"],[1.0,\"#fde725\"]]},\"colorway\":[\"#1F77B4\",\"#FF7F0E\",\"#2CA02C\",\"#D62728\",\"#9467BD\",\"#8C564B\",\"#E377C2\",\"#7F7F7F\",\"#BCBD22\",\"#17BECF\"],\"font\":{\"color\":\"rgb(36,36,36)\"},\"geo\":{\"bgcolor\":\"white\",\"lakecolor\":\"white\",\"landcolor\":\"white\",\"showlakes\":true,\"showland\":true,\"subunitcolor\":\"white\"},\"hoverlabel\":{\"align\":\"left\"},\"hovermode\":\"closest\",\"mapbox\":{\"style\":\"light\"},\"paper_bgcolor\":\"white\",\"plot_bgcolor\":\"white\",\"polar\":{\"angularaxis\":{\"gridcolor\":\"rgb(232,232,232)\",\"linecolor\":\"rgb(36,36,36)\",\"showgrid\":false,\"showline\":true,\"ticks\":\"outside\"},\"bgcolor\":\"white\",\"radialaxis\":{\"gridcolor\":\"rgb(232,232,232)\",\"linecolor\":\"rgb(36,36,36)\",\"showgrid\":false,\"showline\":true,\"ticks\":\"outside\"}},\"scene\":{\"xaxis\":{\"backgroundcolor\":\"white\",\"gridcolor\":\"rgb(232,232,232)\",\"gridwidth\":2,\"linecolor\":\"rgb(36,36,36)\",\"showbackground\":true,\"showgrid\":false,\"showline\":true,\"ticks\":\"outside\",\"zeroline\":false,\"zerolinecolor\":\"rgb(36,36,36)\"},\"yaxis\":{\"backgroundcolor\":\"white\",\"gridcolor\":\"rgb(232,232,232)\",\"gridwidth\":2,\"linecolor\":\"rgb(36,36,36)\",\"showbackground\":true,\"showgrid\":false,\"showline\":true,\"ticks\":\"outside\",\"zeroline\":false,\"zerolinecolor\":\"rgb(36,36,36)\"},\"zaxis\":{\"backgroundcolor\":\"white\",\"gridcolor\":\"rgb(232,232,232)\",\"gridwidth\":2,\"linecolor\":\"rgb(36,36,36)\",\"showbackground\":true,\"showgrid\":false,\"showline\":true,\"ticks\":\"outside\",\"zeroline\":false,\"zerolinecolor\":\"rgb(36,36,36)\"}},\"shapedefaults\":{\"fillcolor\":\"black\",\"line\":{\"width\":0},\"opacity\":0.3},\"ternary\":{\"aaxis\":{\"gridcolor\":\"rgb(232,232,232)\",\"linecolor\":\"rgb(36,36,36)\",\"showgrid\":false,\"showline\":true,\"ticks\":\"outside\"},\"baxis\":{\"gridcolor\":\"rgb(232,232,232)\",\"linecolor\":\"rgb(36,36,36)\",\"showgrid\":false,\"showline\":true,\"ticks\":\"outside\"},\"bgcolor\":\"white\",\"caxis\":{\"gridcolor\":\"rgb(232,232,232)\",\"linecolor\":\"rgb(36,36,36)\",\"showgrid\":false,\"showline\":true,\"ticks\":\"outside\"}},\"title\":{\"x\":0.5,\"xanchor\":\"center\"},\"xaxis\":{\"automargin\":true,\"gridcolor\":\"rgb(232,232,232)\",\"linecolor\":\"rgb(36,36,36)\",\"showgrid\":true,\"showline\":true,\"ticks\":\"outside\",\"title\":{\"standoff\":15},\"zeroline\":false,\"zerolinecolor\":\"rgb(36,36,36)\"},\"yaxis\":{\"automargin\":true,\"gridcolor\":\"rgb(232,232,232)\",\"linecolor\":\"rgb(36,36,36)\",\"showgrid\":true,\"showline\":true,\"ticks\":\"outside\",\"title\":{\"standoff\":15},\"zeroline\":false,\"zerolinecolor\":\"rgb(36,36,36)\"},\"autosize\":true,\"height\":400,\"margin\":{\"b\":30,\"l\":30,\"r\":30,\"t\":30},\"width\":600}},\"xaxis\":{\"anchor\":\"y\",\"domain\":[0.0,1.0],\"title\":{\"text\":\"Year\"}},\"yaxis\":{\"anchor\":\"x\",\"domain\":[0.0,1.0],\"title\":{\"text\":\"value\"}},\"legend\":{\"title\":{\"text\":\"variable\"},\"tracegroupgap\":0}},                        {\"responsive\": true}                    ).then(function(){\n",
       "                            \n",
       "var gd = document.getElementById('bc197ffb-722a-487a-b3d1-cc77f087adc4');\n",
       "var x = new MutationObserver(function (mutations, observer) {{\n",
       "        var display = window.getComputedStyle(gd).display;\n",
       "        if (!display || display === 'none') {{\n",
       "            console.log([gd, 'removed!']);\n",
       "            Plotly.purge(gd);\n",
       "            observer.disconnect();\n",
       "        }}\n",
       "}});\n",
       "\n",
       "// Listen for the removal of the full notebook cells\n",
       "var notebookContainer = gd.closest('#notebook-container');\n",
       "if (notebookContainer) {{\n",
       "    x.observe(notebookContainer, {childList: true});\n",
       "}}\n",
       "\n",
       "// Listen for the clearing of the current output cell\n",
       "var outputEl = gd.closest('.output');\n",
       "if (outputEl) {{\n",
       "    x.observe(outputEl, {childList: true});\n",
       "}}\n",
       "\n",
       "                        })                };                });            </script>        </div>"
      ]
     },
     "metadata": {},
     "output_type": "display_data"
    }
   ],
   "source": [
    "baby.groupby('Year')['Count'].sum().plot()"
   ]
  },
  {
   "cell_type": "markdown",
   "id": "ebdfa572-488e-4276-acde-32c831754f6f",
   "metadata": {
    "slideshow": {
     "slide_type": "slide"
    },
    "tags": []
   },
   "source": [
    "### \"'L' has to be like the consonant of the decade.\""
   ]
  },
  {
   "cell_type": "code",
   "execution_count": 77,
   "id": "9228ce94-b4e6-4683-873d-5dda36d51b8a",
   "metadata": {
    "tags": []
   },
   "outputs": [
    {
     "data": {
      "application/vnd.plotly.v1+json": {
       "config": {
        "plotlyServerURL": "https://plot.ly"
       },
       "data": [
        {
         "hovertemplate": "variable=Count<br>Year=%{x}<br>value=%{y}<extra></extra>",
         "legendgroup": "Count",
         "line": {
          "color": "#1F77B4",
          "dash": "solid"
         },
         "marker": {
          "symbol": "circle"
         },
         "mode": "lines",
         "name": "Count",
         "orientation": "v",
         "showlegend": true,
         "type": "scatter",
         "x": [
          1880,
          1881,
          1882,
          1883,
          1884,
          1885,
          1886,
          1887,
          1888,
          1889,
          1890,
          1891,
          1892,
          1893,
          1894,
          1895,
          1896,
          1897,
          1898,
          1899,
          1900,
          1901,
          1902,
          1903,
          1904,
          1905,
          1906,
          1907,
          1908,
          1909,
          1910,
          1911,
          1912,
          1913,
          1914,
          1915,
          1916,
          1917,
          1918,
          1919,
          1920,
          1921,
          1922,
          1923,
          1924,
          1925,
          1926,
          1927,
          1928,
          1929,
          1930,
          1931,
          1932,
          1933,
          1934,
          1935,
          1936,
          1937,
          1938,
          1939,
          1940,
          1941,
          1942,
          1943,
          1944,
          1945,
          1946,
          1947,
          1948,
          1949,
          1950,
          1951,
          1952,
          1953,
          1954,
          1955,
          1956,
          1957,
          1958,
          1959,
          1960,
          1961,
          1962,
          1963,
          1964,
          1965,
          1966,
          1967,
          1968,
          1969,
          1970,
          1971,
          1972,
          1973,
          1974,
          1975,
          1976,
          1977,
          1978,
          1979,
          1980,
          1981,
          1982,
          1983,
          1984,
          1985,
          1986,
          1987,
          1988,
          1989,
          1990,
          1991,
          1992,
          1993,
          1994,
          1995,
          1996,
          1997,
          1998,
          1999,
          2000,
          2001,
          2002,
          2003,
          2004,
          2005,
          2006,
          2007,
          2008,
          2009,
          2010,
          2011,
          2012,
          2013,
          2014,
          2015,
          2016,
          2017,
          2018,
          2019,
          2020,
          2021,
          2022
         ],
         "xaxis": "x",
         "y": [
          12799,
          12770,
          14923,
          15106,
          16742,
          16977,
          18302,
          17901,
          21727,
          21299,
          22833,
          21522,
          25009,
          24547,
          26055,
          26572,
          27436,
          26782,
          29731,
          26133,
          35290,
          26902,
          30306,
          29988,
          31529,
          33338,
          33119,
          35906,
          37310,
          38681,
          44562,
          46888,
          69285,
          78036,
          96689,
          124007,
          129849,
          133931,
          145031,
          141151,
          147750,
          149744,
          145656,
          145915,
          148995,
          144375,
          139041,
          140214,
          133280,
          125860,
          125512,
          116330,
          115987,
          108082,
          110765,
          109231,
          107834,
          113004,
          118709,
          122357,
          134535,
          146477,
          165031,
          172733,
          165222,
          170331,
          202170,
          269411,
          257958,
          251488,
          239260,
          236032,
          232238,
          227853,
          230193,
          228337,
          233901,
          239100,
          240105,
          245111,
          257882,
          265766,
          258387,
          262783,
          247219,
          230141,
          215260,
          204765,
          202310,
          199565,
          191159,
          172708,
          150437,
          137855,
          134309,
          131872,
          133657,
          138152,
          139152,
          149686,
          157041,
          161225,
          163912,
          156977,
          158753,
          156570,
          148976,
          146431,
          148903,
          152056,
          149454,
          141632,
          136202,
          130649,
          124966,
          121632,
          122040,
          123427,
          126231,
          133652,
          141053,
          144280,
          152204,
          162620,
          170539,
          179917,
          194906,
          202984,
          207400,
          214465,
          218893,
          220737,
          227128,
          230532,
          241202,
          242705,
          243703,
          247535,
          246609,
          250005,
          241655,
          250104,
          250518
         ],
         "yaxis": "y"
        }
       ],
       "layout": {
        "autosize": true,
        "legend": {
         "title": {
          "text": "variable"
         },
         "tracegroupgap": 0
        },
        "template": {
         "data": {
          "bar": [
           {
            "error_x": {
             "color": "rgb(36,36,36)"
            },
            "error_y": {
             "color": "rgb(36,36,36)"
            },
            "marker": {
             "line": {
              "color": "white",
              "width": 0.5
             },
             "pattern": {
              "fillmode": "overlay",
              "size": 10,
              "solidity": 0.2
             }
            },
            "type": "bar"
           }
          ],
          "barpolar": [
           {
            "marker": {
             "line": {
              "color": "white",
              "width": 0.5
             },
             "pattern": {
              "fillmode": "overlay",
              "size": 10,
              "solidity": 0.2
             }
            },
            "type": "barpolar"
           }
          ],
          "carpet": [
           {
            "aaxis": {
             "endlinecolor": "rgb(36,36,36)",
             "gridcolor": "white",
             "linecolor": "white",
             "minorgridcolor": "white",
             "startlinecolor": "rgb(36,36,36)"
            },
            "baxis": {
             "endlinecolor": "rgb(36,36,36)",
             "gridcolor": "white",
             "linecolor": "white",
             "minorgridcolor": "white",
             "startlinecolor": "rgb(36,36,36)"
            },
            "type": "carpet"
           }
          ],
          "choropleth": [
           {
            "colorbar": {
             "outlinewidth": 1,
             "tickcolor": "rgb(36,36,36)",
             "ticks": "outside"
            },
            "type": "choropleth"
           }
          ],
          "contour": [
           {
            "colorbar": {
             "outlinewidth": 1,
             "tickcolor": "rgb(36,36,36)",
             "ticks": "outside"
            },
            "colorscale": [
             [
              0,
              "#440154"
             ],
             [
              0.1111111111111111,
              "#482878"
             ],
             [
              0.2222222222222222,
              "#3e4989"
             ],
             [
              0.3333333333333333,
              "#31688e"
             ],
             [
              0.4444444444444444,
              "#26828e"
             ],
             [
              0.5555555555555556,
              "#1f9e89"
             ],
             [
              0.6666666666666666,
              "#35b779"
             ],
             [
              0.7777777777777778,
              "#6ece58"
             ],
             [
              0.8888888888888888,
              "#b5de2b"
             ],
             [
              1,
              "#fde725"
             ]
            ],
            "type": "contour"
           }
          ],
          "contourcarpet": [
           {
            "colorbar": {
             "outlinewidth": 1,
             "tickcolor": "rgb(36,36,36)",
             "ticks": "outside"
            },
            "type": "contourcarpet"
           }
          ],
          "heatmap": [
           {
            "colorbar": {
             "outlinewidth": 1,
             "tickcolor": "rgb(36,36,36)",
             "ticks": "outside"
            },
            "colorscale": [
             [
              0,
              "#440154"
             ],
             [
              0.1111111111111111,
              "#482878"
             ],
             [
              0.2222222222222222,
              "#3e4989"
             ],
             [
              0.3333333333333333,
              "#31688e"
             ],
             [
              0.4444444444444444,
              "#26828e"
             ],
             [
              0.5555555555555556,
              "#1f9e89"
             ],
             [
              0.6666666666666666,
              "#35b779"
             ],
             [
              0.7777777777777778,
              "#6ece58"
             ],
             [
              0.8888888888888888,
              "#b5de2b"
             ],
             [
              1,
              "#fde725"
             ]
            ],
            "type": "heatmap"
           }
          ],
          "heatmapgl": [
           {
            "colorbar": {
             "outlinewidth": 1,
             "tickcolor": "rgb(36,36,36)",
             "ticks": "outside"
            },
            "colorscale": [
             [
              0,
              "#440154"
             ],
             [
              0.1111111111111111,
              "#482878"
             ],
             [
              0.2222222222222222,
              "#3e4989"
             ],
             [
              0.3333333333333333,
              "#31688e"
             ],
             [
              0.4444444444444444,
              "#26828e"
             ],
             [
              0.5555555555555556,
              "#1f9e89"
             ],
             [
              0.6666666666666666,
              "#35b779"
             ],
             [
              0.7777777777777778,
              "#6ece58"
             ],
             [
              0.8888888888888888,
              "#b5de2b"
             ],
             [
              1,
              "#fde725"
             ]
            ],
            "type": "heatmapgl"
           }
          ],
          "histogram": [
           {
            "marker": {
             "line": {
              "color": "white",
              "width": 0.6
             }
            },
            "type": "histogram"
           }
          ],
          "histogram2d": [
           {
            "colorbar": {
             "outlinewidth": 1,
             "tickcolor": "rgb(36,36,36)",
             "ticks": "outside"
            },
            "colorscale": [
             [
              0,
              "#440154"
             ],
             [
              0.1111111111111111,
              "#482878"
             ],
             [
              0.2222222222222222,
              "#3e4989"
             ],
             [
              0.3333333333333333,
              "#31688e"
             ],
             [
              0.4444444444444444,
              "#26828e"
             ],
             [
              0.5555555555555556,
              "#1f9e89"
             ],
             [
              0.6666666666666666,
              "#35b779"
             ],
             [
              0.7777777777777778,
              "#6ece58"
             ],
             [
              0.8888888888888888,
              "#b5de2b"
             ],
             [
              1,
              "#fde725"
             ]
            ],
            "type": "histogram2d"
           }
          ],
          "histogram2dcontour": [
           {
            "colorbar": {
             "outlinewidth": 1,
             "tickcolor": "rgb(36,36,36)",
             "ticks": "outside"
            },
            "colorscale": [
             [
              0,
              "#440154"
             ],
             [
              0.1111111111111111,
              "#482878"
             ],
             [
              0.2222222222222222,
              "#3e4989"
             ],
             [
              0.3333333333333333,
              "#31688e"
             ],
             [
              0.4444444444444444,
              "#26828e"
             ],
             [
              0.5555555555555556,
              "#1f9e89"
             ],
             [
              0.6666666666666666,
              "#35b779"
             ],
             [
              0.7777777777777778,
              "#6ece58"
             ],
             [
              0.8888888888888888,
              "#b5de2b"
             ],
             [
              1,
              "#fde725"
             ]
            ],
            "type": "histogram2dcontour"
           }
          ],
          "mesh3d": [
           {
            "colorbar": {
             "outlinewidth": 1,
             "tickcolor": "rgb(36,36,36)",
             "ticks": "outside"
            },
            "type": "mesh3d"
           }
          ],
          "parcoords": [
           {
            "line": {
             "colorbar": {
              "outlinewidth": 1,
              "tickcolor": "rgb(36,36,36)",
              "ticks": "outside"
             }
            },
            "type": "parcoords"
           }
          ],
          "pie": [
           {
            "automargin": true,
            "type": "pie"
           }
          ],
          "scatter": [
           {
            "fillpattern": {
             "fillmode": "overlay",
             "size": 10,
             "solidity": 0.2
            },
            "type": "scatter"
           }
          ],
          "scatter3d": [
           {
            "line": {
             "colorbar": {
              "outlinewidth": 1,
              "tickcolor": "rgb(36,36,36)",
              "ticks": "outside"
             }
            },
            "marker": {
             "colorbar": {
              "outlinewidth": 1,
              "tickcolor": "rgb(36,36,36)",
              "ticks": "outside"
             }
            },
            "type": "scatter3d"
           }
          ],
          "scattercarpet": [
           {
            "marker": {
             "colorbar": {
              "outlinewidth": 1,
              "tickcolor": "rgb(36,36,36)",
              "ticks": "outside"
             }
            },
            "type": "scattercarpet"
           }
          ],
          "scattergeo": [
           {
            "marker": {
             "colorbar": {
              "outlinewidth": 1,
              "tickcolor": "rgb(36,36,36)",
              "ticks": "outside"
             }
            },
            "type": "scattergeo"
           }
          ],
          "scattergl": [
           {
            "marker": {
             "colorbar": {
              "outlinewidth": 1,
              "tickcolor": "rgb(36,36,36)",
              "ticks": "outside"
             }
            },
            "type": "scattergl"
           }
          ],
          "scattermapbox": [
           {
            "marker": {
             "colorbar": {
              "outlinewidth": 1,
              "tickcolor": "rgb(36,36,36)",
              "ticks": "outside"
             }
            },
            "type": "scattermapbox"
           }
          ],
          "scatterpolar": [
           {
            "marker": {
             "colorbar": {
              "outlinewidth": 1,
              "tickcolor": "rgb(36,36,36)",
              "ticks": "outside"
             }
            },
            "type": "scatterpolar"
           }
          ],
          "scatterpolargl": [
           {
            "marker": {
             "colorbar": {
              "outlinewidth": 1,
              "tickcolor": "rgb(36,36,36)",
              "ticks": "outside"
             }
            },
            "type": "scatterpolargl"
           }
          ],
          "scatterternary": [
           {
            "marker": {
             "colorbar": {
              "outlinewidth": 1,
              "tickcolor": "rgb(36,36,36)",
              "ticks": "outside"
             }
            },
            "type": "scatterternary"
           }
          ],
          "surface": [
           {
            "colorbar": {
             "outlinewidth": 1,
             "tickcolor": "rgb(36,36,36)",
             "ticks": "outside"
            },
            "colorscale": [
             [
              0,
              "#440154"
             ],
             [
              0.1111111111111111,
              "#482878"
             ],
             [
              0.2222222222222222,
              "#3e4989"
             ],
             [
              0.3333333333333333,
              "#31688e"
             ],
             [
              0.4444444444444444,
              "#26828e"
             ],
             [
              0.5555555555555556,
              "#1f9e89"
             ],
             [
              0.6666666666666666,
              "#35b779"
             ],
             [
              0.7777777777777778,
              "#6ece58"
             ],
             [
              0.8888888888888888,
              "#b5de2b"
             ],
             [
              1,
              "#fde725"
             ]
            ],
            "type": "surface"
           }
          ],
          "table": [
           {
            "cells": {
             "fill": {
              "color": "rgb(237,237,237)"
             },
             "line": {
              "color": "white"
             }
            },
            "header": {
             "fill": {
              "color": "rgb(217,217,217)"
             },
             "line": {
              "color": "white"
             }
            },
            "type": "table"
           }
          ]
         },
         "layout": {
          "annotationdefaults": {
           "arrowhead": 0,
           "arrowwidth": 1
          },
          "autosize": true,
          "autotypenumbers": "strict",
          "coloraxis": {
           "colorbar": {
            "outlinewidth": 1,
            "tickcolor": "rgb(36,36,36)",
            "ticks": "outside"
           }
          },
          "colorscale": {
           "diverging": [
            [
             0,
             "rgb(103,0,31)"
            ],
            [
             0.1,
             "rgb(178,24,43)"
            ],
            [
             0.2,
             "rgb(214,96,77)"
            ],
            [
             0.3,
             "rgb(244,165,130)"
            ],
            [
             0.4,
             "rgb(253,219,199)"
            ],
            [
             0.5,
             "rgb(247,247,247)"
            ],
            [
             0.6,
             "rgb(209,229,240)"
            ],
            [
             0.7,
             "rgb(146,197,222)"
            ],
            [
             0.8,
             "rgb(67,147,195)"
            ],
            [
             0.9,
             "rgb(33,102,172)"
            ],
            [
             1,
             "rgb(5,48,97)"
            ]
           ],
           "sequential": [
            [
             0,
             "#440154"
            ],
            [
             0.1111111111111111,
             "#482878"
            ],
            [
             0.2222222222222222,
             "#3e4989"
            ],
            [
             0.3333333333333333,
             "#31688e"
            ],
            [
             0.4444444444444444,
             "#26828e"
            ],
            [
             0.5555555555555556,
             "#1f9e89"
            ],
            [
             0.6666666666666666,
             "#35b779"
            ],
            [
             0.7777777777777778,
             "#6ece58"
            ],
            [
             0.8888888888888888,
             "#b5de2b"
            ],
            [
             1,
             "#fde725"
            ]
           ],
           "sequentialminus": [
            [
             0,
             "#440154"
            ],
            [
             0.1111111111111111,
             "#482878"
            ],
            [
             0.2222222222222222,
             "#3e4989"
            ],
            [
             0.3333333333333333,
             "#31688e"
            ],
            [
             0.4444444444444444,
             "#26828e"
            ],
            [
             0.5555555555555556,
             "#1f9e89"
            ],
            [
             0.6666666666666666,
             "#35b779"
            ],
            [
             0.7777777777777778,
             "#6ece58"
            ],
            [
             0.8888888888888888,
             "#b5de2b"
            ],
            [
             1,
             "#fde725"
            ]
           ]
          },
          "colorway": [
           "#1F77B4",
           "#FF7F0E",
           "#2CA02C",
           "#D62728",
           "#9467BD",
           "#8C564B",
           "#E377C2",
           "#7F7F7F",
           "#BCBD22",
           "#17BECF"
          ],
          "font": {
           "color": "rgb(36,36,36)"
          },
          "geo": {
           "bgcolor": "white",
           "lakecolor": "white",
           "landcolor": "white",
           "showlakes": true,
           "showland": true,
           "subunitcolor": "white"
          },
          "height": 400,
          "hoverlabel": {
           "align": "left"
          },
          "hovermode": "closest",
          "mapbox": {
           "style": "light"
          },
          "margin": {
           "b": 30,
           "l": 30,
           "r": 30,
           "t": 30
          },
          "paper_bgcolor": "white",
          "plot_bgcolor": "white",
          "polar": {
           "angularaxis": {
            "gridcolor": "rgb(232,232,232)",
            "linecolor": "rgb(36,36,36)",
            "showgrid": false,
            "showline": true,
            "ticks": "outside"
           },
           "bgcolor": "white",
           "radialaxis": {
            "gridcolor": "rgb(232,232,232)",
            "linecolor": "rgb(36,36,36)",
            "showgrid": false,
            "showline": true,
            "ticks": "outside"
           }
          },
          "scene": {
           "xaxis": {
            "backgroundcolor": "white",
            "gridcolor": "rgb(232,232,232)",
            "gridwidth": 2,
            "linecolor": "rgb(36,36,36)",
            "showbackground": true,
            "showgrid": false,
            "showline": true,
            "ticks": "outside",
            "zeroline": false,
            "zerolinecolor": "rgb(36,36,36)"
           },
           "yaxis": {
            "backgroundcolor": "white",
            "gridcolor": "rgb(232,232,232)",
            "gridwidth": 2,
            "linecolor": "rgb(36,36,36)",
            "showbackground": true,
            "showgrid": false,
            "showline": true,
            "ticks": "outside",
            "zeroline": false,
            "zerolinecolor": "rgb(36,36,36)"
           },
           "zaxis": {
            "backgroundcolor": "white",
            "gridcolor": "rgb(232,232,232)",
            "gridwidth": 2,
            "linecolor": "rgb(36,36,36)",
            "showbackground": true,
            "showgrid": false,
            "showline": true,
            "ticks": "outside",
            "zeroline": false,
            "zerolinecolor": "rgb(36,36,36)"
           }
          },
          "shapedefaults": {
           "fillcolor": "black",
           "line": {
            "width": 0
           },
           "opacity": 0.3
          },
          "ternary": {
           "aaxis": {
            "gridcolor": "rgb(232,232,232)",
            "linecolor": "rgb(36,36,36)",
            "showgrid": false,
            "showline": true,
            "ticks": "outside"
           },
           "baxis": {
            "gridcolor": "rgb(232,232,232)",
            "linecolor": "rgb(36,36,36)",
            "showgrid": false,
            "showline": true,
            "ticks": "outside"
           },
           "bgcolor": "white",
           "caxis": {
            "gridcolor": "rgb(232,232,232)",
            "linecolor": "rgb(36,36,36)",
            "showgrid": false,
            "showline": true,
            "ticks": "outside"
           }
          },
          "title": {
           "x": 0.5,
           "xanchor": "center"
          },
          "width": 600,
          "xaxis": {
           "automargin": true,
           "gridcolor": "rgb(232,232,232)",
           "linecolor": "rgb(36,36,36)",
           "showgrid": true,
           "showline": true,
           "ticks": "outside",
           "title": {
            "standoff": 15
           },
           "zeroline": false,
           "zerolinecolor": "rgb(36,36,36)"
          },
          "yaxis": {
           "automargin": true,
           "gridcolor": "rgb(232,232,232)",
           "linecolor": "rgb(36,36,36)",
           "showgrid": true,
           "showline": true,
           "ticks": "outside",
           "title": {
            "standoff": 15
           },
           "zeroline": false,
           "zerolinecolor": "rgb(36,36,36)"
          }
         }
        },
        "title": {
         "text": "Number of Babies Born with an \"L\" Name Per Year"
        },
        "xaxis": {
         "anchor": "y",
         "autorange": true,
         "domain": [
          0,
          1
         ],
         "range": [
          1880,
          2022
         ],
         "title": {
          "text": "Year"
         },
         "type": "linear"
        },
        "yaxis": {
         "anchor": "x",
         "autorange": true,
         "domain": [
          0,
          1
         ],
         "range": [
          -1487.833333333334,
          283668.8333333333
         ],
         "title": {
          "text": "value"
         },
         "type": "linear"
        }
       }
      },
      "image/png": "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",
      "text/html": [
       "<div>                            <div id=\"9429b082-8817-4e16-bc98-922058a81009\" class=\"plotly-graph-div\" style=\"height:400px; width:600px;\"></div>            <script type=\"text/javascript\">                require([\"plotly\"], function(Plotly) {                    window.PLOTLYENV=window.PLOTLYENV || {};                                    if (document.getElementById(\"9429b082-8817-4e16-bc98-922058a81009\")) {                    Plotly.newPlot(                        \"9429b082-8817-4e16-bc98-922058a81009\",                        [{\"hovertemplate\":\"variable=Count\\u003cbr\\u003eYear=%{x}\\u003cbr\\u003evalue=%{y}\\u003cextra\\u003e\\u003c\\u002fextra\\u003e\",\"legendgroup\":\"Count\",\"line\":{\"color\":\"#1F77B4\",\"dash\":\"solid\"},\"marker\":{\"symbol\":\"circle\"},\"mode\":\"lines\",\"name\":\"Count\",\"orientation\":\"v\",\"showlegend\":true,\"x\":[1880,1881,1882,1883,1884,1885,1886,1887,1888,1889,1890,1891,1892,1893,1894,1895,1896,1897,1898,1899,1900,1901,1902,1903,1904,1905,1906,1907,1908,1909,1910,1911,1912,1913,1914,1915,1916,1917,1918,1919,1920,1921,1922,1923,1924,1925,1926,1927,1928,1929,1930,1931,1932,1933,1934,1935,1936,1937,1938,1939,1940,1941,1942,1943,1944,1945,1946,1947,1948,1949,1950,1951,1952,1953,1954,1955,1956,1957,1958,1959,1960,1961,1962,1963,1964,1965,1966,1967,1968,1969,1970,1971,1972,1973,1974,1975,1976,1977,1978,1979,1980,1981,1982,1983,1984,1985,1986,1987,1988,1989,1990,1991,1992,1993,1994,1995,1996,1997,1998,1999,2000,2001,2002,2003,2004,2005,2006,2007,2008,2009,2010,2011,2012,2013,2014,2015,2016,2017,2018,2019,2020,2021,2022],\"xaxis\":\"x\",\"y\":[12799,12770,14923,15106,16742,16977,18302,17901,21727,21299,22833,21522,25009,24547,26055,26572,27436,26782,29731,26133,35290,26902,30306,29988,31529,33338,33119,35906,37310,38681,44562,46888,69285,78036,96689,124007,129849,133931,145031,141151,147750,149744,145656,145915,148995,144375,139041,140214,133280,125860,125512,116330,115987,108082,110765,109231,107834,113004,118709,122357,134535,146477,165031,172733,165222,170331,202170,269411,257958,251488,239260,236032,232238,227853,230193,228337,233901,239100,240105,245111,257882,265766,258387,262783,247219,230141,215260,204765,202310,199565,191159,172708,150437,137855,134309,131872,133657,138152,139152,149686,157041,161225,163912,156977,158753,156570,148976,146431,148903,152056,149454,141632,136202,130649,124966,121632,122040,123427,126231,133652,141053,144280,152204,162620,170539,179917,194906,202984,207400,214465,218893,220737,227128,230532,241202,242705,243703,247535,246609,250005,241655,250104,250518],\"yaxis\":\"y\",\"type\":\"scatter\"}],                        {\"template\":{\"data\":{\"barpolar\":[{\"marker\":{\"line\":{\"color\":\"white\",\"width\":0.5},\"pattern\":{\"fillmode\":\"overlay\",\"size\":10,\"solidity\":0.2}},\"type\":\"barpolar\"}],\"bar\":[{\"error_x\":{\"color\":\"rgb(36,36,36)\"},\"error_y\":{\"color\":\"rgb(36,36,36)\"},\"marker\":{\"line\":{\"color\":\"white\",\"width\":0.5},\"pattern\":{\"fillmode\":\"overlay\",\"size\":10,\"solidity\":0.2}},\"type\":\"bar\"}],\"carpet\":[{\"aaxis\":{\"endlinecolor\":\"rgb(36,36,36)\",\"gridcolor\":\"white\",\"linecolor\":\"white\",\"minorgridcolor\":\"white\",\"startlinecolor\":\"rgb(36,36,36)\"},\"baxis\":{\"endlinecolor\":\"rgb(36,36,36)\",\"gridcolor\":\"white\",\"linecolor\":\"white\",\"minorgridcolor\":\"white\",\"startlinecolor\":\"rgb(36,36,36)\"},\"type\":\"carpet\"}],\"choropleth\":[{\"colorbar\":{\"outlinewidth\":1,\"tickcolor\":\"rgb(36,36,36)\",\"ticks\":\"outside\"},\"type\":\"choropleth\"}],\"contourcarpet\":[{\"colorbar\":{\"outlinewidth\":1,\"tickcolor\":\"rgb(36,36,36)\",\"ticks\":\"outside\"},\"type\":\"contourcarpet\"}],\"contour\":[{\"colorbar\":{\"outlinewidth\":1,\"tickcolor\":\"rgb(36,36,36)\",\"ticks\":\"outside\"},\"colorscale\":[[0.0,\"#440154\"],[0.1111111111111111,\"#482878\"],[0.2222222222222222,\"#3e4989\"],[0.3333333333333333,\"#31688e\"],[0.4444444444444444,\"#26828e\"],[0.5555555555555556,\"#1f9e89\"],[0.6666666666666666,\"#35b779\"],[0.7777777777777778,\"#6ece58\"],[0.8888888888888888,\"#b5de2b\"],[1.0,\"#fde725\"]],\"type\":\"contour\"}],\"heatmapgl\":[{\"colorbar\":{\"outlinewidth\":1,\"tickcolor\":\"rgb(36,36,36)\",\"ticks\":\"outside\"},\"colorscale\":[[0.0,\"#440154\"],[0.1111111111111111,\"#482878\"],[0.2222222222222222,\"#3e4989\"],[0.3333333333333333,\"#31688e\"],[0.4444444444444444,\"#26828e\"],[0.5555555555555556,\"#1f9e89\"],[0.6666666666666666,\"#35b779\"],[0.7777777777777778,\"#6ece58\"],[0.8888888888888888,\"#b5de2b\"],[1.0,\"#fde725\"]],\"type\":\"heatmapgl\"}],\"heatmap\":[{\"colorbar\":{\"outlinewidth\":1,\"tickcolor\":\"rgb(36,36,36)\",\"ticks\":\"outside\"},\"colorscale\":[[0.0,\"#440154\"],[0.1111111111111111,\"#482878\"],[0.2222222222222222,\"#3e4989\"],[0.3333333333333333,\"#31688e\"],[0.4444444444444444,\"#26828e\"],[0.5555555555555556,\"#1f9e89\"],[0.6666666666666666,\"#35b779\"],[0.7777777777777778,\"#6ece58\"],[0.8888888888888888,\"#b5de2b\"],[1.0,\"#fde725\"]],\"type\":\"heatmap\"}],\"histogram2dcontour\":[{\"colorbar\":{\"outlinewidth\":1,\"tickcolor\":\"rgb(36,36,36)\",\"ticks\":\"outside\"},\"colorscale\":[[0.0,\"#440154\"],[0.1111111111111111,\"#482878\"],[0.2222222222222222,\"#3e4989\"],[0.3333333333333333,\"#31688e\"],[0.4444444444444444,\"#26828e\"],[0.5555555555555556,\"#1f9e89\"],[0.6666666666666666,\"#35b779\"],[0.7777777777777778,\"#6ece58\"],[0.8888888888888888,\"#b5de2b\"],[1.0,\"#fde725\"]],\"type\":\"histogram2dcontour\"}],\"histogram2d\":[{\"colorbar\":{\"outlinewidth\":1,\"tickcolor\":\"rgb(36,36,36)\",\"ticks\":\"outside\"},\"colorscale\":[[0.0,\"#440154\"],[0.1111111111111111,\"#482878\"],[0.2222222222222222,\"#3e4989\"],[0.3333333333333333,\"#31688e\"],[0.4444444444444444,\"#26828e\"],[0.5555555555555556,\"#1f9e89\"],[0.6666666666666666,\"#35b779\"],[0.7777777777777778,\"#6ece58\"],[0.8888888888888888,\"#b5de2b\"],[1.0,\"#fde725\"]],\"type\":\"histogram2d\"}],\"histogram\":[{\"marker\":{\"line\":{\"color\":\"white\",\"width\":0.6}},\"type\":\"histogram\"}],\"mesh3d\":[{\"colorbar\":{\"outlinewidth\":1,\"tickcolor\":\"rgb(36,36,36)\",\"ticks\":\"outside\"},\"type\":\"mesh3d\"}],\"parcoords\":[{\"line\":{\"colorbar\":{\"outlinewidth\":1,\"tickcolor\":\"rgb(36,36,36)\",\"ticks\":\"outside\"}},\"type\":\"parcoords\"}],\"pie\":[{\"automargin\":true,\"type\":\"pie\"}],\"scatter3d\":[{\"line\":{\"colorbar\":{\"outlinewidth\":1,\"tickcolor\":\"rgb(36,36,36)\",\"ticks\":\"outside\"}},\"marker\":{\"colorbar\":{\"outlinewidth\":1,\"tickcolor\":\"rgb(36,36,36)\",\"ticks\":\"outside\"}},\"type\":\"scatter3d\"}],\"scattercarpet\":[{\"marker\":{\"colorbar\":{\"outlinewidth\":1,\"tickcolor\":\"rgb(36,36,36)\",\"ticks\":\"outside\"}},\"type\":\"scattercarpet\"}],\"scattergeo\":[{\"marker\":{\"colorbar\":{\"outlinewidth\":1,\"tickcolor\":\"rgb(36,36,36)\",\"ticks\":\"outside\"}},\"type\":\"scattergeo\"}],\"scattergl\":[{\"marker\":{\"colorbar\":{\"outlinewidth\":1,\"tickcolor\":\"rgb(36,36,36)\",\"ticks\":\"outside\"}},\"type\":\"scattergl\"}],\"scattermapbox\":[{\"marker\":{\"colorbar\":{\"outlinewidth\":1,\"tickcolor\":\"rgb(36,36,36)\",\"ticks\":\"outside\"}},\"type\":\"scattermapbox\"}],\"scatterpolargl\":[{\"marker\":{\"colorbar\":{\"outlinewidth\":1,\"tickcolor\":\"rgb(36,36,36)\",\"ticks\":\"outside\"}},\"type\":\"scatterpolargl\"}],\"scatterpolar\":[{\"marker\":{\"colorbar\":{\"outlinewidth\":1,\"tickcolor\":\"rgb(36,36,36)\",\"ticks\":\"outside\"}},\"type\":\"scatterpolar\"}],\"scatter\":[{\"fillpattern\":{\"fillmode\":\"overlay\",\"size\":10,\"solidity\":0.2},\"type\":\"scatter\"}],\"scatterternary\":[{\"marker\":{\"colorbar\":{\"outlinewidth\":1,\"tickcolor\":\"rgb(36,36,36)\",\"ticks\":\"outside\"}},\"type\":\"scatterternary\"}],\"surface\":[{\"colorbar\":{\"outlinewidth\":1,\"tickcolor\":\"rgb(36,36,36)\",\"ticks\":\"outside\"},\"colorscale\":[[0.0,\"#440154\"],[0.1111111111111111,\"#482878\"],[0.2222222222222222,\"#3e4989\"],[0.3333333333333333,\"#31688e\"],[0.4444444444444444,\"#26828e\"],[0.5555555555555556,\"#1f9e89\"],[0.6666666666666666,\"#35b779\"],[0.7777777777777778,\"#6ece58\"],[0.8888888888888888,\"#b5de2b\"],[1.0,\"#fde725\"]],\"type\":\"surface\"}],\"table\":[{\"cells\":{\"fill\":{\"color\":\"rgb(237,237,237)\"},\"line\":{\"color\":\"white\"}},\"header\":{\"fill\":{\"color\":\"rgb(217,217,217)\"},\"line\":{\"color\":\"white\"}},\"type\":\"table\"}]},\"layout\":{\"annotationdefaults\":{\"arrowhead\":0,\"arrowwidth\":1},\"autotypenumbers\":\"strict\",\"coloraxis\":{\"colorbar\":{\"outlinewidth\":1,\"tickcolor\":\"rgb(36,36,36)\",\"ticks\":\"outside\"}},\"colorscale\":{\"diverging\":[[0.0,\"rgb(103,0,31)\"],[0.1,\"rgb(178,24,43)\"],[0.2,\"rgb(214,96,77)\"],[0.3,\"rgb(244,165,130)\"],[0.4,\"rgb(253,219,199)\"],[0.5,\"rgb(247,247,247)\"],[0.6,\"rgb(209,229,240)\"],[0.7,\"rgb(146,197,222)\"],[0.8,\"rgb(67,147,195)\"],[0.9,\"rgb(33,102,172)\"],[1.0,\"rgb(5,48,97)\"]],\"sequential\":[[0.0,\"#440154\"],[0.1111111111111111,\"#482878\"],[0.2222222222222222,\"#3e4989\"],[0.3333333333333333,\"#31688e\"],[0.4444444444444444,\"#26828e\"],[0.5555555555555556,\"#1f9e89\"],[0.6666666666666666,\"#35b779\"],[0.7777777777777778,\"#6ece58\"],[0.8888888888888888,\"#b5de2b\"],[1.0,\"#fde725\"]],\"sequentialminus\":[[0.0,\"#440154\"],[0.1111111111111111,\"#482878\"],[0.2222222222222222,\"#3e4989\"],[0.3333333333333333,\"#31688e\"],[0.4444444444444444,\"#26828e\"],[0.5555555555555556,\"#1f9e89\"],[0.6666666666666666,\"#35b779\"],[0.7777777777777778,\"#6ece58\"],[0.8888888888888888,\"#b5de2b\"],[1.0,\"#fde725\"]]},\"colorway\":[\"#1F77B4\",\"#FF7F0E\",\"#2CA02C\",\"#D62728\",\"#9467BD\",\"#8C564B\",\"#E377C2\",\"#7F7F7F\",\"#BCBD22\",\"#17BECF\"],\"font\":{\"color\":\"rgb(36,36,36)\"},\"geo\":{\"bgcolor\":\"white\",\"lakecolor\":\"white\",\"landcolor\":\"white\",\"showlakes\":true,\"showland\":true,\"subunitcolor\":\"white\"},\"hoverlabel\":{\"align\":\"left\"},\"hovermode\":\"closest\",\"mapbox\":{\"style\":\"light\"},\"paper_bgcolor\":\"white\",\"plot_bgcolor\":\"white\",\"polar\":{\"angularaxis\":{\"gridcolor\":\"rgb(232,232,232)\",\"linecolor\":\"rgb(36,36,36)\",\"showgrid\":false,\"showline\":true,\"ticks\":\"outside\"},\"bgcolor\":\"white\",\"radialaxis\":{\"gridcolor\":\"rgb(232,232,232)\",\"linecolor\":\"rgb(36,36,36)\",\"showgrid\":false,\"showline\":true,\"ticks\":\"outside\"}},\"scene\":{\"xaxis\":{\"backgroundcolor\":\"white\",\"gridcolor\":\"rgb(232,232,232)\",\"gridwidth\":2,\"linecolor\":\"rgb(36,36,36)\",\"showbackground\":true,\"showgrid\":false,\"showline\":true,\"ticks\":\"outside\",\"zeroline\":false,\"zerolinecolor\":\"rgb(36,36,36)\"},\"yaxis\":{\"backgroundcolor\":\"white\",\"gridcolor\":\"rgb(232,232,232)\",\"gridwidth\":2,\"linecolor\":\"rgb(36,36,36)\",\"showbackground\":true,\"showgrid\":false,\"showline\":true,\"ticks\":\"outside\",\"zeroline\":false,\"zerolinecolor\":\"rgb(36,36,36)\"},\"zaxis\":{\"backgroundcolor\":\"white\",\"gridcolor\":\"rgb(232,232,232)\",\"gridwidth\":2,\"linecolor\":\"rgb(36,36,36)\",\"showbackground\":true,\"showgrid\":false,\"showline\":true,\"ticks\":\"outside\",\"zeroline\":false,\"zerolinecolor\":\"rgb(36,36,36)\"}},\"shapedefaults\":{\"fillcolor\":\"black\",\"line\":{\"width\":0},\"opacity\":0.3},\"ternary\":{\"aaxis\":{\"gridcolor\":\"rgb(232,232,232)\",\"linecolor\":\"rgb(36,36,36)\",\"showgrid\":false,\"showline\":true,\"ticks\":\"outside\"},\"baxis\":{\"gridcolor\":\"rgb(232,232,232)\",\"linecolor\":\"rgb(36,36,36)\",\"showgrid\":false,\"showline\":true,\"ticks\":\"outside\"},\"bgcolor\":\"white\",\"caxis\":{\"gridcolor\":\"rgb(232,232,232)\",\"linecolor\":\"rgb(36,36,36)\",\"showgrid\":false,\"showline\":true,\"ticks\":\"outside\"}},\"title\":{\"x\":0.5,\"xanchor\":\"center\"},\"xaxis\":{\"automargin\":true,\"gridcolor\":\"rgb(232,232,232)\",\"linecolor\":\"rgb(36,36,36)\",\"showgrid\":true,\"showline\":true,\"ticks\":\"outside\",\"title\":{\"standoff\":15},\"zeroline\":false,\"zerolinecolor\":\"rgb(36,36,36)\"},\"yaxis\":{\"automargin\":true,\"gridcolor\":\"rgb(232,232,232)\",\"linecolor\":\"rgb(36,36,36)\",\"showgrid\":true,\"showline\":true,\"ticks\":\"outside\",\"title\":{\"standoff\":15},\"zeroline\":false,\"zerolinecolor\":\"rgb(36,36,36)\"},\"autosize\":true,\"height\":400,\"margin\":{\"b\":30,\"l\":30,\"r\":30,\"t\":30},\"width\":600}},\"xaxis\":{\"anchor\":\"y\",\"domain\":[0.0,1.0],\"title\":{\"text\":\"Year\"}},\"yaxis\":{\"anchor\":\"x\",\"domain\":[0.0,1.0],\"title\":{\"text\":\"value\"}},\"legend\":{\"title\":{\"text\":\"variable\"},\"tracegroupgap\":0},\"title\":{\"text\":\"Number of Babies Born with an \\\"L\\\" Name Per Year\"}},                        {\"responsive\": true}                    ).then(function(){\n",
       "                            \n",
       "var gd = document.getElementById('9429b082-8817-4e16-bc98-922058a81009');\n",
       "var x = new MutationObserver(function (mutations, observer) {{\n",
       "        var display = window.getComputedStyle(gd).display;\n",
       "        if (!display || display === 'none') {{\n",
       "            console.log([gd, 'removed!']);\n",
       "            Plotly.purge(gd);\n",
       "            observer.disconnect();\n",
       "        }}\n",
       "}});\n",
       "\n",
       "// Listen for the removal of the full notebook cells\n",
       "var notebookContainer = gd.closest('#notebook-container');\n",
       "if (notebookContainer) {{\n",
       "    x.observe(notebookContainer, {childList: true});\n",
       "}}\n",
       "\n",
       "// Listen for the clearing of the current output cell\n",
       "var outputEl = gd.closest('.output');\n",
       "if (outputEl) {{\n",
       "    x.observe(outputEl, {childList: true});\n",
       "}}\n",
       "\n",
       "                        })                };                });            </script>        </div>"
      ]
     },
     "metadata": {},
     "output_type": "display_data"
    }
   ],
   "source": [
    "(baby\n",
    " .assign(first_letter=baby['Name'].str[0])\n",
    " .query('first_letter == \"L\"')\n",
    " .groupby('Year')\n",
    " ['Count']\n",
    " .sum()\n",
    " .plot(title='Number of Babies Born with an \"L\" Name Per Year')\n",
    ")"
   ]
  },
  {
   "cell_type": "markdown",
   "id": "b1bf7d1b-6ed3-4c6a-b210-481e1bcdd334",
   "metadata": {
    "slideshow": {
     "slide_type": "slide"
    },
    "tags": []
   },
   "source": [
    "### What about individual names?"
   ]
  },
  {
   "cell_type": "code",
   "execution_count": 78,
   "id": "1f78e486",
   "metadata": {},
   "outputs": [
    {
     "data": {
      "application/vnd.plotly.v1+json": {
       "config": {
        "plotlyServerURL": "https://plot.ly"
       },
       "data": [
        {
         "hovertemplate": "variable=Count<br>Year=%{x}<br>value=%{y}<extra></extra>",
         "legendgroup": "Count",
         "line": {
          "color": "#1F77B4",
          "dash": "solid"
         },
         "marker": {
          "symbol": "circle"
         },
         "mode": "lines",
         "name": "Count",
         "orientation": "v",
         "showlegend": true,
         "type": "scatter",
         "x": [
          1942,
          1944,
          1946,
          1947,
          1949,
          1950,
          1951,
          1952,
          1953,
          1954,
          1955,
          1956,
          1957,
          1958,
          1959,
          1960,
          1961,
          1962,
          1963,
          1964,
          1965,
          1966,
          1967,
          1968,
          1969,
          1970,
          1971,
          1972,
          1973,
          1974,
          1975,
          1976,
          1977,
          1978,
          1979,
          1980,
          1981,
          1982,
          1983,
          1984,
          1985,
          1986,
          1987,
          1988,
          1989,
          1990,
          1991,
          1992,
          1993,
          1994,
          1995,
          1996,
          1997,
          1998,
          1999,
          2000,
          2001,
          2002,
          2003,
          2004,
          2005,
          2006,
          2007,
          2008,
          2009,
          2010,
          2011,
          2012,
          2013,
          2014,
          2015,
          2016,
          2017,
          2018,
          2019,
          2020,
          2021
         ],
         "xaxis": "x",
         "y": [
          6,
          6,
          5,
          7,
          12,
          8,
          14,
          29,
          28,
          24,
          23,
          17,
          9,
          15,
          13,
          17,
          13,
          19,
          24,
          13,
          8,
          8,
          13,
          24,
          20,
          16,
          15,
          16,
          22,
          25,
          16,
          26,
          29,
          28,
          19,
          18,
          26,
          21,
          23,
          16,
          30,
          29,
          24,
          20,
          21,
          23,
          23,
          22,
          20,
          17,
          23,
          31,
          31,
          28,
          33,
          35,
          29,
          36,
          44,
          55,
          72,
          105,
          108,
          115,
          120,
          111,
          103,
          108,
          42,
          39,
          25,
          24,
          20,
          20,
          13,
          10,
          9
         ],
         "yaxis": "y"
        }
       ],
       "layout": {
        "autosize": true,
        "legend": {
         "title": {
          "text": "variable"
         },
         "tracegroupgap": 0
        },
        "template": {
         "data": {
          "bar": [
           {
            "error_x": {
             "color": "rgb(36,36,36)"
            },
            "error_y": {
             "color": "rgb(36,36,36)"
            },
            "marker": {
             "line": {
              "color": "white",
              "width": 0.5
             },
             "pattern": {
              "fillmode": "overlay",
              "size": 10,
              "solidity": 0.2
             }
            },
            "type": "bar"
           }
          ],
          "barpolar": [
           {
            "marker": {
             "line": {
              "color": "white",
              "width": 0.5
             },
             "pattern": {
              "fillmode": "overlay",
              "size": 10,
              "solidity": 0.2
             }
            },
            "type": "barpolar"
           }
          ],
          "carpet": [
           {
            "aaxis": {
             "endlinecolor": "rgb(36,36,36)",
             "gridcolor": "white",
             "linecolor": "white",
             "minorgridcolor": "white",
             "startlinecolor": "rgb(36,36,36)"
            },
            "baxis": {
             "endlinecolor": "rgb(36,36,36)",
             "gridcolor": "white",
             "linecolor": "white",
             "minorgridcolor": "white",
             "startlinecolor": "rgb(36,36,36)"
            },
            "type": "carpet"
           }
          ],
          "choropleth": [
           {
            "colorbar": {
             "outlinewidth": 1,
             "tickcolor": "rgb(36,36,36)",
             "ticks": "outside"
            },
            "type": "choropleth"
           }
          ],
          "contour": [
           {
            "colorbar": {
             "outlinewidth": 1,
             "tickcolor": "rgb(36,36,36)",
             "ticks": "outside"
            },
            "colorscale": [
             [
              0,
              "#440154"
             ],
             [
              0.1111111111111111,
              "#482878"
             ],
             [
              0.2222222222222222,
              "#3e4989"
             ],
             [
              0.3333333333333333,
              "#31688e"
             ],
             [
              0.4444444444444444,
              "#26828e"
             ],
             [
              0.5555555555555556,
              "#1f9e89"
             ],
             [
              0.6666666666666666,
              "#35b779"
             ],
             [
              0.7777777777777778,
              "#6ece58"
             ],
             [
              0.8888888888888888,
              "#b5de2b"
             ],
             [
              1,
              "#fde725"
             ]
            ],
            "type": "contour"
           }
          ],
          "contourcarpet": [
           {
            "colorbar": {
             "outlinewidth": 1,
             "tickcolor": "rgb(36,36,36)",
             "ticks": "outside"
            },
            "type": "contourcarpet"
           }
          ],
          "heatmap": [
           {
            "colorbar": {
             "outlinewidth": 1,
             "tickcolor": "rgb(36,36,36)",
             "ticks": "outside"
            },
            "colorscale": [
             [
              0,
              "#440154"
             ],
             [
              0.1111111111111111,
              "#482878"
             ],
             [
              0.2222222222222222,
              "#3e4989"
             ],
             [
              0.3333333333333333,
              "#31688e"
             ],
             [
              0.4444444444444444,
              "#26828e"
             ],
             [
              0.5555555555555556,
              "#1f9e89"
             ],
             [
              0.6666666666666666,
              "#35b779"
             ],
             [
              0.7777777777777778,
              "#6ece58"
             ],
             [
              0.8888888888888888,
              "#b5de2b"
             ],
             [
              1,
              "#fde725"
             ]
            ],
            "type": "heatmap"
           }
          ],
          "heatmapgl": [
           {
            "colorbar": {
             "outlinewidth": 1,
             "tickcolor": "rgb(36,36,36)",
             "ticks": "outside"
            },
            "colorscale": [
             [
              0,
              "#440154"
             ],
             [
              0.1111111111111111,
              "#482878"
             ],
             [
              0.2222222222222222,
              "#3e4989"
             ],
             [
              0.3333333333333333,
              "#31688e"
             ],
             [
              0.4444444444444444,
              "#26828e"
             ],
             [
              0.5555555555555556,
              "#1f9e89"
             ],
             [
              0.6666666666666666,
              "#35b779"
             ],
             [
              0.7777777777777778,
              "#6ece58"
             ],
             [
              0.8888888888888888,
              "#b5de2b"
             ],
             [
              1,
              "#fde725"
             ]
            ],
            "type": "heatmapgl"
           }
          ],
          "histogram": [
           {
            "marker": {
             "line": {
              "color": "white",
              "width": 0.6
             }
            },
            "type": "histogram"
           }
          ],
          "histogram2d": [
           {
            "colorbar": {
             "outlinewidth": 1,
             "tickcolor": "rgb(36,36,36)",
             "ticks": "outside"
            },
            "colorscale": [
             [
              0,
              "#440154"
             ],
             [
              0.1111111111111111,
              "#482878"
             ],
             [
              0.2222222222222222,
              "#3e4989"
             ],
             [
              0.3333333333333333,
              "#31688e"
             ],
             [
              0.4444444444444444,
              "#26828e"
             ],
             [
              0.5555555555555556,
              "#1f9e89"
             ],
             [
              0.6666666666666666,
              "#35b779"
             ],
             [
              0.7777777777777778,
              "#6ece58"
             ],
             [
              0.8888888888888888,
              "#b5de2b"
             ],
             [
              1,
              "#fde725"
             ]
            ],
            "type": "histogram2d"
           }
          ],
          "histogram2dcontour": [
           {
            "colorbar": {
             "outlinewidth": 1,
             "tickcolor": "rgb(36,36,36)",
             "ticks": "outside"
            },
            "colorscale": [
             [
              0,
              "#440154"
             ],
             [
              0.1111111111111111,
              "#482878"
             ],
             [
              0.2222222222222222,
              "#3e4989"
             ],
             [
              0.3333333333333333,
              "#31688e"
             ],
             [
              0.4444444444444444,
              "#26828e"
             ],
             [
              0.5555555555555556,
              "#1f9e89"
             ],
             [
              0.6666666666666666,
              "#35b779"
             ],
             [
              0.7777777777777778,
              "#6ece58"
             ],
             [
              0.8888888888888888,
              "#b5de2b"
             ],
             [
              1,
              "#fde725"
             ]
            ],
            "type": "histogram2dcontour"
           }
          ],
          "mesh3d": [
           {
            "colorbar": {
             "outlinewidth": 1,
             "tickcolor": "rgb(36,36,36)",
             "ticks": "outside"
            },
            "type": "mesh3d"
           }
          ],
          "parcoords": [
           {
            "line": {
             "colorbar": {
              "outlinewidth": 1,
              "tickcolor": "rgb(36,36,36)",
              "ticks": "outside"
             }
            },
            "type": "parcoords"
           }
          ],
          "pie": [
           {
            "automargin": true,
            "type": "pie"
           }
          ],
          "scatter": [
           {
            "fillpattern": {
             "fillmode": "overlay",
             "size": 10,
             "solidity": 0.2
            },
            "type": "scatter"
           }
          ],
          "scatter3d": [
           {
            "line": {
             "colorbar": {
              "outlinewidth": 1,
              "tickcolor": "rgb(36,36,36)",
              "ticks": "outside"
             }
            },
            "marker": {
             "colorbar": {
              "outlinewidth": 1,
              "tickcolor": "rgb(36,36,36)",
              "ticks": "outside"
             }
            },
            "type": "scatter3d"
           }
          ],
          "scattercarpet": [
           {
            "marker": {
             "colorbar": {
              "outlinewidth": 1,
              "tickcolor": "rgb(36,36,36)",
              "ticks": "outside"
             }
            },
            "type": "scattercarpet"
           }
          ],
          "scattergeo": [
           {
            "marker": {
             "colorbar": {
              "outlinewidth": 1,
              "tickcolor": "rgb(36,36,36)",
              "ticks": "outside"
             }
            },
            "type": "scattergeo"
           }
          ],
          "scattergl": [
           {
            "marker": {
             "colorbar": {
              "outlinewidth": 1,
              "tickcolor": "rgb(36,36,36)",
              "ticks": "outside"
             }
            },
            "type": "scattergl"
           }
          ],
          "scattermapbox": [
           {
            "marker": {
             "colorbar": {
              "outlinewidth": 1,
              "tickcolor": "rgb(36,36,36)",
              "ticks": "outside"
             }
            },
            "type": "scattermapbox"
           }
          ],
          "scatterpolar": [
           {
            "marker": {
             "colorbar": {
              "outlinewidth": 1,
              "tickcolor": "rgb(36,36,36)",
              "ticks": "outside"
             }
            },
            "type": "scatterpolar"
           }
          ],
          "scatterpolargl": [
           {
            "marker": {
             "colorbar": {
              "outlinewidth": 1,
              "tickcolor": "rgb(36,36,36)",
              "ticks": "outside"
             }
            },
            "type": "scatterpolargl"
           }
          ],
          "scatterternary": [
           {
            "marker": {
             "colorbar": {
              "outlinewidth": 1,
              "tickcolor": "rgb(36,36,36)",
              "ticks": "outside"
             }
            },
            "type": "scatterternary"
           }
          ],
          "surface": [
           {
            "colorbar": {
             "outlinewidth": 1,
             "tickcolor": "rgb(36,36,36)",
             "ticks": "outside"
            },
            "colorscale": [
             [
              0,
              "#440154"
             ],
             [
              0.1111111111111111,
              "#482878"
             ],
             [
              0.2222222222222222,
              "#3e4989"
             ],
             [
              0.3333333333333333,
              "#31688e"
             ],
             [
              0.4444444444444444,
              "#26828e"
             ],
             [
              0.5555555555555556,
              "#1f9e89"
             ],
             [
              0.6666666666666666,
              "#35b779"
             ],
             [
              0.7777777777777778,
              "#6ece58"
             ],
             [
              0.8888888888888888,
              "#b5de2b"
             ],
             [
              1,
              "#fde725"
             ]
            ],
            "type": "surface"
           }
          ],
          "table": [
           {
            "cells": {
             "fill": {
              "color": "rgb(237,237,237)"
             },
             "line": {
              "color": "white"
             }
            },
            "header": {
             "fill": {
              "color": "rgb(217,217,217)"
             },
             "line": {
              "color": "white"
             }
            },
            "type": "table"
           }
          ]
         },
         "layout": {
          "annotationdefaults": {
           "arrowhead": 0,
           "arrowwidth": 1
          },
          "autosize": true,
          "autotypenumbers": "strict",
          "coloraxis": {
           "colorbar": {
            "outlinewidth": 1,
            "tickcolor": "rgb(36,36,36)",
            "ticks": "outside"
           }
          },
          "colorscale": {
           "diverging": [
            [
             0,
             "rgb(103,0,31)"
            ],
            [
             0.1,
             "rgb(178,24,43)"
            ],
            [
             0.2,
             "rgb(214,96,77)"
            ],
            [
             0.3,
             "rgb(244,165,130)"
            ],
            [
             0.4,
             "rgb(253,219,199)"
            ],
            [
             0.5,
             "rgb(247,247,247)"
            ],
            [
             0.6,
             "rgb(209,229,240)"
            ],
            [
             0.7,
             "rgb(146,197,222)"
            ],
            [
             0.8,
             "rgb(67,147,195)"
            ],
            [
             0.9,
             "rgb(33,102,172)"
            ],
            [
             1,
             "rgb(5,48,97)"
            ]
           ],
           "sequential": [
            [
             0,
             "#440154"
            ],
            [
             0.1111111111111111,
             "#482878"
            ],
            [
             0.2222222222222222,
             "#3e4989"
            ],
            [
             0.3333333333333333,
             "#31688e"
            ],
            [
             0.4444444444444444,
             "#26828e"
            ],
            [
             0.5555555555555556,
             "#1f9e89"
            ],
            [
             0.6666666666666666,
             "#35b779"
            ],
            [
             0.7777777777777778,
             "#6ece58"
            ],
            [
             0.8888888888888888,
             "#b5de2b"
            ],
            [
             1,
             "#fde725"
            ]
           ],
           "sequentialminus": [
            [
             0,
             "#440154"
            ],
            [
             0.1111111111111111,
             "#482878"
            ],
            [
             0.2222222222222222,
             "#3e4989"
            ],
            [
             0.3333333333333333,
             "#31688e"
            ],
            [
             0.4444444444444444,
             "#26828e"
            ],
            [
             0.5555555555555556,
             "#1f9e89"
            ],
            [
             0.6666666666666666,
             "#35b779"
            ],
            [
             0.7777777777777778,
             "#6ece58"
            ],
            [
             0.8888888888888888,
             "#b5de2b"
            ],
            [
             1,
             "#fde725"
            ]
           ]
          },
          "colorway": [
           "#1F77B4",
           "#FF7F0E",
           "#2CA02C",
           "#D62728",
           "#9467BD",
           "#8C564B",
           "#E377C2",
           "#7F7F7F",
           "#BCBD22",
           "#17BECF"
          ],
          "font": {
           "color": "rgb(36,36,36)"
          },
          "geo": {
           "bgcolor": "white",
           "lakecolor": "white",
           "landcolor": "white",
           "showlakes": true,
           "showland": true,
           "subunitcolor": "white"
          },
          "height": 400,
          "hoverlabel": {
           "align": "left"
          },
          "hovermode": "closest",
          "mapbox": {
           "style": "light"
          },
          "margin": {
           "b": 30,
           "l": 30,
           "r": 30,
           "t": 30
          },
          "paper_bgcolor": "white",
          "plot_bgcolor": "white",
          "polar": {
           "angularaxis": {
            "gridcolor": "rgb(232,232,232)",
            "linecolor": "rgb(36,36,36)",
            "showgrid": false,
            "showline": true,
            "ticks": "outside"
           },
           "bgcolor": "white",
           "radialaxis": {
            "gridcolor": "rgb(232,232,232)",
            "linecolor": "rgb(36,36,36)",
            "showgrid": false,
            "showline": true,
            "ticks": "outside"
           }
          },
          "scene": {
           "xaxis": {
            "backgroundcolor": "white",
            "gridcolor": "rgb(232,232,232)",
            "gridwidth": 2,
            "linecolor": "rgb(36,36,36)",
            "showbackground": true,
            "showgrid": false,
            "showline": true,
            "ticks": "outside",
            "zeroline": false,
            "zerolinecolor": "rgb(36,36,36)"
           },
           "yaxis": {
            "backgroundcolor": "white",
            "gridcolor": "rgb(232,232,232)",
            "gridwidth": 2,
            "linecolor": "rgb(36,36,36)",
            "showbackground": true,
            "showgrid": false,
            "showline": true,
            "ticks": "outside",
            "zeroline": false,
            "zerolinecolor": "rgb(36,36,36)"
           },
           "zaxis": {
            "backgroundcolor": "white",
            "gridcolor": "rgb(232,232,232)",
            "gridwidth": 2,
            "linecolor": "rgb(36,36,36)",
            "showbackground": true,
            "showgrid": false,
            "showline": true,
            "ticks": "outside",
            "zeroline": false,
            "zerolinecolor": "rgb(36,36,36)"
           }
          },
          "shapedefaults": {
           "fillcolor": "black",
           "line": {
            "width": 0
           },
           "opacity": 0.3
          },
          "ternary": {
           "aaxis": {
            "gridcolor": "rgb(232,232,232)",
            "linecolor": "rgb(36,36,36)",
            "showgrid": false,
            "showline": true,
            "ticks": "outside"
           },
           "baxis": {
            "gridcolor": "rgb(232,232,232)",
            "linecolor": "rgb(36,36,36)",
            "showgrid": false,
            "showline": true,
            "ticks": "outside"
           },
           "bgcolor": "white",
           "caxis": {
            "gridcolor": "rgb(232,232,232)",
            "linecolor": "rgb(36,36,36)",
            "showgrid": false,
            "showline": true,
            "ticks": "outside"
           }
          },
          "title": {
           "x": 0.5,
           "xanchor": "center"
          },
          "width": 600,
          "xaxis": {
           "automargin": true,
           "gridcolor": "rgb(232,232,232)",
           "linecolor": "rgb(36,36,36)",
           "showgrid": true,
           "showline": true,
           "ticks": "outside",
           "title": {
            "standoff": 15
           },
           "zeroline": false,
           "zerolinecolor": "rgb(36,36,36)"
          },
          "yaxis": {
           "automargin": true,
           "gridcolor": "rgb(232,232,232)",
           "linecolor": "rgb(36,36,36)",
           "showgrid": true,
           "showline": true,
           "ticks": "outside",
           "title": {
            "standoff": 15
           },
           "zeroline": false,
           "zerolinecolor": "rgb(36,36,36)"
          }
         }
        },
        "title": {
         "text": "Number of Babies Born Named \"Siri\" Per Year"
        },
        "xaxis": {
         "anchor": "y",
         "autorange": true,
         "domain": [
          0,
          1
         ],
         "range": [
          1942,
          2021
         ],
         "title": {
          "text": "Year"
         },
         "type": "linear"
        },
        "yaxis": {
         "anchor": "x",
         "autorange": true,
         "domain": [
          0,
          1
         ],
         "range": [
          -1.3888888888888893,
          126.38888888888889
         ],
         "title": {
          "text": "value"
         },
         "type": "linear"
        }
       }
      },
      "image/png": "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",
      "text/html": [
       "<div>                            <div id=\"a0ab6d66-f88c-43b7-b797-7f60e0a76ef0\" class=\"plotly-graph-div\" style=\"height:400px; width:600px;\"></div>            <script type=\"text/javascript\">                require([\"plotly\"], function(Plotly) {                    window.PLOTLYENV=window.PLOTLYENV || {};                                    if (document.getElementById(\"a0ab6d66-f88c-43b7-b797-7f60e0a76ef0\")) {                    Plotly.newPlot(                        \"a0ab6d66-f88c-43b7-b797-7f60e0a76ef0\",                        [{\"hovertemplate\":\"variable=Count\\u003cbr\\u003eYear=%{x}\\u003cbr\\u003evalue=%{y}\\u003cextra\\u003e\\u003c\\u002fextra\\u003e\",\"legendgroup\":\"Count\",\"line\":{\"color\":\"#1F77B4\",\"dash\":\"solid\"},\"marker\":{\"symbol\":\"circle\"},\"mode\":\"lines\",\"name\":\"Count\",\"orientation\":\"v\",\"showlegend\":true,\"x\":[1942,1944,1946,1947,1949,1950,1951,1952,1953,1954,1955,1956,1957,1958,1959,1960,1961,1962,1963,1964,1965,1966,1967,1968,1969,1970,1971,1972,1973,1974,1975,1976,1977,1978,1979,1980,1981,1982,1983,1984,1985,1986,1987,1988,1989,1990,1991,1992,1993,1994,1995,1996,1997,1998,1999,2000,2001,2002,2003,2004,2005,2006,2007,2008,2009,2010,2011,2012,2013,2014,2015,2016,2017,2018,2019,2020,2021],\"xaxis\":\"x\",\"y\":[6,6,5,7,12,8,14,29,28,24,23,17,9,15,13,17,13,19,24,13,8,8,13,24,20,16,15,16,22,25,16,26,29,28,19,18,26,21,23,16,30,29,24,20,21,23,23,22,20,17,23,31,31,28,33,35,29,36,44,55,72,105,108,115,120,111,103,108,42,39,25,24,20,20,13,10,9],\"yaxis\":\"y\",\"type\":\"scatter\"}],                        {\"template\":{\"data\":{\"barpolar\":[{\"marker\":{\"line\":{\"color\":\"white\",\"width\":0.5},\"pattern\":{\"fillmode\":\"overlay\",\"size\":10,\"solidity\":0.2}},\"type\":\"barpolar\"}],\"bar\":[{\"error_x\":{\"color\":\"rgb(36,36,36)\"},\"error_y\":{\"color\":\"rgb(36,36,36)\"},\"marker\":{\"line\":{\"color\":\"white\",\"width\":0.5},\"pattern\":{\"fillmode\":\"overlay\",\"size\":10,\"solidity\":0.2}},\"type\":\"bar\"}],\"carpet\":[{\"aaxis\":{\"endlinecolor\":\"rgb(36,36,36)\",\"gridcolor\":\"white\",\"linecolor\":\"white\",\"minorgridcolor\":\"white\",\"startlinecolor\":\"rgb(36,36,36)\"},\"baxis\":{\"endlinecolor\":\"rgb(36,36,36)\",\"gridcolor\":\"white\",\"linecolor\":\"white\",\"minorgridcolor\":\"white\",\"startlinecolor\":\"rgb(36,36,36)\"},\"type\":\"carpet\"}],\"choropleth\":[{\"colorbar\":{\"outlinewidth\":1,\"tickcolor\":\"rgb(36,36,36)\",\"ticks\":\"outside\"},\"type\":\"choropleth\"}],\"contourcarpet\":[{\"colorbar\":{\"outlinewidth\":1,\"tickcolor\":\"rgb(36,36,36)\",\"ticks\":\"outside\"},\"type\":\"contourcarpet\"}],\"contour\":[{\"colorbar\":{\"outlinewidth\":1,\"tickcolor\":\"rgb(36,36,36)\",\"ticks\":\"outside\"},\"colorscale\":[[0.0,\"#440154\"],[0.1111111111111111,\"#482878\"],[0.2222222222222222,\"#3e4989\"],[0.3333333333333333,\"#31688e\"],[0.4444444444444444,\"#26828e\"],[0.5555555555555556,\"#1f9e89\"],[0.6666666666666666,\"#35b779\"],[0.7777777777777778,\"#6ece58\"],[0.8888888888888888,\"#b5de2b\"],[1.0,\"#fde725\"]],\"type\":\"contour\"}],\"heatmapgl\":[{\"colorbar\":{\"outlinewidth\":1,\"tickcolor\":\"rgb(36,36,36)\",\"ticks\":\"outside\"},\"colorscale\":[[0.0,\"#440154\"],[0.1111111111111111,\"#482878\"],[0.2222222222222222,\"#3e4989\"],[0.3333333333333333,\"#31688e\"],[0.4444444444444444,\"#26828e\"],[0.5555555555555556,\"#1f9e89\"],[0.6666666666666666,\"#35b779\"],[0.7777777777777778,\"#6ece58\"],[0.8888888888888888,\"#b5de2b\"],[1.0,\"#fde725\"]],\"type\":\"heatmapgl\"}],\"heatmap\":[{\"colorbar\":{\"outlinewidth\":1,\"tickcolor\":\"rgb(36,36,36)\",\"ticks\":\"outside\"},\"colorscale\":[[0.0,\"#440154\"],[0.1111111111111111,\"#482878\"],[0.2222222222222222,\"#3e4989\"],[0.3333333333333333,\"#31688e\"],[0.4444444444444444,\"#26828e\"],[0.5555555555555556,\"#1f9e89\"],[0.6666666666666666,\"#35b779\"],[0.7777777777777778,\"#6ece58\"],[0.8888888888888888,\"#b5de2b\"],[1.0,\"#fde725\"]],\"type\":\"heatmap\"}],\"histogram2dcontour\":[{\"colorbar\":{\"outlinewidth\":1,\"tickcolor\":\"rgb(36,36,36)\",\"ticks\":\"outside\"},\"colorscale\":[[0.0,\"#440154\"],[0.1111111111111111,\"#482878\"],[0.2222222222222222,\"#3e4989\"],[0.3333333333333333,\"#31688e\"],[0.4444444444444444,\"#26828e\"],[0.5555555555555556,\"#1f9e89\"],[0.6666666666666666,\"#35b779\"],[0.7777777777777778,\"#6ece58\"],[0.8888888888888888,\"#b5de2b\"],[1.0,\"#fde725\"]],\"type\":\"histogram2dcontour\"}],\"histogram2d\":[{\"colorbar\":{\"outlinewidth\":1,\"tickcolor\":\"rgb(36,36,36)\",\"ticks\":\"outside\"},\"colorscale\":[[0.0,\"#440154\"],[0.1111111111111111,\"#482878\"],[0.2222222222222222,\"#3e4989\"],[0.3333333333333333,\"#31688e\"],[0.4444444444444444,\"#26828e\"],[0.5555555555555556,\"#1f9e89\"],[0.6666666666666666,\"#35b779\"],[0.7777777777777778,\"#6ece58\"],[0.8888888888888888,\"#b5de2b\"],[1.0,\"#fde725\"]],\"type\":\"histogram2d\"}],\"histogram\":[{\"marker\":{\"line\":{\"color\":\"white\",\"width\":0.6}},\"type\":\"histogram\"}],\"mesh3d\":[{\"colorbar\":{\"outlinewidth\":1,\"tickcolor\":\"rgb(36,36,36)\",\"ticks\":\"outside\"},\"type\":\"mesh3d\"}],\"parcoords\":[{\"line\":{\"colorbar\":{\"outlinewidth\":1,\"tickcolor\":\"rgb(36,36,36)\",\"ticks\":\"outside\"}},\"type\":\"parcoords\"}],\"pie\":[{\"automargin\":true,\"type\":\"pie\"}],\"scatter3d\":[{\"line\":{\"colorbar\":{\"outlinewidth\":1,\"tickcolor\":\"rgb(36,36,36)\",\"ticks\":\"outside\"}},\"marker\":{\"colorbar\":{\"outlinewidth\":1,\"tickcolor\":\"rgb(36,36,36)\",\"ticks\":\"outside\"}},\"type\":\"scatter3d\"}],\"scattercarpet\":[{\"marker\":{\"colorbar\":{\"outlinewidth\":1,\"tickcolor\":\"rgb(36,36,36)\",\"ticks\":\"outside\"}},\"type\":\"scattercarpet\"}],\"scattergeo\":[{\"marker\":{\"colorbar\":{\"outlinewidth\":1,\"tickcolor\":\"rgb(36,36,36)\",\"ticks\":\"outside\"}},\"type\":\"scattergeo\"}],\"scattergl\":[{\"marker\":{\"colorbar\":{\"outlinewidth\":1,\"tickcolor\":\"rgb(36,36,36)\",\"ticks\":\"outside\"}},\"type\":\"scattergl\"}],\"scattermapbox\":[{\"marker\":{\"colorbar\":{\"outlinewidth\":1,\"tickcolor\":\"rgb(36,36,36)\",\"ticks\":\"outside\"}},\"type\":\"scattermapbox\"}],\"scatterpolargl\":[{\"marker\":{\"colorbar\":{\"outlinewidth\":1,\"tickcolor\":\"rgb(36,36,36)\",\"ticks\":\"outside\"}},\"type\":\"scatterpolargl\"}],\"scatterpolar\":[{\"marker\":{\"colorbar\":{\"outlinewidth\":1,\"tickcolor\":\"rgb(36,36,36)\",\"ticks\":\"outside\"}},\"type\":\"scatterpolar\"}],\"scatter\":[{\"fillpattern\":{\"fillmode\":\"overlay\",\"size\":10,\"solidity\":0.2},\"type\":\"scatter\"}],\"scatterternary\":[{\"marker\":{\"colorbar\":{\"outlinewidth\":1,\"tickcolor\":\"rgb(36,36,36)\",\"ticks\":\"outside\"}},\"type\":\"scatterternary\"}],\"surface\":[{\"colorbar\":{\"outlinewidth\":1,\"tickcolor\":\"rgb(36,36,36)\",\"ticks\":\"outside\"},\"colorscale\":[[0.0,\"#440154\"],[0.1111111111111111,\"#482878\"],[0.2222222222222222,\"#3e4989\"],[0.3333333333333333,\"#31688e\"],[0.4444444444444444,\"#26828e\"],[0.5555555555555556,\"#1f9e89\"],[0.6666666666666666,\"#35b779\"],[0.7777777777777778,\"#6ece58\"],[0.8888888888888888,\"#b5de2b\"],[1.0,\"#fde725\"]],\"type\":\"surface\"}],\"table\":[{\"cells\":{\"fill\":{\"color\":\"rgb(237,237,237)\"},\"line\":{\"color\":\"white\"}},\"header\":{\"fill\":{\"color\":\"rgb(217,217,217)\"},\"line\":{\"color\":\"white\"}},\"type\":\"table\"}]},\"layout\":{\"annotationdefaults\":{\"arrowhead\":0,\"arrowwidth\":1},\"autotypenumbers\":\"strict\",\"coloraxis\":{\"colorbar\":{\"outlinewidth\":1,\"tickcolor\":\"rgb(36,36,36)\",\"ticks\":\"outside\"}},\"colorscale\":{\"diverging\":[[0.0,\"rgb(103,0,31)\"],[0.1,\"rgb(178,24,43)\"],[0.2,\"rgb(214,96,77)\"],[0.3,\"rgb(244,165,130)\"],[0.4,\"rgb(253,219,199)\"],[0.5,\"rgb(247,247,247)\"],[0.6,\"rgb(209,229,240)\"],[0.7,\"rgb(146,197,222)\"],[0.8,\"rgb(67,147,195)\"],[0.9,\"rgb(33,102,172)\"],[1.0,\"rgb(5,48,97)\"]],\"sequential\":[[0.0,\"#440154\"],[0.1111111111111111,\"#482878\"],[0.2222222222222222,\"#3e4989\"],[0.3333333333333333,\"#31688e\"],[0.4444444444444444,\"#26828e\"],[0.5555555555555556,\"#1f9e89\"],[0.6666666666666666,\"#35b779\"],[0.7777777777777778,\"#6ece58\"],[0.8888888888888888,\"#b5de2b\"],[1.0,\"#fde725\"]],\"sequentialminus\":[[0.0,\"#440154\"],[0.1111111111111111,\"#482878\"],[0.2222222222222222,\"#3e4989\"],[0.3333333333333333,\"#31688e\"],[0.4444444444444444,\"#26828e\"],[0.5555555555555556,\"#1f9e89\"],[0.6666666666666666,\"#35b779\"],[0.7777777777777778,\"#6ece58\"],[0.8888888888888888,\"#b5de2b\"],[1.0,\"#fde725\"]]},\"colorway\":[\"#1F77B4\",\"#FF7F0E\",\"#2CA02C\",\"#D62728\",\"#9467BD\",\"#8C564B\",\"#E377C2\",\"#7F7F7F\",\"#BCBD22\",\"#17BECF\"],\"font\":{\"color\":\"rgb(36,36,36)\"},\"geo\":{\"bgcolor\":\"white\",\"lakecolor\":\"white\",\"landcolor\":\"white\",\"showlakes\":true,\"showland\":true,\"subunitcolor\":\"white\"},\"hoverlabel\":{\"align\":\"left\"},\"hovermode\":\"closest\",\"mapbox\":{\"style\":\"light\"},\"paper_bgcolor\":\"white\",\"plot_bgcolor\":\"white\",\"polar\":{\"angularaxis\":{\"gridcolor\":\"rgb(232,232,232)\",\"linecolor\":\"rgb(36,36,36)\",\"showgrid\":false,\"showline\":true,\"ticks\":\"outside\"},\"bgcolor\":\"white\",\"radialaxis\":{\"gridcolor\":\"rgb(232,232,232)\",\"linecolor\":\"rgb(36,36,36)\",\"showgrid\":false,\"showline\":true,\"ticks\":\"outside\"}},\"scene\":{\"xaxis\":{\"backgroundcolor\":\"white\",\"gridcolor\":\"rgb(232,232,232)\",\"gridwidth\":2,\"linecolor\":\"rgb(36,36,36)\",\"showbackground\":true,\"showgrid\":false,\"showline\":true,\"ticks\":\"outside\",\"zeroline\":false,\"zerolinecolor\":\"rgb(36,36,36)\"},\"yaxis\":{\"backgroundcolor\":\"white\",\"gridcolor\":\"rgb(232,232,232)\",\"gridwidth\":2,\"linecolor\":\"rgb(36,36,36)\",\"showbackground\":true,\"showgrid\":false,\"showline\":true,\"ticks\":\"outside\",\"zeroline\":false,\"zerolinecolor\":\"rgb(36,36,36)\"},\"zaxis\":{\"backgroundcolor\":\"white\",\"gridcolor\":\"rgb(232,232,232)\",\"gridwidth\":2,\"linecolor\":\"rgb(36,36,36)\",\"showbackground\":true,\"showgrid\":false,\"showline\":true,\"ticks\":\"outside\",\"zeroline\":false,\"zerolinecolor\":\"rgb(36,36,36)\"}},\"shapedefaults\":{\"fillcolor\":\"black\",\"line\":{\"width\":0},\"opacity\":0.3},\"ternary\":{\"aaxis\":{\"gridcolor\":\"rgb(232,232,232)\",\"linecolor\":\"rgb(36,36,36)\",\"showgrid\":false,\"showline\":true,\"ticks\":\"outside\"},\"baxis\":{\"gridcolor\":\"rgb(232,232,232)\",\"linecolor\":\"rgb(36,36,36)\",\"showgrid\":false,\"showline\":true,\"ticks\":\"outside\"},\"bgcolor\":\"white\",\"caxis\":{\"gridcolor\":\"rgb(232,232,232)\",\"linecolor\":\"rgb(36,36,36)\",\"showgrid\":false,\"showline\":true,\"ticks\":\"outside\"}},\"title\":{\"x\":0.5,\"xanchor\":\"center\"},\"xaxis\":{\"automargin\":true,\"gridcolor\":\"rgb(232,232,232)\",\"linecolor\":\"rgb(36,36,36)\",\"showgrid\":true,\"showline\":true,\"ticks\":\"outside\",\"title\":{\"standoff\":15},\"zeroline\":false,\"zerolinecolor\":\"rgb(36,36,36)\"},\"yaxis\":{\"automargin\":true,\"gridcolor\":\"rgb(232,232,232)\",\"linecolor\":\"rgb(36,36,36)\",\"showgrid\":true,\"showline\":true,\"ticks\":\"outside\",\"title\":{\"standoff\":15},\"zeroline\":false,\"zerolinecolor\":\"rgb(36,36,36)\"},\"autosize\":true,\"height\":400,\"margin\":{\"b\":30,\"l\":30,\"r\":30,\"t\":30},\"width\":600}},\"xaxis\":{\"anchor\":\"y\",\"domain\":[0.0,1.0],\"title\":{\"text\":\"Year\"}},\"yaxis\":{\"anchor\":\"x\",\"domain\":[0.0,1.0],\"title\":{\"text\":\"value\"}},\"legend\":{\"title\":{\"text\":\"variable\"},\"tracegroupgap\":0},\"title\":{\"text\":\"Number of Babies Born Named \\\"Siri\\\" Per Year\"}},                        {\"responsive\": true}                    ).then(function(){\n",
       "                            \n",
       "var gd = document.getElementById('a0ab6d66-f88c-43b7-b797-7f60e0a76ef0');\n",
       "var x = new MutationObserver(function (mutations, observer) {{\n",
       "        var display = window.getComputedStyle(gd).display;\n",
       "        if (!display || display === 'none') {{\n",
       "            console.log([gd, 'removed!']);\n",
       "            Plotly.purge(gd);\n",
       "            observer.disconnect();\n",
       "        }}\n",
       "}});\n",
       "\n",
       "// Listen for the removal of the full notebook cells\n",
       "var notebookContainer = gd.closest('#notebook-container');\n",
       "if (notebookContainer) {{\n",
       "    x.observe(notebookContainer, {childList: true});\n",
       "}}\n",
       "\n",
       "// Listen for the clearing of the current output cell\n",
       "var outputEl = gd.closest('.output');\n",
       "if (outputEl) {{\n",
       "    x.observe(outputEl, {childList: true});\n",
       "}}\n",
       "\n",
       "                        })                };                });            </script>        </div>"
      ]
     },
     "metadata": {},
     "output_type": "display_data"
    }
   ],
   "source": [
    "(baby\n",
    " .query('Name == \"Siri\"')\n",
    " .groupby('Year')\n",
    " ['Count']\n",
    " .sum()\n",
    " .plot(title='Number of Babies Born Named \"Siri\" Per Year')\n",
    ")"
   ]
  },
  {
   "cell_type": "code",
   "execution_count": 79,
   "id": "1de20c77",
   "metadata": {
    "slideshow": {
     "slide_type": "slide"
    }
   },
   "outputs": [],
   "source": [
    "def name_graph(name):\n",
    "    return (baby\n",
    "     .query(f'Name == \"{name}\"')\n",
    "     .groupby('Year')\n",
    "     ['Count']\n",
    "     .sum()\n",
    "     .plot(title=f'Number of Babies Born Named \"{name}\" Per Year')\n",
    "    )"
   ]
  },
  {
   "cell_type": "code",
   "execution_count": 80,
   "id": "630c3609",
   "metadata": {},
   "outputs": [
    {
     "data": {
      "application/vnd.plotly.v1+json": {
       "config": {
        "plotlyServerURL": "https://plot.ly"
       },
       "data": [
        {
         "hovertemplate": "variable=Count<br>Year=%{x}<br>value=%{y}<extra></extra>",
         "legendgroup": "Count",
         "line": {
          "color": "#1F77B4",
          "dash": "solid"
         },
         "marker": {
          "symbol": "circle"
         },
         "mode": "lines",
         "name": "Count",
         "orientation": "v",
         "showlegend": true,
         "type": "scatter",
         "x": [
          1880,
          1881,
          1883,
          1884,
          1885,
          1886,
          1887,
          1888,
          1889,
          1890,
          1891,
          1892,
          1893,
          1894,
          1895,
          1896,
          1897,
          1898,
          1899,
          1900,
          1901,
          1902,
          1903,
          1904,
          1905,
          1906,
          1907,
          1908,
          1909,
          1910,
          1911,
          1912,
          1913,
          1914,
          1915,
          1916,
          1917,
          1918,
          1919,
          1920,
          1921,
          1922,
          1923,
          1924,
          1925,
          1926,
          1927,
          1928,
          1929,
          1930,
          1931,
          1932,
          1933,
          1934,
          1935,
          1936,
          1937,
          1938,
          1939,
          1940,
          1941,
          1942,
          1943,
          1944,
          1945,
          1946,
          1948,
          1949,
          1950,
          1951,
          1952,
          1954,
          1956,
          1957,
          1958,
          1960,
          1962,
          1964,
          1969,
          1970,
          1972,
          1974,
          1975,
          1976,
          1977,
          1978,
          1979,
          1980,
          1981,
          1982,
          1983,
          1984,
          1985,
          1986,
          1987,
          1988,
          1989,
          1990,
          1991,
          1992,
          1993,
          1994,
          1995,
          1996,
          1997,
          1998,
          1999,
          2000,
          2001,
          2002,
          2003,
          2004,
          2005,
          2006,
          2007,
          2008,
          2009,
          2010,
          2011,
          2012,
          2013,
          2014,
          2015,
          2016,
          2017,
          2018,
          2019,
          2020,
          2021,
          2022
         ],
         "xaxis": "x",
         "y": [
          15,
          18,
          17,
          18,
          15,
          20,
          22,
          24,
          19,
          24,
          24,
          25,
          27,
          30,
          23,
          27,
          36,
          32,
          30,
          30,
          23,
          32,
          28,
          30,
          30,
          26,
          33,
          39,
          27,
          38,
          23,
          31,
          34,
          44,
          44,
          58,
          49,
          45,
          53,
          47,
          61,
          50,
          56,
          34,
          44,
          22,
          38,
          28,
          34,
          21,
          18,
          29,
          19,
          15,
          19,
          12,
          16,
          12,
          12,
          8,
          13,
          17,
          10,
          12,
          8,
          6,
          9,
          8,
          6,
          8,
          5,
          7,
          5,
          8,
          5,
          6,
          6,
          5,
          12,
          11,
          11,
          5,
          9,
          8,
          8,
          7,
          8,
          10,
          11,
          12,
          9,
          11,
          8,
          13,
          5,
          16,
          20,
          15,
          21,
          22,
          23,
          47,
          50,
          69,
          91,
          103,
          109,
          144,
          169,
          178,
          271,
          369,
          477,
          592,
          713,
          807,
          1015,
          949,
          1144,
          1414,
          1747,
          2345,
          2810,
          3690,
          5362,
          6937,
          7796,
          7845,
          8227,
          8937
         ],
         "yaxis": "y"
        }
       ],
       "layout": {
        "autosize": true,
        "legend": {
         "title": {
          "text": "variable"
         },
         "tracegroupgap": 0
        },
        "template": {
         "data": {
          "bar": [
           {
            "error_x": {
             "color": "rgb(36,36,36)"
            },
            "error_y": {
             "color": "rgb(36,36,36)"
            },
            "marker": {
             "line": {
              "color": "white",
              "width": 0.5
             },
             "pattern": {
              "fillmode": "overlay",
              "size": 10,
              "solidity": 0.2
             }
            },
            "type": "bar"
           }
          ],
          "barpolar": [
           {
            "marker": {
             "line": {
              "color": "white",
              "width": 0.5
             },
             "pattern": {
              "fillmode": "overlay",
              "size": 10,
              "solidity": 0.2
             }
            },
            "type": "barpolar"
           }
          ],
          "carpet": [
           {
            "aaxis": {
             "endlinecolor": "rgb(36,36,36)",
             "gridcolor": "white",
             "linecolor": "white",
             "minorgridcolor": "white",
             "startlinecolor": "rgb(36,36,36)"
            },
            "baxis": {
             "endlinecolor": "rgb(36,36,36)",
             "gridcolor": "white",
             "linecolor": "white",
             "minorgridcolor": "white",
             "startlinecolor": "rgb(36,36,36)"
            },
            "type": "carpet"
           }
          ],
          "choropleth": [
           {
            "colorbar": {
             "outlinewidth": 1,
             "tickcolor": "rgb(36,36,36)",
             "ticks": "outside"
            },
            "type": "choropleth"
           }
          ],
          "contour": [
           {
            "colorbar": {
             "outlinewidth": 1,
             "tickcolor": "rgb(36,36,36)",
             "ticks": "outside"
            },
            "colorscale": [
             [
              0,
              "#440154"
             ],
             [
              0.1111111111111111,
              "#482878"
             ],
             [
              0.2222222222222222,
              "#3e4989"
             ],
             [
              0.3333333333333333,
              "#31688e"
             ],
             [
              0.4444444444444444,
              "#26828e"
             ],
             [
              0.5555555555555556,
              "#1f9e89"
             ],
             [
              0.6666666666666666,
              "#35b779"
             ],
             [
              0.7777777777777778,
              "#6ece58"
             ],
             [
              0.8888888888888888,
              "#b5de2b"
             ],
             [
              1,
              "#fde725"
             ]
            ],
            "type": "contour"
           }
          ],
          "contourcarpet": [
           {
            "colorbar": {
             "outlinewidth": 1,
             "tickcolor": "rgb(36,36,36)",
             "ticks": "outside"
            },
            "type": "contourcarpet"
           }
          ],
          "heatmap": [
           {
            "colorbar": {
             "outlinewidth": 1,
             "tickcolor": "rgb(36,36,36)",
             "ticks": "outside"
            },
            "colorscale": [
             [
              0,
              "#440154"
             ],
             [
              0.1111111111111111,
              "#482878"
             ],
             [
              0.2222222222222222,
              "#3e4989"
             ],
             [
              0.3333333333333333,
              "#31688e"
             ],
             [
              0.4444444444444444,
              "#26828e"
             ],
             [
              0.5555555555555556,
              "#1f9e89"
             ],
             [
              0.6666666666666666,
              "#35b779"
             ],
             [
              0.7777777777777778,
              "#6ece58"
             ],
             [
              0.8888888888888888,
              "#b5de2b"
             ],
             [
              1,
              "#fde725"
             ]
            ],
            "type": "heatmap"
           }
          ],
          "heatmapgl": [
           {
            "colorbar": {
             "outlinewidth": 1,
             "tickcolor": "rgb(36,36,36)",
             "ticks": "outside"
            },
            "colorscale": [
             [
              0,
              "#440154"
             ],
             [
              0.1111111111111111,
              "#482878"
             ],
             [
              0.2222222222222222,
              "#3e4989"
             ],
             [
              0.3333333333333333,
              "#31688e"
             ],
             [
              0.4444444444444444,
              "#26828e"
             ],
             [
              0.5555555555555556,
              "#1f9e89"
             ],
             [
              0.6666666666666666,
              "#35b779"
             ],
             [
              0.7777777777777778,
              "#6ece58"
             ],
             [
              0.8888888888888888,
              "#b5de2b"
             ],
             [
              1,
              "#fde725"
             ]
            ],
            "type": "heatmapgl"
           }
          ],
          "histogram": [
           {
            "marker": {
             "line": {
              "color": "white",
              "width": 0.6
             }
            },
            "type": "histogram"
           }
          ],
          "histogram2d": [
           {
            "colorbar": {
             "outlinewidth": 1,
             "tickcolor": "rgb(36,36,36)",
             "ticks": "outside"
            },
            "colorscale": [
             [
              0,
              "#440154"
             ],
             [
              0.1111111111111111,
              "#482878"
             ],
             [
              0.2222222222222222,
              "#3e4989"
             ],
             [
              0.3333333333333333,
              "#31688e"
             ],
             [
              0.4444444444444444,
              "#26828e"
             ],
             [
              0.5555555555555556,
              "#1f9e89"
             ],
             [
              0.6666666666666666,
              "#35b779"
             ],
             [
              0.7777777777777778,
              "#6ece58"
             ],
             [
              0.8888888888888888,
              "#b5de2b"
             ],
             [
              1,
              "#fde725"
             ]
            ],
            "type": "histogram2d"
           }
          ],
          "histogram2dcontour": [
           {
            "colorbar": {
             "outlinewidth": 1,
             "tickcolor": "rgb(36,36,36)",
             "ticks": "outside"
            },
            "colorscale": [
             [
              0,
              "#440154"
             ],
             [
              0.1111111111111111,
              "#482878"
             ],
             [
              0.2222222222222222,
              "#3e4989"
             ],
             [
              0.3333333333333333,
              "#31688e"
             ],
             [
              0.4444444444444444,
              "#26828e"
             ],
             [
              0.5555555555555556,
              "#1f9e89"
             ],
             [
              0.6666666666666666,
              "#35b779"
             ],
             [
              0.7777777777777778,
              "#6ece58"
             ],
             [
              0.8888888888888888,
              "#b5de2b"
             ],
             [
              1,
              "#fde725"
             ]
            ],
            "type": "histogram2dcontour"
           }
          ],
          "mesh3d": [
           {
            "colorbar": {
             "outlinewidth": 1,
             "tickcolor": "rgb(36,36,36)",
             "ticks": "outside"
            },
            "type": "mesh3d"
           }
          ],
          "parcoords": [
           {
            "line": {
             "colorbar": {
              "outlinewidth": 1,
              "tickcolor": "rgb(36,36,36)",
              "ticks": "outside"
             }
            },
            "type": "parcoords"
           }
          ],
          "pie": [
           {
            "automargin": true,
            "type": "pie"
           }
          ],
          "scatter": [
           {
            "fillpattern": {
             "fillmode": "overlay",
             "size": 10,
             "solidity": 0.2
            },
            "type": "scatter"
           }
          ],
          "scatter3d": [
           {
            "line": {
             "colorbar": {
              "outlinewidth": 1,
              "tickcolor": "rgb(36,36,36)",
              "ticks": "outside"
             }
            },
            "marker": {
             "colorbar": {
              "outlinewidth": 1,
              "tickcolor": "rgb(36,36,36)",
              "ticks": "outside"
             }
            },
            "type": "scatter3d"
           }
          ],
          "scattercarpet": [
           {
            "marker": {
             "colorbar": {
              "outlinewidth": 1,
              "tickcolor": "rgb(36,36,36)",
              "ticks": "outside"
             }
            },
            "type": "scattercarpet"
           }
          ],
          "scattergeo": [
           {
            "marker": {
             "colorbar": {
              "outlinewidth": 1,
              "tickcolor": "rgb(36,36,36)",
              "ticks": "outside"
             }
            },
            "type": "scattergeo"
           }
          ],
          "scattergl": [
           {
            "marker": {
             "colorbar": {
              "outlinewidth": 1,
              "tickcolor": "rgb(36,36,36)",
              "ticks": "outside"
             }
            },
            "type": "scattergl"
           }
          ],
          "scattermapbox": [
           {
            "marker": {
             "colorbar": {
              "outlinewidth": 1,
              "tickcolor": "rgb(36,36,36)",
              "ticks": "outside"
             }
            },
            "type": "scattermapbox"
           }
          ],
          "scatterpolar": [
           {
            "marker": {
             "colorbar": {
              "outlinewidth": 1,
              "tickcolor": "rgb(36,36,36)",
              "ticks": "outside"
             }
            },
            "type": "scatterpolar"
           }
          ],
          "scatterpolargl": [
           {
            "marker": {
             "colorbar": {
              "outlinewidth": 1,
              "tickcolor": "rgb(36,36,36)",
              "ticks": "outside"
             }
            },
            "type": "scatterpolargl"
           }
          ],
          "scatterternary": [
           {
            "marker": {
             "colorbar": {
              "outlinewidth": 1,
              "tickcolor": "rgb(36,36,36)",
              "ticks": "outside"
             }
            },
            "type": "scatterternary"
           }
          ],
          "surface": [
           {
            "colorbar": {
             "outlinewidth": 1,
             "tickcolor": "rgb(36,36,36)",
             "ticks": "outside"
            },
            "colorscale": [
             [
              0,
              "#440154"
             ],
             [
              0.1111111111111111,
              "#482878"
             ],
             [
              0.2222222222222222,
              "#3e4989"
             ],
             [
              0.3333333333333333,
              "#31688e"
             ],
             [
              0.4444444444444444,
              "#26828e"
             ],
             [
              0.5555555555555556,
              "#1f9e89"
             ],
             [
              0.6666666666666666,
              "#35b779"
             ],
             [
              0.7777777777777778,
              "#6ece58"
             ],
             [
              0.8888888888888888,
              "#b5de2b"
             ],
             [
              1,
              "#fde725"
             ]
            ],
            "type": "surface"
           }
          ],
          "table": [
           {
            "cells": {
             "fill": {
              "color": "rgb(237,237,237)"
             },
             "line": {
              "color": "white"
             }
            },
            "header": {
             "fill": {
              "color": "rgb(217,217,217)"
             },
             "line": {
              "color": "white"
             }
            },
            "type": "table"
           }
          ]
         },
         "layout": {
          "annotationdefaults": {
           "arrowhead": 0,
           "arrowwidth": 1
          },
          "autosize": true,
          "autotypenumbers": "strict",
          "coloraxis": {
           "colorbar": {
            "outlinewidth": 1,
            "tickcolor": "rgb(36,36,36)",
            "ticks": "outside"
           }
          },
          "colorscale": {
           "diverging": [
            [
             0,
             "rgb(103,0,31)"
            ],
            [
             0.1,
             "rgb(178,24,43)"
            ],
            [
             0.2,
             "rgb(214,96,77)"
            ],
            [
             0.3,
             "rgb(244,165,130)"
            ],
            [
             0.4,
             "rgb(253,219,199)"
            ],
            [
             0.5,
             "rgb(247,247,247)"
            ],
            [
             0.6,
             "rgb(209,229,240)"
            ],
            [
             0.7,
             "rgb(146,197,222)"
            ],
            [
             0.8,
             "rgb(67,147,195)"
            ],
            [
             0.9,
             "rgb(33,102,172)"
            ],
            [
             1,
             "rgb(5,48,97)"
            ]
           ],
           "sequential": [
            [
             0,
             "#440154"
            ],
            [
             0.1111111111111111,
             "#482878"
            ],
            [
             0.2222222222222222,
             "#3e4989"
            ],
            [
             0.3333333333333333,
             "#31688e"
            ],
            [
             0.4444444444444444,
             "#26828e"
            ],
            [
             0.5555555555555556,
             "#1f9e89"
            ],
            [
             0.6666666666666666,
             "#35b779"
            ],
            [
             0.7777777777777778,
             "#6ece58"
            ],
            [
             0.8888888888888888,
             "#b5de2b"
            ],
            [
             1,
             "#fde725"
            ]
           ],
           "sequentialminus": [
            [
             0,
             "#440154"
            ],
            [
             0.1111111111111111,
             "#482878"
            ],
            [
             0.2222222222222222,
             "#3e4989"
            ],
            [
             0.3333333333333333,
             "#31688e"
            ],
            [
             0.4444444444444444,
             "#26828e"
            ],
            [
             0.5555555555555556,
             "#1f9e89"
            ],
            [
             0.6666666666666666,
             "#35b779"
            ],
            [
             0.7777777777777778,
             "#6ece58"
            ],
            [
             0.8888888888888888,
             "#b5de2b"
            ],
            [
             1,
             "#fde725"
            ]
           ]
          },
          "colorway": [
           "#1F77B4",
           "#FF7F0E",
           "#2CA02C",
           "#D62728",
           "#9467BD",
           "#8C564B",
           "#E377C2",
           "#7F7F7F",
           "#BCBD22",
           "#17BECF"
          ],
          "font": {
           "color": "rgb(36,36,36)"
          },
          "geo": {
           "bgcolor": "white",
           "lakecolor": "white",
           "landcolor": "white",
           "showlakes": true,
           "showland": true,
           "subunitcolor": "white"
          },
          "height": 400,
          "hoverlabel": {
           "align": "left"
          },
          "hovermode": "closest",
          "mapbox": {
           "style": "light"
          },
          "margin": {
           "b": 30,
           "l": 30,
           "r": 30,
           "t": 30
          },
          "paper_bgcolor": "white",
          "plot_bgcolor": "white",
          "polar": {
           "angularaxis": {
            "gridcolor": "rgb(232,232,232)",
            "linecolor": "rgb(36,36,36)",
            "showgrid": false,
            "showline": true,
            "ticks": "outside"
           },
           "bgcolor": "white",
           "radialaxis": {
            "gridcolor": "rgb(232,232,232)",
            "linecolor": "rgb(36,36,36)",
            "showgrid": false,
            "showline": true,
            "ticks": "outside"
           }
          },
          "scene": {
           "xaxis": {
            "backgroundcolor": "white",
            "gridcolor": "rgb(232,232,232)",
            "gridwidth": 2,
            "linecolor": "rgb(36,36,36)",
            "showbackground": true,
            "showgrid": false,
            "showline": true,
            "ticks": "outside",
            "zeroline": false,
            "zerolinecolor": "rgb(36,36,36)"
           },
           "yaxis": {
            "backgroundcolor": "white",
            "gridcolor": "rgb(232,232,232)",
            "gridwidth": 2,
            "linecolor": "rgb(36,36,36)",
            "showbackground": true,
            "showgrid": false,
            "showline": true,
            "ticks": "outside",
            "zeroline": false,
            "zerolinecolor": "rgb(36,36,36)"
           },
           "zaxis": {
            "backgroundcolor": "white",
            "gridcolor": "rgb(232,232,232)",
            "gridwidth": 2,
            "linecolor": "rgb(36,36,36)",
            "showbackground": true,
            "showgrid": false,
            "showline": true,
            "ticks": "outside",
            "zeroline": false,
            "zerolinecolor": "rgb(36,36,36)"
           }
          },
          "shapedefaults": {
           "fillcolor": "black",
           "line": {
            "width": 0
           },
           "opacity": 0.3
          },
          "ternary": {
           "aaxis": {
            "gridcolor": "rgb(232,232,232)",
            "linecolor": "rgb(36,36,36)",
            "showgrid": false,
            "showline": true,
            "ticks": "outside"
           },
           "baxis": {
            "gridcolor": "rgb(232,232,232)",
            "linecolor": "rgb(36,36,36)",
            "showgrid": false,
            "showline": true,
            "ticks": "outside"
           },
           "bgcolor": "white",
           "caxis": {
            "gridcolor": "rgb(232,232,232)",
            "linecolor": "rgb(36,36,36)",
            "showgrid": false,
            "showline": true,
            "ticks": "outside"
           }
          },
          "title": {
           "x": 0.5,
           "xanchor": "center"
          },
          "width": 600,
          "xaxis": {
           "automargin": true,
           "gridcolor": "rgb(232,232,232)",
           "linecolor": "rgb(36,36,36)",
           "showgrid": true,
           "showline": true,
           "ticks": "outside",
           "title": {
            "standoff": 15
           },
           "zeroline": false,
           "zerolinecolor": "rgb(36,36,36)"
          },
          "yaxis": {
           "automargin": true,
           "gridcolor": "rgb(232,232,232)",
           "linecolor": "rgb(36,36,36)",
           "showgrid": true,
           "showline": true,
           "ticks": "outside",
           "title": {
            "standoff": 15
           },
           "zeroline": false,
           "zerolinecolor": "rgb(36,36,36)"
          }
         }
        },
        "title": {
         "text": "Number of Babies Born Named \"Luna\" Per Year"
        },
        "xaxis": {
         "anchor": "y",
         "autorange": true,
         "domain": [
          0,
          1
         ],
         "range": [
          1880,
          2022
         ],
         "title": {
          "text": "Year"
         },
         "type": "linear"
        },
        "yaxis": {
         "anchor": "x",
         "autorange": true,
         "domain": [
          0,
          1
         ],
         "range": [
          -491.22222222222223,
          9433.222222222223
         ],
         "title": {
          "text": "value"
         },
         "type": "linear"
        }
       }
      },
      "image/png": "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",
      "text/html": [
       "<div>                            <div id=\"5ec69127-c1fe-48e1-99a7-7e5d8cba961c\" class=\"plotly-graph-div\" style=\"height:400px; width:600px;\"></div>            <script type=\"text/javascript\">                require([\"plotly\"], function(Plotly) {                    window.PLOTLYENV=window.PLOTLYENV || {};                                    if (document.getElementById(\"5ec69127-c1fe-48e1-99a7-7e5d8cba961c\")) {                    Plotly.newPlot(                        \"5ec69127-c1fe-48e1-99a7-7e5d8cba961c\",                        [{\"hovertemplate\":\"variable=Count\\u003cbr\\u003eYear=%{x}\\u003cbr\\u003evalue=%{y}\\u003cextra\\u003e\\u003c\\u002fextra\\u003e\",\"legendgroup\":\"Count\",\"line\":{\"color\":\"#1F77B4\",\"dash\":\"solid\"},\"marker\":{\"symbol\":\"circle\"},\"mode\":\"lines\",\"name\":\"Count\",\"orientation\":\"v\",\"showlegend\":true,\"x\":[1880,1881,1883,1884,1885,1886,1887,1888,1889,1890,1891,1892,1893,1894,1895,1896,1897,1898,1899,1900,1901,1902,1903,1904,1905,1906,1907,1908,1909,1910,1911,1912,1913,1914,1915,1916,1917,1918,1919,1920,1921,1922,1923,1924,1925,1926,1927,1928,1929,1930,1931,1932,1933,1934,1935,1936,1937,1938,1939,1940,1941,1942,1943,1944,1945,1946,1948,1949,1950,1951,1952,1954,1956,1957,1958,1960,1962,1964,1969,1970,1972,1974,1975,1976,1977,1978,1979,1980,1981,1982,1983,1984,1985,1986,1987,1988,1989,1990,1991,1992,1993,1994,1995,1996,1997,1998,1999,2000,2001,2002,2003,2004,2005,2006,2007,2008,2009,2010,2011,2012,2013,2014,2015,2016,2017,2018,2019,2020,2021,2022],\"xaxis\":\"x\",\"y\":[15,18,17,18,15,20,22,24,19,24,24,25,27,30,23,27,36,32,30,30,23,32,28,30,30,26,33,39,27,38,23,31,34,44,44,58,49,45,53,47,61,50,56,34,44,22,38,28,34,21,18,29,19,15,19,12,16,12,12,8,13,17,10,12,8,6,9,8,6,8,5,7,5,8,5,6,6,5,12,11,11,5,9,8,8,7,8,10,11,12,9,11,8,13,5,16,20,15,21,22,23,47,50,69,91,103,109,144,169,178,271,369,477,592,713,807,1015,949,1144,1414,1747,2345,2810,3690,5362,6937,7796,7845,8227,8937],\"yaxis\":\"y\",\"type\":\"scatter\"}],                        {\"template\":{\"data\":{\"barpolar\":[{\"marker\":{\"line\":{\"color\":\"white\",\"width\":0.5},\"pattern\":{\"fillmode\":\"overlay\",\"size\":10,\"solidity\":0.2}},\"type\":\"barpolar\"}],\"bar\":[{\"error_x\":{\"color\":\"rgb(36,36,36)\"},\"error_y\":{\"color\":\"rgb(36,36,36)\"},\"marker\":{\"line\":{\"color\":\"white\",\"width\":0.5},\"pattern\":{\"fillmode\":\"overlay\",\"size\":10,\"solidity\":0.2}},\"type\":\"bar\"}],\"carpet\":[{\"aaxis\":{\"endlinecolor\":\"rgb(36,36,36)\",\"gridcolor\":\"white\",\"linecolor\":\"white\",\"minorgridcolor\":\"white\",\"startlinecolor\":\"rgb(36,36,36)\"},\"baxis\":{\"endlinecolor\":\"rgb(36,36,36)\",\"gridcolor\":\"white\",\"linecolor\":\"white\",\"minorgridcolor\":\"white\",\"startlinecolor\":\"rgb(36,36,36)\"},\"type\":\"carpet\"}],\"choropleth\":[{\"colorbar\":{\"outlinewidth\":1,\"tickcolor\":\"rgb(36,36,36)\",\"ticks\":\"outside\"},\"type\":\"choropleth\"}],\"contourcarpet\":[{\"colorbar\":{\"outlinewidth\":1,\"tickcolor\":\"rgb(36,36,36)\",\"ticks\":\"outside\"},\"type\":\"contourcarpet\"}],\"contour\":[{\"colorbar\":{\"outlinewidth\":1,\"tickcolor\":\"rgb(36,36,36)\",\"ticks\":\"outside\"},\"colorscale\":[[0.0,\"#440154\"],[0.1111111111111111,\"#482878\"],[0.2222222222222222,\"#3e4989\"],[0.3333333333333333,\"#31688e\"],[0.4444444444444444,\"#26828e\"],[0.5555555555555556,\"#1f9e89\"],[0.6666666666666666,\"#35b779\"],[0.7777777777777778,\"#6ece58\"],[0.8888888888888888,\"#b5de2b\"],[1.0,\"#fde725\"]],\"type\":\"contour\"}],\"heatmapgl\":[{\"colorbar\":{\"outlinewidth\":1,\"tickcolor\":\"rgb(36,36,36)\",\"ticks\":\"outside\"},\"colorscale\":[[0.0,\"#440154\"],[0.1111111111111111,\"#482878\"],[0.2222222222222222,\"#3e4989\"],[0.3333333333333333,\"#31688e\"],[0.4444444444444444,\"#26828e\"],[0.5555555555555556,\"#1f9e89\"],[0.6666666666666666,\"#35b779\"],[0.7777777777777778,\"#6ece58\"],[0.8888888888888888,\"#b5de2b\"],[1.0,\"#fde725\"]],\"type\":\"heatmapgl\"}],\"heatmap\":[{\"colorbar\":{\"outlinewidth\":1,\"tickcolor\":\"rgb(36,36,36)\",\"ticks\":\"outside\"},\"colorscale\":[[0.0,\"#440154\"],[0.1111111111111111,\"#482878\"],[0.2222222222222222,\"#3e4989\"],[0.3333333333333333,\"#31688e\"],[0.4444444444444444,\"#26828e\"],[0.5555555555555556,\"#1f9e89\"],[0.6666666666666666,\"#35b779\"],[0.7777777777777778,\"#6ece58\"],[0.8888888888888888,\"#b5de2b\"],[1.0,\"#fde725\"]],\"type\":\"heatmap\"}],\"histogram2dcontour\":[{\"colorbar\":{\"outlinewidth\":1,\"tickcolor\":\"rgb(36,36,36)\",\"ticks\":\"outside\"},\"colorscale\":[[0.0,\"#440154\"],[0.1111111111111111,\"#482878\"],[0.2222222222222222,\"#3e4989\"],[0.3333333333333333,\"#31688e\"],[0.4444444444444444,\"#26828e\"],[0.5555555555555556,\"#1f9e89\"],[0.6666666666666666,\"#35b779\"],[0.7777777777777778,\"#6ece58\"],[0.8888888888888888,\"#b5de2b\"],[1.0,\"#fde725\"]],\"type\":\"histogram2dcontour\"}],\"histogram2d\":[{\"colorbar\":{\"outlinewidth\":1,\"tickcolor\":\"rgb(36,36,36)\",\"ticks\":\"outside\"},\"colorscale\":[[0.0,\"#440154\"],[0.1111111111111111,\"#482878\"],[0.2222222222222222,\"#3e4989\"],[0.3333333333333333,\"#31688e\"],[0.4444444444444444,\"#26828e\"],[0.5555555555555556,\"#1f9e89\"],[0.6666666666666666,\"#35b779\"],[0.7777777777777778,\"#6ece58\"],[0.8888888888888888,\"#b5de2b\"],[1.0,\"#fde725\"]],\"type\":\"histogram2d\"}],\"histogram\":[{\"marker\":{\"line\":{\"color\":\"white\",\"width\":0.6}},\"type\":\"histogram\"}],\"mesh3d\":[{\"colorbar\":{\"outlinewidth\":1,\"tickcolor\":\"rgb(36,36,36)\",\"ticks\":\"outside\"},\"type\":\"mesh3d\"}],\"parcoords\":[{\"line\":{\"colorbar\":{\"outlinewidth\":1,\"tickcolor\":\"rgb(36,36,36)\",\"ticks\":\"outside\"}},\"type\":\"parcoords\"}],\"pie\":[{\"automargin\":true,\"type\":\"pie\"}],\"scatter3d\":[{\"line\":{\"colorbar\":{\"outlinewidth\":1,\"tickcolor\":\"rgb(36,36,36)\",\"ticks\":\"outside\"}},\"marker\":{\"colorbar\":{\"outlinewidth\":1,\"tickcolor\":\"rgb(36,36,36)\",\"ticks\":\"outside\"}},\"type\":\"scatter3d\"}],\"scattercarpet\":[{\"marker\":{\"colorbar\":{\"outlinewidth\":1,\"tickcolor\":\"rgb(36,36,36)\",\"ticks\":\"outside\"}},\"type\":\"scattercarpet\"}],\"scattergeo\":[{\"marker\":{\"colorbar\":{\"outlinewidth\":1,\"tickcolor\":\"rgb(36,36,36)\",\"ticks\":\"outside\"}},\"type\":\"scattergeo\"}],\"scattergl\":[{\"marker\":{\"colorbar\":{\"outlinewidth\":1,\"tickcolor\":\"rgb(36,36,36)\",\"ticks\":\"outside\"}},\"type\":\"scattergl\"}],\"scattermapbox\":[{\"marker\":{\"colorbar\":{\"outlinewidth\":1,\"tickcolor\":\"rgb(36,36,36)\",\"ticks\":\"outside\"}},\"type\":\"scattermapbox\"}],\"scatterpolargl\":[{\"marker\":{\"colorbar\":{\"outlinewidth\":1,\"tickcolor\":\"rgb(36,36,36)\",\"ticks\":\"outside\"}},\"type\":\"scatterpolargl\"}],\"scatterpolar\":[{\"marker\":{\"colorbar\":{\"outlinewidth\":1,\"tickcolor\":\"rgb(36,36,36)\",\"ticks\":\"outside\"}},\"type\":\"scatterpolar\"}],\"scatter\":[{\"fillpattern\":{\"fillmode\":\"overlay\",\"size\":10,\"solidity\":0.2},\"type\":\"scatter\"}],\"scatterternary\":[{\"marker\":{\"colorbar\":{\"outlinewidth\":1,\"tickcolor\":\"rgb(36,36,36)\",\"ticks\":\"outside\"}},\"type\":\"scatterternary\"}],\"surface\":[{\"colorbar\":{\"outlinewidth\":1,\"tickcolor\":\"rgb(36,36,36)\",\"ticks\":\"outside\"},\"colorscale\":[[0.0,\"#440154\"],[0.1111111111111111,\"#482878\"],[0.2222222222222222,\"#3e4989\"],[0.3333333333333333,\"#31688e\"],[0.4444444444444444,\"#26828e\"],[0.5555555555555556,\"#1f9e89\"],[0.6666666666666666,\"#35b779\"],[0.7777777777777778,\"#6ece58\"],[0.8888888888888888,\"#b5de2b\"],[1.0,\"#fde725\"]],\"type\":\"surface\"}],\"table\":[{\"cells\":{\"fill\":{\"color\":\"rgb(237,237,237)\"},\"line\":{\"color\":\"white\"}},\"header\":{\"fill\":{\"color\":\"rgb(217,217,217)\"},\"line\":{\"color\":\"white\"}},\"type\":\"table\"}]},\"layout\":{\"annotationdefaults\":{\"arrowhead\":0,\"arrowwidth\":1},\"autotypenumbers\":\"strict\",\"coloraxis\":{\"colorbar\":{\"outlinewidth\":1,\"tickcolor\":\"rgb(36,36,36)\",\"ticks\":\"outside\"}},\"colorscale\":{\"diverging\":[[0.0,\"rgb(103,0,31)\"],[0.1,\"rgb(178,24,43)\"],[0.2,\"rgb(214,96,77)\"],[0.3,\"rgb(244,165,130)\"],[0.4,\"rgb(253,219,199)\"],[0.5,\"rgb(247,247,247)\"],[0.6,\"rgb(209,229,240)\"],[0.7,\"rgb(146,197,222)\"],[0.8,\"rgb(67,147,195)\"],[0.9,\"rgb(33,102,172)\"],[1.0,\"rgb(5,48,97)\"]],\"sequential\":[[0.0,\"#440154\"],[0.1111111111111111,\"#482878\"],[0.2222222222222222,\"#3e4989\"],[0.3333333333333333,\"#31688e\"],[0.4444444444444444,\"#26828e\"],[0.5555555555555556,\"#1f9e89\"],[0.6666666666666666,\"#35b779\"],[0.7777777777777778,\"#6ece58\"],[0.8888888888888888,\"#b5de2b\"],[1.0,\"#fde725\"]],\"sequentialminus\":[[0.0,\"#440154\"],[0.1111111111111111,\"#482878\"],[0.2222222222222222,\"#3e4989\"],[0.3333333333333333,\"#31688e\"],[0.4444444444444444,\"#26828e\"],[0.5555555555555556,\"#1f9e89\"],[0.6666666666666666,\"#35b779\"],[0.7777777777777778,\"#6ece58\"],[0.8888888888888888,\"#b5de2b\"],[1.0,\"#fde725\"]]},\"colorway\":[\"#1F77B4\",\"#FF7F0E\",\"#2CA02C\",\"#D62728\",\"#9467BD\",\"#8C564B\",\"#E377C2\",\"#7F7F7F\",\"#BCBD22\",\"#17BECF\"],\"font\":{\"color\":\"rgb(36,36,36)\"},\"geo\":{\"bgcolor\":\"white\",\"lakecolor\":\"white\",\"landcolor\":\"white\",\"showlakes\":true,\"showland\":true,\"subunitcolor\":\"white\"},\"hoverlabel\":{\"align\":\"left\"},\"hovermode\":\"closest\",\"mapbox\":{\"style\":\"light\"},\"paper_bgcolor\":\"white\",\"plot_bgcolor\":\"white\",\"polar\":{\"angularaxis\":{\"gridcolor\":\"rgb(232,232,232)\",\"linecolor\":\"rgb(36,36,36)\",\"showgrid\":false,\"showline\":true,\"ticks\":\"outside\"},\"bgcolor\":\"white\",\"radialaxis\":{\"gridcolor\":\"rgb(232,232,232)\",\"linecolor\":\"rgb(36,36,36)\",\"showgrid\":false,\"showline\":true,\"ticks\":\"outside\"}},\"scene\":{\"xaxis\":{\"backgroundcolor\":\"white\",\"gridcolor\":\"rgb(232,232,232)\",\"gridwidth\":2,\"linecolor\":\"rgb(36,36,36)\",\"showbackground\":true,\"showgrid\":false,\"showline\":true,\"ticks\":\"outside\",\"zeroline\":false,\"zerolinecolor\":\"rgb(36,36,36)\"},\"yaxis\":{\"backgroundcolor\":\"white\",\"gridcolor\":\"rgb(232,232,232)\",\"gridwidth\":2,\"linecolor\":\"rgb(36,36,36)\",\"showbackground\":true,\"showgrid\":false,\"showline\":true,\"ticks\":\"outside\",\"zeroline\":false,\"zerolinecolor\":\"rgb(36,36,36)\"},\"zaxis\":{\"backgroundcolor\":\"white\",\"gridcolor\":\"rgb(232,232,232)\",\"gridwidth\":2,\"linecolor\":\"rgb(36,36,36)\",\"showbackground\":true,\"showgrid\":false,\"showline\":true,\"ticks\":\"outside\",\"zeroline\":false,\"zerolinecolor\":\"rgb(36,36,36)\"}},\"shapedefaults\":{\"fillcolor\":\"black\",\"line\":{\"width\":0},\"opacity\":0.3},\"ternary\":{\"aaxis\":{\"gridcolor\":\"rgb(232,232,232)\",\"linecolor\":\"rgb(36,36,36)\",\"showgrid\":false,\"showline\":true,\"ticks\":\"outside\"},\"baxis\":{\"gridcolor\":\"rgb(232,232,232)\",\"linecolor\":\"rgb(36,36,36)\",\"showgrid\":false,\"showline\":true,\"ticks\":\"outside\"},\"bgcolor\":\"white\",\"caxis\":{\"gridcolor\":\"rgb(232,232,232)\",\"linecolor\":\"rgb(36,36,36)\",\"showgrid\":false,\"showline\":true,\"ticks\":\"outside\"}},\"title\":{\"x\":0.5,\"xanchor\":\"center\"},\"xaxis\":{\"automargin\":true,\"gridcolor\":\"rgb(232,232,232)\",\"linecolor\":\"rgb(36,36,36)\",\"showgrid\":true,\"showline\":true,\"ticks\":\"outside\",\"title\":{\"standoff\":15},\"zeroline\":false,\"zerolinecolor\":\"rgb(36,36,36)\"},\"yaxis\":{\"automargin\":true,\"gridcolor\":\"rgb(232,232,232)\",\"linecolor\":\"rgb(36,36,36)\",\"showgrid\":true,\"showline\":true,\"ticks\":\"outside\",\"title\":{\"standoff\":15},\"zeroline\":false,\"zerolinecolor\":\"rgb(36,36,36)\"},\"autosize\":true,\"height\":400,\"margin\":{\"b\":30,\"l\":30,\"r\":30,\"t\":30},\"width\":600}},\"xaxis\":{\"anchor\":\"y\",\"domain\":[0.0,1.0],\"title\":{\"text\":\"Year\"}},\"yaxis\":{\"anchor\":\"x\",\"domain\":[0.0,1.0],\"title\":{\"text\":\"value\"}},\"legend\":{\"title\":{\"text\":\"variable\"},\"tracegroupgap\":0},\"title\":{\"text\":\"Number of Babies Born Named \\\"Luna\\\" Per Year\"}},                        {\"responsive\": true}                    ).then(function(){\n",
       "                            \n",
       "var gd = document.getElementById('5ec69127-c1fe-48e1-99a7-7e5d8cba961c');\n",
       "var x = new MutationObserver(function (mutations, observer) {{\n",
       "        var display = window.getComputedStyle(gd).display;\n",
       "        if (!display || display === 'none') {{\n",
       "            console.log([gd, 'removed!']);\n",
       "            Plotly.purge(gd);\n",
       "            observer.disconnect();\n",
       "        }}\n",
       "}});\n",
       "\n",
       "// Listen for the removal of the full notebook cells\n",
       "var notebookContainer = gd.closest('#notebook-container');\n",
       "if (notebookContainer) {{\n",
       "    x.observe(notebookContainer, {childList: true});\n",
       "}}\n",
       "\n",
       "// Listen for the clearing of the current output cell\n",
       "var outputEl = gd.closest('.output');\n",
       "if (outputEl) {{\n",
       "    x.observe(outputEl, {childList: true});\n",
       "}}\n",
       "\n",
       "                        })                };                });            </script>        </div>"
      ]
     },
     "metadata": {},
     "output_type": "display_data"
    }
   ],
   "source": [
    "name_graph('Luna')"
   ]
  },
  {
   "cell_type": "markdown",
   "id": "fdeb94d7",
   "metadata": {
    "slideshow": {
     "slide_type": "slide"
    }
   },
   "source": [
    "### What about other names?"
   ]
  },
  {
   "cell_type": "code",
   "execution_count": 81,
   "id": "63c59294",
   "metadata": {},
   "outputs": [
    {
     "data": {
      "application/vnd.plotly.v1+json": {
       "config": {
        "plotlyServerURL": "https://plot.ly"
       },
       "data": [
        {
         "hovertemplate": "variable=Count<br>Year=%{x}<br>value=%{y}<extra></extra>",
         "legendgroup": "Count",
         "line": {
          "color": "#1F77B4",
          "dash": "solid"
         },
         "marker": {
          "symbol": "circle"
         },
         "mode": "lines",
         "name": "Count",
         "orientation": "v",
         "showlegend": true,
         "type": "scatter",
         "x": [
          1916,
          1917,
          1921,
          1923,
          1924,
          1925,
          1926,
          1927,
          1928,
          1931,
          1935,
          1937,
          1941,
          1942,
          1943,
          1944,
          1945,
          1946,
          1947,
          1948,
          1949,
          1950,
          1951,
          1952,
          1953,
          1954,
          1955,
          1956,
          1957,
          1958,
          1959,
          1960,
          1961,
          1962,
          1963,
          1964,
          1965,
          1966,
          1967,
          1968,
          1969,
          1970,
          1971,
          1972,
          1973,
          1974,
          1975,
          1976,
          1977,
          1978,
          1979,
          1980,
          1981,
          1982,
          1983,
          1984,
          1985,
          1986,
          1987,
          1988,
          1989,
          1990,
          1991,
          1992,
          1993,
          1994,
          1995,
          1996,
          1997,
          1998,
          1999,
          2000,
          2001,
          2002,
          2003,
          2004,
          2005,
          2006,
          2007,
          2008,
          2009,
          2010,
          2011,
          2012,
          2013,
          2014,
          2015,
          2016,
          2017,
          2018,
          2019,
          2020,
          2021,
          2022
         ],
         "xaxis": "x",
         "y": [
          5,
          5,
          6,
          5,
          5,
          10,
          6,
          6,
          7,
          5,
          5,
          7,
          6,
          8,
          6,
          16,
          20,
          24,
          46,
          48,
          45,
          38,
          55,
          52,
          39,
          33,
          41,
          33,
          53,
          39,
          26,
          34,
          36,
          47,
          34,
          31,
          28,
          32,
          46,
          79,
          75,
          85,
          68,
          92,
          152,
          213,
          211,
          202,
          189,
          175,
          176,
          179,
          222,
          215,
          219,
          215,
          200,
          503,
          830,
          925,
          1310,
          2139,
          2487,
          2240,
          3050,
          3459,
          3359,
          3266,
          3096,
          3622,
          3652,
          3682,
          3909,
          4408,
          4603,
          4468,
          4674,
          6122,
          5794,
          5239,
          5317,
          5049,
          4518,
          4296,
          4111,
          4256,
          6067,
          4777,
          3898,
          3074,
          2006,
          1288,
          704,
          574
         ],
         "yaxis": "y"
        }
       ],
       "layout": {
        "autosize": true,
        "legend": {
         "title": {
          "text": "variable"
         },
         "tracegroupgap": 0
        },
        "template": {
         "data": {
          "bar": [
           {
            "error_x": {
             "color": "rgb(36,36,36)"
            },
            "error_y": {
             "color": "rgb(36,36,36)"
            },
            "marker": {
             "line": {
              "color": "white",
              "width": 0.5
             },
             "pattern": {
              "fillmode": "overlay",
              "size": 10,
              "solidity": 0.2
             }
            },
            "type": "bar"
           }
          ],
          "barpolar": [
           {
            "marker": {
             "line": {
              "color": "white",
              "width": 0.5
             },
             "pattern": {
              "fillmode": "overlay",
              "size": 10,
              "solidity": 0.2
             }
            },
            "type": "barpolar"
           }
          ],
          "carpet": [
           {
            "aaxis": {
             "endlinecolor": "rgb(36,36,36)",
             "gridcolor": "white",
             "linecolor": "white",
             "minorgridcolor": "white",
             "startlinecolor": "rgb(36,36,36)"
            },
            "baxis": {
             "endlinecolor": "rgb(36,36,36)",
             "gridcolor": "white",
             "linecolor": "white",
             "minorgridcolor": "white",
             "startlinecolor": "rgb(36,36,36)"
            },
            "type": "carpet"
           }
          ],
          "choropleth": [
           {
            "colorbar": {
             "outlinewidth": 1,
             "tickcolor": "rgb(36,36,36)",
             "ticks": "outside"
            },
            "type": "choropleth"
           }
          ],
          "contour": [
           {
            "colorbar": {
             "outlinewidth": 1,
             "tickcolor": "rgb(36,36,36)",
             "ticks": "outside"
            },
            "colorscale": [
             [
              0,
              "#440154"
             ],
             [
              0.1111111111111111,
              "#482878"
             ],
             [
              0.2222222222222222,
              "#3e4989"
             ],
             [
              0.3333333333333333,
              "#31688e"
             ],
             [
              0.4444444444444444,
              "#26828e"
             ],
             [
              0.5555555555555556,
              "#1f9e89"
             ],
             [
              0.6666666666666666,
              "#35b779"
             ],
             [
              0.7777777777777778,
              "#6ece58"
             ],
             [
              0.8888888888888888,
              "#b5de2b"
             ],
             [
              1,
              "#fde725"
             ]
            ],
            "type": "contour"
           }
          ],
          "contourcarpet": [
           {
            "colorbar": {
             "outlinewidth": 1,
             "tickcolor": "rgb(36,36,36)",
             "ticks": "outside"
            },
            "type": "contourcarpet"
           }
          ],
          "heatmap": [
           {
            "colorbar": {
             "outlinewidth": 1,
             "tickcolor": "rgb(36,36,36)",
             "ticks": "outside"
            },
            "colorscale": [
             [
              0,
              "#440154"
             ],
             [
              0.1111111111111111,
              "#482878"
             ],
             [
              0.2222222222222222,
              "#3e4989"
             ],
             [
              0.3333333333333333,
              "#31688e"
             ],
             [
              0.4444444444444444,
              "#26828e"
             ],
             [
              0.5555555555555556,
              "#1f9e89"
             ],
             [
              0.6666666666666666,
              "#35b779"
             ],
             [
              0.7777777777777778,
              "#6ece58"
             ],
             [
              0.8888888888888888,
              "#b5de2b"
             ],
             [
              1,
              "#fde725"
             ]
            ],
            "type": "heatmap"
           }
          ],
          "heatmapgl": [
           {
            "colorbar": {
             "outlinewidth": 1,
             "tickcolor": "rgb(36,36,36)",
             "ticks": "outside"
            },
            "colorscale": [
             [
              0,
              "#440154"
             ],
             [
              0.1111111111111111,
              "#482878"
             ],
             [
              0.2222222222222222,
              "#3e4989"
             ],
             [
              0.3333333333333333,
              "#31688e"
             ],
             [
              0.4444444444444444,
              "#26828e"
             ],
             [
              0.5555555555555556,
              "#1f9e89"
             ],
             [
              0.6666666666666666,
              "#35b779"
             ],
             [
              0.7777777777777778,
              "#6ece58"
             ],
             [
              0.8888888888888888,
              "#b5de2b"
             ],
             [
              1,
              "#fde725"
             ]
            ],
            "type": "heatmapgl"
           }
          ],
          "histogram": [
           {
            "marker": {
             "line": {
              "color": "white",
              "width": 0.6
             }
            },
            "type": "histogram"
           }
          ],
          "histogram2d": [
           {
            "colorbar": {
             "outlinewidth": 1,
             "tickcolor": "rgb(36,36,36)",
             "ticks": "outside"
            },
            "colorscale": [
             [
              0,
              "#440154"
             ],
             [
              0.1111111111111111,
              "#482878"
             ],
             [
              0.2222222222222222,
              "#3e4989"
             ],
             [
              0.3333333333333333,
              "#31688e"
             ],
             [
              0.4444444444444444,
              "#26828e"
             ],
             [
              0.5555555555555556,
              "#1f9e89"
             ],
             [
              0.6666666666666666,
              "#35b779"
             ],
             [
              0.7777777777777778,
              "#6ece58"
             ],
             [
              0.8888888888888888,
              "#b5de2b"
             ],
             [
              1,
              "#fde725"
             ]
            ],
            "type": "histogram2d"
           }
          ],
          "histogram2dcontour": [
           {
            "colorbar": {
             "outlinewidth": 1,
             "tickcolor": "rgb(36,36,36)",
             "ticks": "outside"
            },
            "colorscale": [
             [
              0,
              "#440154"
             ],
             [
              0.1111111111111111,
              "#482878"
             ],
             [
              0.2222222222222222,
              "#3e4989"
             ],
             [
              0.3333333333333333,
              "#31688e"
             ],
             [
              0.4444444444444444,
              "#26828e"
             ],
             [
              0.5555555555555556,
              "#1f9e89"
             ],
             [
              0.6666666666666666,
              "#35b779"
             ],
             [
              0.7777777777777778,
              "#6ece58"
             ],
             [
              0.8888888888888888,
              "#b5de2b"
             ],
             [
              1,
              "#fde725"
             ]
            ],
            "type": "histogram2dcontour"
           }
          ],
          "mesh3d": [
           {
            "colorbar": {
             "outlinewidth": 1,
             "tickcolor": "rgb(36,36,36)",
             "ticks": "outside"
            },
            "type": "mesh3d"
           }
          ],
          "parcoords": [
           {
            "line": {
             "colorbar": {
              "outlinewidth": 1,
              "tickcolor": "rgb(36,36,36)",
              "ticks": "outside"
             }
            },
            "type": "parcoords"
           }
          ],
          "pie": [
           {
            "automargin": true,
            "type": "pie"
           }
          ],
          "scatter": [
           {
            "fillpattern": {
             "fillmode": "overlay",
             "size": 10,
             "solidity": 0.2
            },
            "type": "scatter"
           }
          ],
          "scatter3d": [
           {
            "line": {
             "colorbar": {
              "outlinewidth": 1,
              "tickcolor": "rgb(36,36,36)",
              "ticks": "outside"
             }
            },
            "marker": {
             "colorbar": {
              "outlinewidth": 1,
              "tickcolor": "rgb(36,36,36)",
              "ticks": "outside"
             }
            },
            "type": "scatter3d"
           }
          ],
          "scattercarpet": [
           {
            "marker": {
             "colorbar": {
              "outlinewidth": 1,
              "tickcolor": "rgb(36,36,36)",
              "ticks": "outside"
             }
            },
            "type": "scattercarpet"
           }
          ],
          "scattergeo": [
           {
            "marker": {
             "colorbar": {
              "outlinewidth": 1,
              "tickcolor": "rgb(36,36,36)",
              "ticks": "outside"
             }
            },
            "type": "scattergeo"
           }
          ],
          "scattergl": [
           {
            "marker": {
             "colorbar": {
              "outlinewidth": 1,
              "tickcolor": "rgb(36,36,36)",
              "ticks": "outside"
             }
            },
            "type": "scattergl"
           }
          ],
          "scattermapbox": [
           {
            "marker": {
             "colorbar": {
              "outlinewidth": 1,
              "tickcolor": "rgb(36,36,36)",
              "ticks": "outside"
             }
            },
            "type": "scattermapbox"
           }
          ],
          "scatterpolar": [
           {
            "marker": {
             "colorbar": {
              "outlinewidth": 1,
              "tickcolor": "rgb(36,36,36)",
              "ticks": "outside"
             }
            },
            "type": "scatterpolar"
           }
          ],
          "scatterpolargl": [
           {
            "marker": {
             "colorbar": {
              "outlinewidth": 1,
              "tickcolor": "rgb(36,36,36)",
              "ticks": "outside"
             }
            },
            "type": "scatterpolargl"
           }
          ],
          "scatterternary": [
           {
            "marker": {
             "colorbar": {
              "outlinewidth": 1,
              "tickcolor": "rgb(36,36,36)",
              "ticks": "outside"
             }
            },
            "type": "scatterternary"
           }
          ],
          "surface": [
           {
            "colorbar": {
             "outlinewidth": 1,
             "tickcolor": "rgb(36,36,36)",
             "ticks": "outside"
            },
            "colorscale": [
             [
              0,
              "#440154"
             ],
             [
              0.1111111111111111,
              "#482878"
             ],
             [
              0.2222222222222222,
              "#3e4989"
             ],
             [
              0.3333333333333333,
              "#31688e"
             ],
             [
              0.4444444444444444,
              "#26828e"
             ],
             [
              0.5555555555555556,
              "#1f9e89"
             ],
             [
              0.6666666666666666,
              "#35b779"
             ],
             [
              0.7777777777777778,
              "#6ece58"
             ],
             [
              0.8888888888888888,
              "#b5de2b"
             ],
             [
              1,
              "#fde725"
             ]
            ],
            "type": "surface"
           }
          ],
          "table": [
           {
            "cells": {
             "fill": {
              "color": "rgb(237,237,237)"
             },
             "line": {
              "color": "white"
             }
            },
            "header": {
             "fill": {
              "color": "rgb(217,217,217)"
             },
             "line": {
              "color": "white"
             }
            },
            "type": "table"
           }
          ]
         },
         "layout": {
          "annotationdefaults": {
           "arrowhead": 0,
           "arrowwidth": 1
          },
          "autosize": true,
          "autotypenumbers": "strict",
          "coloraxis": {
           "colorbar": {
            "outlinewidth": 1,
            "tickcolor": "rgb(36,36,36)",
            "ticks": "outside"
           }
          },
          "colorscale": {
           "diverging": [
            [
             0,
             "rgb(103,0,31)"
            ],
            [
             0.1,
             "rgb(178,24,43)"
            ],
            [
             0.2,
             "rgb(214,96,77)"
            ],
            [
             0.3,
             "rgb(244,165,130)"
            ],
            [
             0.4,
             "rgb(253,219,199)"
            ],
            [
             0.5,
             "rgb(247,247,247)"
            ],
            [
             0.6,
             "rgb(209,229,240)"
            ],
            [
             0.7,
             "rgb(146,197,222)"
            ],
            [
             0.8,
             "rgb(67,147,195)"
            ],
            [
             0.9,
             "rgb(33,102,172)"
            ],
            [
             1,
             "rgb(5,48,97)"
            ]
           ],
           "sequential": [
            [
             0,
             "#440154"
            ],
            [
             0.1111111111111111,
             "#482878"
            ],
            [
             0.2222222222222222,
             "#3e4989"
            ],
            [
             0.3333333333333333,
             "#31688e"
            ],
            [
             0.4444444444444444,
             "#26828e"
            ],
            [
             0.5555555555555556,
             "#1f9e89"
            ],
            [
             0.6666666666666666,
             "#35b779"
            ],
            [
             0.7777777777777778,
             "#6ece58"
            ],
            [
             0.8888888888888888,
             "#b5de2b"
            ],
            [
             1,
             "#fde725"
            ]
           ],
           "sequentialminus": [
            [
             0,
             "#440154"
            ],
            [
             0.1111111111111111,
             "#482878"
            ],
            [
             0.2222222222222222,
             "#3e4989"
            ],
            [
             0.3333333333333333,
             "#31688e"
            ],
            [
             0.4444444444444444,
             "#26828e"
            ],
            [
             0.5555555555555556,
             "#1f9e89"
            ],
            [
             0.6666666666666666,
             "#35b779"
            ],
            [
             0.7777777777777778,
             "#6ece58"
            ],
            [
             0.8888888888888888,
             "#b5de2b"
            ],
            [
             1,
             "#fde725"
            ]
           ]
          },
          "colorway": [
           "#1F77B4",
           "#FF7F0E",
           "#2CA02C",
           "#D62728",
           "#9467BD",
           "#8C564B",
           "#E377C2",
           "#7F7F7F",
           "#BCBD22",
           "#17BECF"
          ],
          "font": {
           "color": "rgb(36,36,36)"
          },
          "geo": {
           "bgcolor": "white",
           "lakecolor": "white",
           "landcolor": "white",
           "showlakes": true,
           "showland": true,
           "subunitcolor": "white"
          },
          "height": 400,
          "hoverlabel": {
           "align": "left"
          },
          "hovermode": "closest",
          "mapbox": {
           "style": "light"
          },
          "margin": {
           "b": 30,
           "l": 30,
           "r": 30,
           "t": 30
          },
          "paper_bgcolor": "white",
          "plot_bgcolor": "white",
          "polar": {
           "angularaxis": {
            "gridcolor": "rgb(232,232,232)",
            "linecolor": "rgb(36,36,36)",
            "showgrid": false,
            "showline": true,
            "ticks": "outside"
           },
           "bgcolor": "white",
           "radialaxis": {
            "gridcolor": "rgb(232,232,232)",
            "linecolor": "rgb(36,36,36)",
            "showgrid": false,
            "showline": true,
            "ticks": "outside"
           }
          },
          "scene": {
           "xaxis": {
            "backgroundcolor": "white",
            "gridcolor": "rgb(232,232,232)",
            "gridwidth": 2,
            "linecolor": "rgb(36,36,36)",
            "showbackground": true,
            "showgrid": false,
            "showline": true,
            "ticks": "outside",
            "zeroline": false,
            "zerolinecolor": "rgb(36,36,36)"
           },
           "yaxis": {
            "backgroundcolor": "white",
            "gridcolor": "rgb(232,232,232)",
            "gridwidth": 2,
            "linecolor": "rgb(36,36,36)",
            "showbackground": true,
            "showgrid": false,
            "showline": true,
            "ticks": "outside",
            "zeroline": false,
            "zerolinecolor": "rgb(36,36,36)"
           },
           "zaxis": {
            "backgroundcolor": "white",
            "gridcolor": "rgb(232,232,232)",
            "gridwidth": 2,
            "linecolor": "rgb(36,36,36)",
            "showbackground": true,
            "showgrid": false,
            "showline": true,
            "ticks": "outside",
            "zeroline": false,
            "zerolinecolor": "rgb(36,36,36)"
           }
          },
          "shapedefaults": {
           "fillcolor": "black",
           "line": {
            "width": 0
           },
           "opacity": 0.3
          },
          "ternary": {
           "aaxis": {
            "gridcolor": "rgb(232,232,232)",
            "linecolor": "rgb(36,36,36)",
            "showgrid": false,
            "showline": true,
            "ticks": "outside"
           },
           "baxis": {
            "gridcolor": "rgb(232,232,232)",
            "linecolor": "rgb(36,36,36)",
            "showgrid": false,
            "showline": true,
            "ticks": "outside"
           },
           "bgcolor": "white",
           "caxis": {
            "gridcolor": "rgb(232,232,232)",
            "linecolor": "rgb(36,36,36)",
            "showgrid": false,
            "showline": true,
            "ticks": "outside"
           }
          },
          "title": {
           "x": 0.5,
           "xanchor": "center"
          },
          "width": 600,
          "xaxis": {
           "automargin": true,
           "gridcolor": "rgb(232,232,232)",
           "linecolor": "rgb(36,36,36)",
           "showgrid": true,
           "showline": true,
           "ticks": "outside",
           "title": {
            "standoff": 15
           },
           "zeroline": false,
           "zerolinecolor": "rgb(36,36,36)"
          },
          "yaxis": {
           "automargin": true,
           "gridcolor": "rgb(232,232,232)",
           "linecolor": "rgb(36,36,36)",
           "showgrid": true,
           "showline": true,
           "ticks": "outside",
           "title": {
            "standoff": 15
           },
           "zeroline": false,
           "zerolinecolor": "rgb(36,36,36)"
          }
         }
        },
        "title": {
         "text": "Number of Babies Born Named \"Alexa\" Per Year"
        },
        "xaxis": {
         "anchor": "y",
         "autorange": true,
         "domain": [
          0,
          1
         ],
         "range": [
          1916,
          2022
         ],
         "title": {
          "text": "Year"
         },
         "type": "linear"
        },
        "yaxis": {
         "anchor": "x",
         "autorange": true,
         "domain": [
          0,
          1
         ],
         "range": [
          -334.8333333333333,
          6461.833333333333
         ],
         "title": {
          "text": "value"
         },
         "type": "linear"
        }
       }
      },
      "image/png": "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",
      "text/html": [
       "<div>                            <div id=\"c21ea737-f0c9-48b3-bfb1-fb13d6991956\" class=\"plotly-graph-div\" style=\"height:400px; width:600px;\"></div>            <script type=\"text/javascript\">                require([\"plotly\"], function(Plotly) {                    window.PLOTLYENV=window.PLOTLYENV || {};                                    if (document.getElementById(\"c21ea737-f0c9-48b3-bfb1-fb13d6991956\")) {                    Plotly.newPlot(                        \"c21ea737-f0c9-48b3-bfb1-fb13d6991956\",                        [{\"hovertemplate\":\"variable=Count\\u003cbr\\u003eYear=%{x}\\u003cbr\\u003evalue=%{y}\\u003cextra\\u003e\\u003c\\u002fextra\\u003e\",\"legendgroup\":\"Count\",\"line\":{\"color\":\"#1F77B4\",\"dash\":\"solid\"},\"marker\":{\"symbol\":\"circle\"},\"mode\":\"lines\",\"name\":\"Count\",\"orientation\":\"v\",\"showlegend\":true,\"x\":[1916,1917,1921,1923,1924,1925,1926,1927,1928,1931,1935,1937,1941,1942,1943,1944,1945,1946,1947,1948,1949,1950,1951,1952,1953,1954,1955,1956,1957,1958,1959,1960,1961,1962,1963,1964,1965,1966,1967,1968,1969,1970,1971,1972,1973,1974,1975,1976,1977,1978,1979,1980,1981,1982,1983,1984,1985,1986,1987,1988,1989,1990,1991,1992,1993,1994,1995,1996,1997,1998,1999,2000,2001,2002,2003,2004,2005,2006,2007,2008,2009,2010,2011,2012,2013,2014,2015,2016,2017,2018,2019,2020,2021,2022],\"xaxis\":\"x\",\"y\":[5,5,6,5,5,10,6,6,7,5,5,7,6,8,6,16,20,24,46,48,45,38,55,52,39,33,41,33,53,39,26,34,36,47,34,31,28,32,46,79,75,85,68,92,152,213,211,202,189,175,176,179,222,215,219,215,200,503,830,925,1310,2139,2487,2240,3050,3459,3359,3266,3096,3622,3652,3682,3909,4408,4603,4468,4674,6122,5794,5239,5317,5049,4518,4296,4111,4256,6067,4777,3898,3074,2006,1288,704,574],\"yaxis\":\"y\",\"type\":\"scatter\"}],                        {\"template\":{\"data\":{\"barpolar\":[{\"marker\":{\"line\":{\"color\":\"white\",\"width\":0.5},\"pattern\":{\"fillmode\":\"overlay\",\"size\":10,\"solidity\":0.2}},\"type\":\"barpolar\"}],\"bar\":[{\"error_x\":{\"color\":\"rgb(36,36,36)\"},\"error_y\":{\"color\":\"rgb(36,36,36)\"},\"marker\":{\"line\":{\"color\":\"white\",\"width\":0.5},\"pattern\":{\"fillmode\":\"overlay\",\"size\":10,\"solidity\":0.2}},\"type\":\"bar\"}],\"carpet\":[{\"aaxis\":{\"endlinecolor\":\"rgb(36,36,36)\",\"gridcolor\":\"white\",\"linecolor\":\"white\",\"minorgridcolor\":\"white\",\"startlinecolor\":\"rgb(36,36,36)\"},\"baxis\":{\"endlinecolor\":\"rgb(36,36,36)\",\"gridcolor\":\"white\",\"linecolor\":\"white\",\"minorgridcolor\":\"white\",\"startlinecolor\":\"rgb(36,36,36)\"},\"type\":\"carpet\"}],\"choropleth\":[{\"colorbar\":{\"outlinewidth\":1,\"tickcolor\":\"rgb(36,36,36)\",\"ticks\":\"outside\"},\"type\":\"choropleth\"}],\"contourcarpet\":[{\"colorbar\":{\"outlinewidth\":1,\"tickcolor\":\"rgb(36,36,36)\",\"ticks\":\"outside\"},\"type\":\"contourcarpet\"}],\"contour\":[{\"colorbar\":{\"outlinewidth\":1,\"tickcolor\":\"rgb(36,36,36)\",\"ticks\":\"outside\"},\"colorscale\":[[0.0,\"#440154\"],[0.1111111111111111,\"#482878\"],[0.2222222222222222,\"#3e4989\"],[0.3333333333333333,\"#31688e\"],[0.4444444444444444,\"#26828e\"],[0.5555555555555556,\"#1f9e89\"],[0.6666666666666666,\"#35b779\"],[0.7777777777777778,\"#6ece58\"],[0.8888888888888888,\"#b5de2b\"],[1.0,\"#fde725\"]],\"type\":\"contour\"}],\"heatmapgl\":[{\"colorbar\":{\"outlinewidth\":1,\"tickcolor\":\"rgb(36,36,36)\",\"ticks\":\"outside\"},\"colorscale\":[[0.0,\"#440154\"],[0.1111111111111111,\"#482878\"],[0.2222222222222222,\"#3e4989\"],[0.3333333333333333,\"#31688e\"],[0.4444444444444444,\"#26828e\"],[0.5555555555555556,\"#1f9e89\"],[0.6666666666666666,\"#35b779\"],[0.7777777777777778,\"#6ece58\"],[0.8888888888888888,\"#b5de2b\"],[1.0,\"#fde725\"]],\"type\":\"heatmapgl\"}],\"heatmap\":[{\"colorbar\":{\"outlinewidth\":1,\"tickcolor\":\"rgb(36,36,36)\",\"ticks\":\"outside\"},\"colorscale\":[[0.0,\"#440154\"],[0.1111111111111111,\"#482878\"],[0.2222222222222222,\"#3e4989\"],[0.3333333333333333,\"#31688e\"],[0.4444444444444444,\"#26828e\"],[0.5555555555555556,\"#1f9e89\"],[0.6666666666666666,\"#35b779\"],[0.7777777777777778,\"#6ece58\"],[0.8888888888888888,\"#b5de2b\"],[1.0,\"#fde725\"]],\"type\":\"heatmap\"}],\"histogram2dcontour\":[{\"colorbar\":{\"outlinewidth\":1,\"tickcolor\":\"rgb(36,36,36)\",\"ticks\":\"outside\"},\"colorscale\":[[0.0,\"#440154\"],[0.1111111111111111,\"#482878\"],[0.2222222222222222,\"#3e4989\"],[0.3333333333333333,\"#31688e\"],[0.4444444444444444,\"#26828e\"],[0.5555555555555556,\"#1f9e89\"],[0.6666666666666666,\"#35b779\"],[0.7777777777777778,\"#6ece58\"],[0.8888888888888888,\"#b5de2b\"],[1.0,\"#fde725\"]],\"type\":\"histogram2dcontour\"}],\"histogram2d\":[{\"colorbar\":{\"outlinewidth\":1,\"tickcolor\":\"rgb(36,36,36)\",\"ticks\":\"outside\"},\"colorscale\":[[0.0,\"#440154\"],[0.1111111111111111,\"#482878\"],[0.2222222222222222,\"#3e4989\"],[0.3333333333333333,\"#31688e\"],[0.4444444444444444,\"#26828e\"],[0.5555555555555556,\"#1f9e89\"],[0.6666666666666666,\"#35b779\"],[0.7777777777777778,\"#6ece58\"],[0.8888888888888888,\"#b5de2b\"],[1.0,\"#fde725\"]],\"type\":\"histogram2d\"}],\"histogram\":[{\"marker\":{\"line\":{\"color\":\"white\",\"width\":0.6}},\"type\":\"histogram\"}],\"mesh3d\":[{\"colorbar\":{\"outlinewidth\":1,\"tickcolor\":\"rgb(36,36,36)\",\"ticks\":\"outside\"},\"type\":\"mesh3d\"}],\"parcoords\":[{\"line\":{\"colorbar\":{\"outlinewidth\":1,\"tickcolor\":\"rgb(36,36,36)\",\"ticks\":\"outside\"}},\"type\":\"parcoords\"}],\"pie\":[{\"automargin\":true,\"type\":\"pie\"}],\"scatter3d\":[{\"line\":{\"colorbar\":{\"outlinewidth\":1,\"tickcolor\":\"rgb(36,36,36)\",\"ticks\":\"outside\"}},\"marker\":{\"colorbar\":{\"outlinewidth\":1,\"tickcolor\":\"rgb(36,36,36)\",\"ticks\":\"outside\"}},\"type\":\"scatter3d\"}],\"scattercarpet\":[{\"marker\":{\"colorbar\":{\"outlinewidth\":1,\"tickcolor\":\"rgb(36,36,36)\",\"ticks\":\"outside\"}},\"type\":\"scattercarpet\"}],\"scattergeo\":[{\"marker\":{\"colorbar\":{\"outlinewidth\":1,\"tickcolor\":\"rgb(36,36,36)\",\"ticks\":\"outside\"}},\"type\":\"scattergeo\"}],\"scattergl\":[{\"marker\":{\"colorbar\":{\"outlinewidth\":1,\"tickcolor\":\"rgb(36,36,36)\",\"ticks\":\"outside\"}},\"type\":\"scattergl\"}],\"scattermapbox\":[{\"marker\":{\"colorbar\":{\"outlinewidth\":1,\"tickcolor\":\"rgb(36,36,36)\",\"ticks\":\"outside\"}},\"type\":\"scattermapbox\"}],\"scatterpolargl\":[{\"marker\":{\"colorbar\":{\"outlinewidth\":1,\"tickcolor\":\"rgb(36,36,36)\",\"ticks\":\"outside\"}},\"type\":\"scatterpolargl\"}],\"scatterpolar\":[{\"marker\":{\"colorbar\":{\"outlinewidth\":1,\"tickcolor\":\"rgb(36,36,36)\",\"ticks\":\"outside\"}},\"type\":\"scatterpolar\"}],\"scatter\":[{\"fillpattern\":{\"fillmode\":\"overlay\",\"size\":10,\"solidity\":0.2},\"type\":\"scatter\"}],\"scatterternary\":[{\"marker\":{\"colorbar\":{\"outlinewidth\":1,\"tickcolor\":\"rgb(36,36,36)\",\"ticks\":\"outside\"}},\"type\":\"scatterternary\"}],\"surface\":[{\"colorbar\":{\"outlinewidth\":1,\"tickcolor\":\"rgb(36,36,36)\",\"ticks\":\"outside\"},\"colorscale\":[[0.0,\"#440154\"],[0.1111111111111111,\"#482878\"],[0.2222222222222222,\"#3e4989\"],[0.3333333333333333,\"#31688e\"],[0.4444444444444444,\"#26828e\"],[0.5555555555555556,\"#1f9e89\"],[0.6666666666666666,\"#35b779\"],[0.7777777777777778,\"#6ece58\"],[0.8888888888888888,\"#b5de2b\"],[1.0,\"#fde725\"]],\"type\":\"surface\"}],\"table\":[{\"cells\":{\"fill\":{\"color\":\"rgb(237,237,237)\"},\"line\":{\"color\":\"white\"}},\"header\":{\"fill\":{\"color\":\"rgb(217,217,217)\"},\"line\":{\"color\":\"white\"}},\"type\":\"table\"}]},\"layout\":{\"annotationdefaults\":{\"arrowhead\":0,\"arrowwidth\":1},\"autotypenumbers\":\"strict\",\"coloraxis\":{\"colorbar\":{\"outlinewidth\":1,\"tickcolor\":\"rgb(36,36,36)\",\"ticks\":\"outside\"}},\"colorscale\":{\"diverging\":[[0.0,\"rgb(103,0,31)\"],[0.1,\"rgb(178,24,43)\"],[0.2,\"rgb(214,96,77)\"],[0.3,\"rgb(244,165,130)\"],[0.4,\"rgb(253,219,199)\"],[0.5,\"rgb(247,247,247)\"],[0.6,\"rgb(209,229,240)\"],[0.7,\"rgb(146,197,222)\"],[0.8,\"rgb(67,147,195)\"],[0.9,\"rgb(33,102,172)\"],[1.0,\"rgb(5,48,97)\"]],\"sequential\":[[0.0,\"#440154\"],[0.1111111111111111,\"#482878\"],[0.2222222222222222,\"#3e4989\"],[0.3333333333333333,\"#31688e\"],[0.4444444444444444,\"#26828e\"],[0.5555555555555556,\"#1f9e89\"],[0.6666666666666666,\"#35b779\"],[0.7777777777777778,\"#6ece58\"],[0.8888888888888888,\"#b5de2b\"],[1.0,\"#fde725\"]],\"sequentialminus\":[[0.0,\"#440154\"],[0.1111111111111111,\"#482878\"],[0.2222222222222222,\"#3e4989\"],[0.3333333333333333,\"#31688e\"],[0.4444444444444444,\"#26828e\"],[0.5555555555555556,\"#1f9e89\"],[0.6666666666666666,\"#35b779\"],[0.7777777777777778,\"#6ece58\"],[0.8888888888888888,\"#b5de2b\"],[1.0,\"#fde725\"]]},\"colorway\":[\"#1F77B4\",\"#FF7F0E\",\"#2CA02C\",\"#D62728\",\"#9467BD\",\"#8C564B\",\"#E377C2\",\"#7F7F7F\",\"#BCBD22\",\"#17BECF\"],\"font\":{\"color\":\"rgb(36,36,36)\"},\"geo\":{\"bgcolor\":\"white\",\"lakecolor\":\"white\",\"landcolor\":\"white\",\"showlakes\":true,\"showland\":true,\"subunitcolor\":\"white\"},\"hoverlabel\":{\"align\":\"left\"},\"hovermode\":\"closest\",\"mapbox\":{\"style\":\"light\"},\"paper_bgcolor\":\"white\",\"plot_bgcolor\":\"white\",\"polar\":{\"angularaxis\":{\"gridcolor\":\"rgb(232,232,232)\",\"linecolor\":\"rgb(36,36,36)\",\"showgrid\":false,\"showline\":true,\"ticks\":\"outside\"},\"bgcolor\":\"white\",\"radialaxis\":{\"gridcolor\":\"rgb(232,232,232)\",\"linecolor\":\"rgb(36,36,36)\",\"showgrid\":false,\"showline\":true,\"ticks\":\"outside\"}},\"scene\":{\"xaxis\":{\"backgroundcolor\":\"white\",\"gridcolor\":\"rgb(232,232,232)\",\"gridwidth\":2,\"linecolor\":\"rgb(36,36,36)\",\"showbackground\":true,\"showgrid\":false,\"showline\":true,\"ticks\":\"outside\",\"zeroline\":false,\"zerolinecolor\":\"rgb(36,36,36)\"},\"yaxis\":{\"backgroundcolor\":\"white\",\"gridcolor\":\"rgb(232,232,232)\",\"gridwidth\":2,\"linecolor\":\"rgb(36,36,36)\",\"showbackground\":true,\"showgrid\":false,\"showline\":true,\"ticks\":\"outside\",\"zeroline\":false,\"zerolinecolor\":\"rgb(36,36,36)\"},\"zaxis\":{\"backgroundcolor\":\"white\",\"gridcolor\":\"rgb(232,232,232)\",\"gridwidth\":2,\"linecolor\":\"rgb(36,36,36)\",\"showbackground\":true,\"showgrid\":false,\"showline\":true,\"ticks\":\"outside\",\"zeroline\":false,\"zerolinecolor\":\"rgb(36,36,36)\"}},\"shapedefaults\":{\"fillcolor\":\"black\",\"line\":{\"width\":0},\"opacity\":0.3},\"ternary\":{\"aaxis\":{\"gridcolor\":\"rgb(232,232,232)\",\"linecolor\":\"rgb(36,36,36)\",\"showgrid\":false,\"showline\":true,\"ticks\":\"outside\"},\"baxis\":{\"gridcolor\":\"rgb(232,232,232)\",\"linecolor\":\"rgb(36,36,36)\",\"showgrid\":false,\"showline\":true,\"ticks\":\"outside\"},\"bgcolor\":\"white\",\"caxis\":{\"gridcolor\":\"rgb(232,232,232)\",\"linecolor\":\"rgb(36,36,36)\",\"showgrid\":false,\"showline\":true,\"ticks\":\"outside\"}},\"title\":{\"x\":0.5,\"xanchor\":\"center\"},\"xaxis\":{\"automargin\":true,\"gridcolor\":\"rgb(232,232,232)\",\"linecolor\":\"rgb(36,36,36)\",\"showgrid\":true,\"showline\":true,\"ticks\":\"outside\",\"title\":{\"standoff\":15},\"zeroline\":false,\"zerolinecolor\":\"rgb(36,36,36)\"},\"yaxis\":{\"automargin\":true,\"gridcolor\":\"rgb(232,232,232)\",\"linecolor\":\"rgb(36,36,36)\",\"showgrid\":true,\"showline\":true,\"ticks\":\"outside\",\"title\":{\"standoff\":15},\"zeroline\":false,\"zerolinecolor\":\"rgb(36,36,36)\"},\"autosize\":true,\"height\":400,\"margin\":{\"b\":30,\"l\":30,\"r\":30,\"t\":30},\"width\":600}},\"xaxis\":{\"anchor\":\"y\",\"domain\":[0.0,1.0],\"title\":{\"text\":\"Year\"}},\"yaxis\":{\"anchor\":\"x\",\"domain\":[0.0,1.0],\"title\":{\"text\":\"value\"}},\"legend\":{\"title\":{\"text\":\"variable\"},\"tracegroupgap\":0},\"title\":{\"text\":\"Number of Babies Born Named \\\"Alexa\\\" Per Year\"}},                        {\"responsive\": true}                    ).then(function(){\n",
       "                            \n",
       "var gd = document.getElementById('c21ea737-f0c9-48b3-bfb1-fb13d6991956');\n",
       "var x = new MutationObserver(function (mutations, observer) {{\n",
       "        var display = window.getComputedStyle(gd).display;\n",
       "        if (!display || display === 'none') {{\n",
       "            console.log([gd, 'removed!']);\n",
       "            Plotly.purge(gd);\n",
       "            observer.disconnect();\n",
       "        }}\n",
       "}});\n",
       "\n",
       "// Listen for the removal of the full notebook cells\n",
       "var notebookContainer = gd.closest('#notebook-container');\n",
       "if (notebookContainer) {{\n",
       "    x.observe(notebookContainer, {childList: true});\n",
       "}}\n",
       "\n",
       "// Listen for the clearing of the current output cell\n",
       "var outputEl = gd.closest('.output');\n",
       "if (outputEl) {{\n",
       "    x.observe(outputEl, {childList: true});\n",
       "}}\n",
       "\n",
       "                        })                };                });            </script>        </div>"
      ]
     },
     "metadata": {},
     "output_type": "display_data"
    }
   ],
   "source": [
    "name_graph('Alexa')"
   ]
  },
  {
   "cell_type": "markdown",
   "id": "4170226a",
   "metadata": {
    "slideshow": {
     "slide_type": "slide"
    },
    "tags": []
   },
   "source": [
    "### This week...\n",
    "\n",
    "- Lab 1 will be released tomorrow.\n",
    "- Start [setting up your environment](https://dsc80.com/tech_support), which you'll need to do before working on Lab 1.\n",
    "- Also fill out the [Welcome Survey](https://docs.google.com/forms/d/e/1FAIpQLScNAvrwJpb850IjIul91ddi2bUKLyrRQkAS8N6t5mbXy0Vi0A/viewform?usp=dialog) and read the [Syllabus](https://dsc80.com/syllabus)!"
   ]
  }
 ],
 "metadata": {
  "kernelspec": {
   "display_name": "Python 3 (ipykernel)",
   "language": "python",
   "name": "python3"
  },
  "language_info": {
   "codemirror_mode": {
    "name": "ipython",
    "version": 3
   },
   "file_extension": ".py",
   "mimetype": "text/x-python",
   "name": "python",
   "nbconvert_exporter": "python",
   "pygments_lexer": "ipython3",
   "version": "3.12.9"
  },
  "livereveal": {
   "scroll": true
  },
  "rise": {
   "transition": "none"
  }
 },
 "nbformat": 4,
 "nbformat_minor": 5
}
