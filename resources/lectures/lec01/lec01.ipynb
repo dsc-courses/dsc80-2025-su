{
 "cells": [
  {
   "cell_type": "code",
   "execution_count": 67,
   "id": "b26fd008-4ef8-4e35-932f-134bb4e3b038",
   "metadata": {
    "editable": true,
    "slideshow": {
     "slide_type": "fragment"
    },
    "tags": []
   },
   "outputs": [],
   "source": [
    "from dsc80_utils import *"
   ]
  },
  {
   "cell_type": "markdown",
   "id": "3143de48",
   "metadata": {
    "slideshow": {
     "slide_type": "slide"
    },
    "tags": []
   },
   "source": [
    "# Lecture 1 – Introduction, Data Science Lifecycle\n",
    "\n",
    "## DSC 80, Summer 2025"
   ]
  },
  {
   "cell_type": "markdown",
   "id": "61dfa21e",
   "metadata": {
    "slideshow": {
     "slide_type": "slide"
    }
   },
   "source": [
    "<center><h2>Welcome to DSC 80! 🎉</h2></center>"
   ]
  },
  {
   "cell_type": "markdown",
   "id": "07213ce0",
   "metadata": {
    "jp-MarkdownHeadingCollapsed": true,
    "slideshow": {
     "slide_type": "slide"
    }
   },
   "source": [
    "### Agenda\n",
    "\n",
    "- Who are we?\n",
    "- What does a data scientist do?\n",
    "- What is this course about, and how will it run?\n",
    "- The data science lifecycle.\n",
    "- Example: What's in a name?"
   ]
  },
  {
   "cell_type": "markdown",
   "id": "15f29cb1-cb36-4787-9a58-f4ef2f36631e",
   "metadata": {},
   "source": [
    "### "
   ]
  },
  {
   "cell_type": "markdown",
   "id": "be426149",
   "metadata": {
    "jp-MarkdownHeadingCollapsed": true,
    "slideshow": {
     "slide_type": "slide"
    }
   },
   "source": [
    "### Instructor: Prof. Bivin Sadler\n",
    "\n",
    "<img src='imgs/Sadler.jpg' width=15%>\n",
    "\n",
    "- Adjunct Professor, HDSI, UCSD\n",
    "\n",
    "- PhD from Southern Methodist University in Statistical Science\n",
    "- MS from Southern Methodist University in Statistical Science\n",
    "- Research Interest: Time Series Forecasting and Educational Assessment\n",
    "- I love to sing, play, read and cook with my 7 year old daughter.\n",
    "- I moved from Dallas to Mission Beach in the early 2000's to play beach volleyball on the AVP.  \n",
    "\n",
    "Tell me about you! Use the Class[Buzz] code: `intro-q`"
   ]
  },
  {
   "cell_type": "markdown",
   "id": "fc6a33c0",
   "metadata": {
    "slideshow": {
     "slide_type": "slide"
    }
   },
   "source": [
    "### Course staff\n",
    "\n",
    "It's just you and I this semester. But I will try and be very available both in person and Zoom. "
   ]
  },
  {
   "cell_type": "markdown",
   "id": "edf518ca",
   "metadata": {
    "slideshow": {
     "slide_type": "slide"
    }
   },
   "source": [
    "## What is data science? 🤔"
   ]
  },
  {
   "cell_type": "markdown",
   "id": "d2145c39",
   "metadata": {
    "jp-MarkdownHeadingCollapsed": true,
    "slideshow": {
     "slide_type": "slide"
    }
   },
   "source": [
    "### What is data science?\n",
    "\n",
    "<br>\n",
    "\n",
    "<center><img src='imgs/what-is-data-science.png' width=60%></center>\n",
    "\n",
    "Everyone seems to have their own definition of what data science is!"
   ]
  },
  {
   "cell_type": "markdown",
   "id": "81d88189",
   "metadata": {
    "slideshow": {
     "slide_type": "slide"
    }
   },
   "source": [
    "### The DSC 10 approach\n",
    "\n",
    "In DSC 10, we told you that data science is about **drawing useful conclusions from data using computation**. In DSC 10, you:"
   ]
  },
  {
   "cell_type": "markdown",
   "id": "755ea4ea",
   "metadata": {
    "slideshow": {
     "slide_type": "fragment"
    }
   },
   "source": [
    "- Used Python to **explore** and **visualize** data."
   ]
  },
  {
   "cell_type": "markdown",
   "id": "b6c51e83",
   "metadata": {
    "slideshow": {
     "slide_type": "fragment"
    }
   },
   "source": [
    "- Used **simulation** to make **inferences** about a population, given just a sample."
   ]
  },
  {
   "cell_type": "markdown",
   "id": "258b5000",
   "metadata": {
    "slideshow": {
     "slide_type": "fragment"
    }
   },
   "source": [
    "- Made **predictions** about the future given data from the past."
   ]
  },
  {
   "cell_type": "markdown",
   "id": "efabcfc5",
   "metadata": {
    "slideshow": {
     "slide_type": "fragment"
    }
   },
   "source": [
    "Let's look at a few more definitions of data science."
   ]
  },
  {
   "cell_type": "markdown",
   "id": "1efb892b",
   "metadata": {
    "jp-MarkdownHeadingCollapsed": true,
    "slideshow": {
     "slide_type": "slide"
    }
   },
   "source": [
    "### What is data science?\n",
    "\n",
    "<center><img src=\"imgs/image_0.png\"></center>\n",
    "\n",
    "In 2010, Drew Conway published his famous [Data Science Venn Diagram](http://drewconway.com/zia/2013/3/26/the-data-science-venn-diagram)."
   ]
  },
  {
   "cell_type": "markdown",
   "id": "8d0b484f",
   "metadata": {
    "slideshow": {
     "slide_type": "slide"
    }
   },
   "source": [
    "### What is data science?\n",
    "\n",
    "There isn't agreement on which \"Venn Diagram\" is correct!\n",
    "\n",
    "<center><img src=\"imgs/image_1.png\" width=30%></center>\n",
    "\n",
    "- **Why not?** The field is new and rapidly developing.\n",
    "- Make sure you're solid on the fundamentals, then find a niche that you enjoy.\n",
    "- Read Taylor, [Battle of the Data Science Venn Diagrams](https://deeplearning.lipingyang.org/wp-content/uploads/2017/10/Battle-of-the-Data-Science-Venn-Diagrams.pdf)."
   ]
  },
  {
   "cell_type": "markdown",
   "id": "dd48a8ec",
   "metadata": {
    "slideshow": {
     "slide_type": "slide"
    }
   },
   "source": [
    "### What does a _data scientist_ do?\n",
    "\n",
    "The chart below is taken from the [2016 Data Science Salary Survey](https://www.oreilly.com/radar/2016-data-science-salary-survey-results/), administered by O'Reilly. They asked respondents what they spend their time doing on a daily basis. What do you notice? <br>\n",
    "\n",
    "<center><img src='imgs/survey.png' width=40%></center>"
   ]
  },
  {
   "cell_type": "markdown",
   "id": "e164e0c6",
   "metadata": {
    "slideshow": {
     "slide_type": "slide"
    }
   },
   "source": [
    "The chart below is taken from the followup [2021 Data/AI Salary Survey](https://www.oreilly.com/radar/2021-data-ai-salary-survey/), also administered by O'Reilly. They asked respondents:\n",
    "\n",
    "> What technologies will have the biggest effect on compensation in the coming year?\n",
    "\n",
    "<center><img src='imgs/2021-most-relevant-skill.png' width=45%></center>"
   ]
  },
  {
   "cell_type": "markdown",
   "id": "5146c163",
   "metadata": {
    "slideshow": {
     "slide_type": "slide"
    }
   },
   "source": [
    "### What does a _data scientist_ do?\n",
    "\n",
    "Our take: in DSC 80, and in the DSC major more broadly, we are training you to **ask and answer questions using data**."
   ]
  },
  {
   "cell_type": "markdown",
   "id": "dd1a883b",
   "metadata": {
    "slideshow": {
     "slide_type": "fragment"
    }
   },
   "source": [
    "As you take more courses, we're training you to answer questions whose answers are **ambiguous** – this uncertainly is what makes data science challenging!"
   ]
  },
  {
   "cell_type": "markdown",
   "id": "9d2f8d88",
   "metadata": {
    "slideshow": {
     "slide_type": "fragment"
    }
   },
   "source": [
    "Let's look at some examples of data science in practice."
   ]
  },
  {
   "cell_type": "markdown",
   "id": "86af436e",
   "metadata": {
    "slideshow": {
     "slide_type": "slide"
    }
   },
   "source": [
    "### Do people care about climate change?\n",
    "\n",
    "From [How Americans Think About Climate Change, in Six Maps](https://www.nytimes.com/interactive/2017/03/21/climate/how-americans-think-about-climate-change-in-six-maps.html?amp=&smid=fb-nytimes).\n",
    "\n",
    "<center><img src='imgs/nyt-climate-legend.png' width=35%></center>\n",
    "<center><img src='imgs/nyt-climate-harm.png' width=50%></center>"
   ]
  },
  {
   "cell_type": "markdown",
   "id": "0999754a-0033-44e2-8244-5fdaa037aebc",
   "metadata": {
    "slideshow": {
     "slide_type": "slide"
    }
   },
   "source": [
    "### Do people care about climate change?\n",
    "\n",
    "<center><img src='imgs/nyt-climate-legend.png' width=35%></center>\n",
    "<center><img src='imgs/nyt-climate-personal.png' width=50%></center>"
   ]
  },
  {
   "cell_type": "markdown",
   "id": "7c34fb09",
   "metadata": {
    "slideshow": {
     "slide_type": "slide"
    }
   },
   "source": [
    "An excerpt from the article:\n",
    "\n",
    "> Global warming is precisely the kind of threat humans are awful at dealing with: a problem with enormous consequences over the long term, but little that is sharply visible on a personal level in the short term. Humans are hard-wired for quick fight-or-flight reactions in the face of an imminent threat, but not highly motivated to act against slow-moving and somewhat abstract problems, even if the challenges that they pose are ultimately dire."
   ]
  },
  {
   "cell_type": "markdown",
   "id": "4cd37733",
   "metadata": {
    "slideshow": {
     "slide_type": "slide"
    }
   },
   "source": [
    "### Data science involves _people_ 🧍\n",
    "\n",
    "The decisions that we make as data scientists have the potential to impact the livelihoods of other people.\n",
    "\n",
    "- Flu case forecasting.\n",
    "- Admissions and hiring.\n",
    "- Hyper-personalized ad recommendations."
   ]
  },
  {
   "cell_type": "markdown",
   "id": "dfdae8ce",
   "metadata": {
    "slideshow": {
     "slide_type": "slide"
    }
   },
   "source": [
    "### What is this course really about, then?"
   ]
  },
  {
   "cell_type": "markdown",
   "id": "01e943ca",
   "metadata": {
    "slideshow": {
     "slide_type": "fragment"
    }
   },
   "source": [
    "- Good data analysis is not:\n",
    "    - A simple application of a statistics formula.\n",
    "    - A simple application of computer programs."
   ]
  },
  {
   "cell_type": "markdown",
   "id": "5e4a5924",
   "metadata": {
    "slideshow": {
     "slide_type": "fragment"
    }
   },
   "source": [
    "- There are many tools out there for data science, but they are merely tools. **They don’t do any of the important thinking – that's where you come in!**\n"
   ]
  },
  {
   "cell_type": "markdown",
   "id": "0c22fafe",
   "metadata": {
    "slideshow": {
     "slide_type": "slide"
    }
   },
   "source": [
    "## Course content"
   ]
  },
  {
   "cell_type": "markdown",
   "id": "f6020d91",
   "metadata": {
    "slideshow": {
     "slide_type": "slide"
    }
   },
   "source": [
    "### Course goals\n",
    "\n",
    "**DSC 80 teaches you to *think* like a data scientist.**\n",
    "\n",
    "In this course, you will...\n",
    "\n",
    "* **Get a taste of the \"life of a data scientist.\"**\n",
    "* Practice translating potentially vague questions into quantitative questions about measurable observations.\n",
    "* Learn to reason about \"black-box\" processes (e.g. complicated models).\n",
    "* Understand computational and statistical implications of working with data.\n",
    "* Learn to use real data tools (and rely on documentation)."
   ]
  },
  {
   "cell_type": "markdown",
   "id": "ac5a59be",
   "metadata": {
    "slideshow": {
     "slide_type": "slide"
    }
   },
   "source": [
    "### Course outcomes\n",
    "\n",
    "After this course, you will...\n",
    "\n",
    "* Be prepared for internships and data science \"take home\" interviews!\n",
    "* Be ready to create your own portfolio of personal projects.\n",
    "* Have the background and maturity to succeed in the upper-division."
   ]
  },
  {
   "cell_type": "markdown",
   "id": "0825619c-7d95-4238-b2dc-0e4f1fbaa65c",
   "metadata": {
    "slideshow": {
     "slide_type": "slide"
    }
   },
   "source": [
    "### Topics\n",
    "\n",
    "- Week 1: From `babypandas` to `pandas`.\n",
    "- Week 2: DataFrames.\n",
    "- Week 3: Working with messy data, hypothesis and permutation testing.\n",
    "- Week 4: Missing values.\n",
    "- Week 5: HTML and web scraping.\n",
    "- Week 6: **Midterm Exam** and regular expressions.\n",
    "- Week 7: Text data, modeling.\n",
    "- Week 8: Feature engineering and generalization.\n",
    "- Week 9: Modeling in `sklearn`.\n",
    "- Week 10: Classifier evaluation, fairness, conclusion.\n",
    "- Week 11: **Final Exam**"
   ]
  },
  {
   "cell_type": "markdown",
   "id": "ee4d0050",
   "metadata": {
    "slideshow": {
     "slide_type": "slide"
    }
   },
   "source": [
    "## Course logistics"
   ]
  },
  {
   "cell_type": "markdown",
   "id": "0a2c2394-7c55-45f2-9668-fd3b945eda2c",
   "metadata": {
    "slideshow": {
     "slide_type": "slide"
    },
    "tags": []
   },
   "source": [
    "### Course website\n",
    "\n",
    "The course website is your one-stop-shop for all things related to the course.\n",
    "\n",
    "<br>\n",
    "\n",
    "<center><h3><a href=\"https://dsc80.com\">dsc80.com</a></h3></center>\n",
    "\n",
    "<br>\n",
    "\n",
    "Make sure to **read the [syllabus](https://dsc80.com/syllabus)**!"
   ]
  },
  {
   "cell_type": "markdown",
   "id": "c261d793",
   "metadata": {
    "slideshow": {
     "slide_type": "slide"
    }
   },
   "source": [
    "### Getting set up\n",
    "\n",
    "- **Piazza**: Q&A forum. Must be active here, since this is where all announcements will be made.\n",
    "- **Gradescope**: Where you will submit all assignments for autograding, and where all of your grades will live.\n",
    "- **Canvas**: No ❌.\n",
    "\n",
    "In addition, you must fill out our **[Welcome Survey](https://docs.google.com/forms/d/e/1FAIpQLScNAvrwJpb850IjIul91ddi2bUKLyrRQkAS8N6t5mbXy0Vi0A/viewform?usp=dialog)**\n"
   ]
  },
  {
   "cell_type": "markdown",
   "id": "dae66a40",
   "metadata": {
    "slideshow": {
     "slide_type": "slide"
    }
   },
   "source": [
    "### Accessing course content on GitHub\n",
    "\n",
    "You will access all course content by pulling the course GitHub repository:\n",
    "\n",
    "<br>\n",
    "\n",
    "<center><p><b><a href=\"https://github.com/dsc-courses/dsc80-2025-sp\">github.com/dsc-courses/dsc80-2025-sp</a></b></p></center>\n",
    "\n",
    "<br>\n",
    "\n",
    "We will post HTML versions of lecture notebooks on the course website, but otherwise you must `git pull` from this repository to access all course materials (including blank copies of assignments)."
   ]
  },
  {
   "cell_type": "markdown",
   "id": "a7dcec94",
   "metadata": {
    "slideshow": {
     "slide_type": "slide"
    }
   },
   "source": [
    "### Environment setup\n",
    "\n",
    "- You're required to set up a Python environment on your own computer.\n",
    "- To do so, follow the instructions on the [Tech Support](https://dsc80.com/tech_support) page of the course website.\n",
    "- Once you set up your environment, you will `git pull` the course repo every time a new assignment comes out.\n",
    "- **Note**: You will submit your work to Gradescope directly, without using Git.\n",
    "- We will post a demo video with Lab 1."
   ]
  },
  {
   "cell_type": "markdown",
   "id": "44ec2def",
   "metadata": {
    "slideshow": {
     "slide_type": "slide"
    }
   },
   "source": [
    "### Lectures"
   ]
  },
  {
   "cell_type": "markdown",
   "id": "0316b814",
   "metadata": {
    "slideshow": {
     "slide_type": "fragment"
    }
   },
   "source": [
    "- Lectures are held in-person on **Tuesdays and Thursdays 9:30am-10:50am in CENTR 113**. \n",
    "Lectures are podcasted."
   ]
  },
  {
   "cell_type": "markdown",
   "id": "d2330a86",
   "metadata": {
    "slideshow": {
     "slide_type": "fragment"
    }
   },
   "source": [
    "- Assignment deadlines are fairly flexible (as I'll explain soon). To help yourself stay on track with material, you can opt into lecture attendance. If you do, lecture attendance is worth 5% of your overall grade (instead of 0%) and the midterm and final are worth 2.5% less.\n",
    "\n",
    "- To get credit for a class, attend and participate in the activities for both lectures. Lowest four classes dropped."
   ]
  },
  {
   "cell_type": "markdown",
   "id": "32e15386",
   "metadata": {
    "jp-MarkdownHeadingCollapsed": true,
    "slideshow": {
     "slide_type": "slide"
    }
   },
   "source": [
    "### Assignments\n",
    "\n",
    "In this course, you will learn by doing!\n",
    "\n",
    "- **Labs (20%)**: 9 total, lowest score dropped. Due **Wednesdays at 11:59PM**.\n",
    "- **Projects (25%)**: 4 total, no drops. Due on **Fridays at 11:59PM**.\n",
    "\n",
    "In DSC 80, assignments will usually consist of both a Jupyter Notebook and a `.py` file. You will write your code in the `.py` file; the Jupyter Notebook will contain problem descriptions and test cases. Lab 1 will explain the workflow."
   ]
  },
  {
   "cell_type": "markdown",
   "id": "3cd859e4",
   "metadata": {
    "slideshow": {
     "slide_type": "slide"
    }
   },
   "source": [
    "### Late Policy\n",
    "\n",
    "- **No late submissions accepted, but...**\n",
    "- [Extension Request Form](https://docs.google.com/forms/d/e/1FAIpQLSe1jsdmOFvTi0SkEGVFk8DA4yG3GddgqMuCdBL_cwgJ1Xrdqg/viewform?usp=dialog) grants you 1 day extension on assignment submission (instead of slip days).\n",
    "- We will essentially approve all requests!\n",
    "- Goal is to help support you if you start falling behind, so if you fill out form a lot, we'll schedule a meeting with you to help come up with a plan for success.\n",
    "- **No extensions on project checkpoints or Final Project.**"
   ]
  },
  {
   "cell_type": "markdown",
   "id": "498fa304",
   "metadata": {
    "slideshow": {
     "slide_type": "slide"
    }
   },
   "source": [
    "### Redemption for Labs and Projects\n",
    "\n",
    "- All labs and projects 1-3 have hidden autograder tests.\n",
    "    - We won't show you what you missed until the deadline has passed.\n",
    "- But you can resubmit after the original deadline to redeem up to 80% of points lost."
   ]
  },
  {
   "cell_type": "markdown",
   "id": "3d428dc1",
   "metadata": {
    "slideshow": {
     "slide_type": "slide"
    }
   },
   "source": [
    "### Discussions\n",
    "\n",
    "- Discussion classes this quarter will be held by the TA: 10:00AM-10:50AM in HSS 1330!\n",
    "- Will post worksheets with suggested past exam questions to try out that week."
   ]
  },
  {
   "cell_type": "markdown",
   "id": "599177f8",
   "metadata": {
    "slideshow": {
     "slide_type": "slide"
    }
   },
   "source": [
    "### Exams\n",
    "\n",
    "- This class has one Midterm Exam and one Final Exam. Exams are cumulative, though the Final Exam will emphasize material after the Midterm Exam.\n",
    "- **Midterm Exam**: Tuesday of Week 6 (during lecture)\n",
    "- **Final Exam:** Location and time will be declared.\n",
    "- Both exams will be administered in-person. If you have conflicts with either of the exams, please let us know on the. There will be an exam accomodation form that will be released.\n",
    "\n",
    "- Your final exam score can **redeem** your midterm score (see the [Syllabus](https://dsc80.com/syllabus) for details).\n"
   ]
  },
  {
   "cell_type": "markdown",
   "id": "6fc5d28a",
   "metadata": {
    "slideshow": {
     "slide_type": "slide"
    }
   },
   "source": [
    "<!-- \n",
    "\n",
    "**Monday:** Free\n",
    "\n",
    "**Tuesday:** Lecture\n",
    "\n",
    "**Wednesday:** Lab due\n",
    "\n",
    "**Thursday:** Lecture\n",
    "\n",
    "**Friday:** Project Due -->\n",
    "\n",
    "| Monday | Tuesday                                           | Wednesday | Thursday | Friday                                        |\n",
    "| ------ | ------------------------------------------------- | --------- | -------- | --------------------------------------------- |\n",
    "|        | Lecture                                           |           | Lecture  |                                               |\n",
    "|        | |  <span style='color:red'><b>Lab due</b></span>         |          | <span style='color:red'><b>Project due</b></span>  |\n",
    "\n",
    " \n",
    "🏃‍♂️💨💨💨"
   ]
  },
  {
   "cell_type": "markdown",
   "id": "534f5fcc",
   "metadata": {
    "slideshow": {
     "slide_type": "slide"
    }
   },
   "source": [
    "### Resources\n",
    "\n",
    "- Your main resource will be lecture notebooks.\n",
    "- Most lectures also have supplemental readings that come from our course textbook, [Learning Data Science](https://learningds.org/intro.html). These are not required, but are highly recommended.\n",
    "\n",
    "<center>\n",
    "<img alt=\"Front cover of textbook\" src=\"imgs/book-cover.png\" width=\"300\">\n",
    "</center>"
   ]
  },
  {
   "cell_type": "markdown",
   "id": "b2c18d41",
   "metadata": {
    "slideshow": {
     "slide_type": "slide"
    }
   },
   "source": [
    "### Support 🫂\n",
    "\n",
    "It is no secret that this course requires **a lot** of work – becoming fluent with working with data is hard!\n",
    "\n",
    "- You will learn how to solve problems **independently** – documentation and the internet will be your friends.\n",
    "- Learning how to effectively check your work and debug is extremely useful.\n",
    "- Learning to stick with a problem (*tenacity*) is a very valuable skill; but don't be afraid to ask for help."
   ]
  },
  {
   "cell_type": "markdown",
   "id": "e5edbdb6",
   "metadata": {
    "slideshow": {
     "slide_type": "fragment"
    }
   },
   "source": [
    "Once you've tried to solve problems on your own, we're glad to help.\n",
    "\n",
    "- We have several **office hours** in person each week. See the [Calendar 📆](https://dsc80.com/calendar/) for details.\n",
    "- **Piazza** is your friend too. Make your conceptual questions public, and make your debugging questions private."
   ]
  },
  {
   "cell_type": "markdown",
   "id": "f752ac9a",
   "metadata": {
    "slideshow": {
     "slide_type": "slide"
    }
   },
   "source": [
    "### Generative Artificial Intelligence\n",
    "\n",
    "- We know that tools, like ChatGPT and GitHub Copilot, can write code for you.\n",
    "- Feel free to use such tools **with caution**. Refer to the [Generative AI](https://dsc80.com/syllabus/#use-of-generative-artificial-intelligence) section of the syllabus for details.\n",
    "- We trust that you're here to learn and do the work for yourself.\n",
    "- You won't be able to use ChatGPT on the exams, so make sure you **understand** how your code actually works."
   ]
  },
  {
   "cell_type": "markdown",
   "id": "5ecb31ac",
   "metadata": {
    "slideshow": {
     "slide_type": "slide"
    }
   },
   "source": [
    "<center><img src=\"imgs/sets.png\" width=75%></center>\n",
    "\n",
    "<center>You'll have to work a lot, but we'll make the time spent worth it.</center>"
   ]
  },
  {
   "cell_type": "markdown",
   "id": "e3bb2a04",
   "metadata": {
    "slideshow": {
     "slide_type": "slide"
    }
   },
   "source": [
    "## The data science lifecycle 🚴"
   ]
  },
  {
   "cell_type": "markdown",
   "id": "afd51458",
   "metadata": {
    "slideshow": {
     "slide_type": "slide"
    }
   },
   "source": [
    "### The scientific method\n",
    "\n",
    "You learned about the scientific method in elementary school. "
   ]
  },
  {
   "cell_type": "markdown",
   "id": "621c38e0",
   "metadata": {
    "slideshow": {
     "slide_type": "fragment"
    }
   },
   "source": [
    "<center><img src=\"imgs/image_3.png\" width=500></center>"
   ]
  },
  {
   "cell_type": "markdown",
   "id": "56ee9fdd",
   "metadata": {
    "slideshow": {
     "slide_type": "fragment"
    }
   },
   "source": [
    "However, it hides a lot of complexity.\n",
    "- Where did the hypothesis come from?\n",
    "- What data are you modeling? Is the data sufficient?\n",
    "- Under which conditions are the conclusions valid?"
   ]
  },
  {
   "cell_type": "markdown",
   "id": "1a45f8c4",
   "metadata": {
    "slideshow": {
     "slide_type": "slide"
    }
   },
   "source": [
    "### The data science lifecycle\n",
    "\n",
    "<center><img src=\"imgs/ds-lifecycle.svg\" width=\"60%\"></center>"
   ]
  },
  {
   "cell_type": "markdown",
   "id": "1bb7af57",
   "metadata": {
    "slideshow": {
     "slide_type": "fragment"
    }
   },
   "source": [
    "**All steps lead to more questions!** We'll refer back to the data science lifecycle repeatedly throughout the quarter."
   ]
  },
  {
   "cell_type": "markdown",
   "id": "7bd138d9",
   "metadata": {
    "slideshow": {
     "slide_type": "slide"
    }
   },
   "source": [
    "## Example: What's in a name?"
   ]
  },
  {
   "cell_type": "markdown",
   "id": "ca637d08",
   "metadata": {
    "editable": true,
    "slideshow": {
     "slide_type": "fragment"
    },
    "tags": []
   },
   "source": [
    "### Lilith, Lilibet … Lucifer? How Baby Names Went to 'L'\n",
    "\n",
    "[This New York Times](https://archive.is/NpORG) article claims that baby names beginning with \"L\" have become more popular over time."
   ]
  },
  {
   "cell_type": "markdown",
   "id": "b6334a22",
   "metadata": {
    "slideshow": {
     "slide_type": "fragment"
    }
   },
   "source": [
    "Let's see if these claims are true, based on the data!"
   ]
  },
  {
   "cell_type": "markdown",
   "id": "3158f04f-9416-4062-9b7a-ab975721667b",
   "metadata": {
    "slideshow": {
     "slide_type": "slide"
    },
    "tags": []
   },
   "source": [
    "### The data\n",
    "\n",
    "What we're seeing below is a `pandas` DataFrame. The DataFrame contains one row for every combination of `'Name'`, `'Sex'`, and `'Year'`."
   ]
  },
  {
   "cell_type": "code",
   "execution_count": 2,
   "id": "de28bb3c-373e-4cc8-9e83-b9b57a2c9861",
   "metadata": {},
   "outputs": [],
   "source": [
    "import pandas as pd"
   ]
  },
  {
   "cell_type": "code",
   "execution_count": 3,
   "id": "ba6829c9-5ece-42ca-a5f2-3d7065ec19b2",
   "metadata": {
    "scrolled": true
   },
   "outputs": [
    {
     "data": {
      "text/html": [
       "<div>\n",
       "<style scoped>\n",
       "    .dataframe tbody tr th:only-of-type {\n",
       "        vertical-align: middle;\n",
       "    }\n",
       "\n",
       "    .dataframe tbody tr th {\n",
       "        vertical-align: top;\n",
       "    }\n",
       "\n",
       "    .dataframe thead th {\n",
       "        text-align: right;\n",
       "    }\n",
       "</style>\n",
       "<table border=\"1\" class=\"dataframe\">\n",
       "  <thead>\n",
       "    <tr style=\"text-align: right;\">\n",
       "      <th></th>\n",
       "      <th>Name</th>\n",
       "      <th>Sex</th>\n",
       "      <th>Count</th>\n",
       "      <th>Year</th>\n",
       "    </tr>\n",
       "  </thead>\n",
       "  <tbody>\n",
       "    <tr>\n",
       "      <th>0</th>\n",
       "      <td>Liam</td>\n",
       "      <td>M</td>\n",
       "      <td>20456</td>\n",
       "      <td>2022</td>\n",
       "    </tr>\n",
       "    <tr>\n",
       "      <th>1</th>\n",
       "      <td>Noah</td>\n",
       "      <td>M</td>\n",
       "      <td>18621</td>\n",
       "      <td>2022</td>\n",
       "    </tr>\n",
       "    <tr>\n",
       "      <th>2</th>\n",
       "      <td>Olivia</td>\n",
       "      <td>F</td>\n",
       "      <td>16573</td>\n",
       "      <td>2022</td>\n",
       "    </tr>\n",
       "    <tr>\n",
       "      <th>3</th>\n",
       "      <td>Oliver</td>\n",
       "      <td>M</td>\n",
       "      <td>15076</td>\n",
       "      <td>2022</td>\n",
       "    </tr>\n",
       "    <tr>\n",
       "      <th>4</th>\n",
       "      <td>Emma</td>\n",
       "      <td>F</td>\n",
       "      <td>14435</td>\n",
       "      <td>2022</td>\n",
       "    </tr>\n",
       "    <tr>\n",
       "      <th>...</th>\n",
       "      <td>...</td>\n",
       "      <td>...</td>\n",
       "      <td>...</td>\n",
       "      <td>...</td>\n",
       "    </tr>\n",
       "    <tr>\n",
       "      <th>2085153</th>\n",
       "      <td>Woodie</td>\n",
       "      <td>M</td>\n",
       "      <td>5</td>\n",
       "      <td>1880</td>\n",
       "    </tr>\n",
       "    <tr>\n",
       "      <th>2085154</th>\n",
       "      <td>Worthy</td>\n",
       "      <td>M</td>\n",
       "      <td>5</td>\n",
       "      <td>1880</td>\n",
       "    </tr>\n",
       "    <tr>\n",
       "      <th>2085155</th>\n",
       "      <td>Wright</td>\n",
       "      <td>M</td>\n",
       "      <td>5</td>\n",
       "      <td>1880</td>\n",
       "    </tr>\n",
       "    <tr>\n",
       "      <th>2085156</th>\n",
       "      <td>York</td>\n",
       "      <td>M</td>\n",
       "      <td>5</td>\n",
       "      <td>1880</td>\n",
       "    </tr>\n",
       "    <tr>\n",
       "      <th>2085157</th>\n",
       "      <td>Zachariah</td>\n",
       "      <td>M</td>\n",
       "      <td>5</td>\n",
       "      <td>1880</td>\n",
       "    </tr>\n",
       "  </tbody>\n",
       "</table>\n",
       "<p>2085158 rows × 4 columns</p>\n",
       "</div>"
      ],
      "text/plain": [
       "              Name Sex  Count  Year\n",
       "0             Liam   M  20456  2022\n",
       "1             Noah   M  18621  2022\n",
       "2           Olivia   F  16573  2022\n",
       "3           Oliver   M  15076  2022\n",
       "4             Emma   F  14435  2022\n",
       "...            ...  ..    ...   ...\n",
       "2085153     Woodie   M      5  1880\n",
       "2085154     Worthy   M      5  1880\n",
       "2085155     Wright   M      5  1880\n",
       "2085156       York   M      5  1880\n",
       "2085157  Zachariah   M      5  1880\n",
       "\n",
       "[2085158 rows x 4 columns]"
      ]
     },
     "execution_count": 3,
     "metadata": {},
     "output_type": "execute_result"
    }
   ],
   "source": [
    "baby = pd.read_csv('data/baby.csv')\n",
    "baby"
   ]
  },
  {
   "cell_type": "markdown",
   "id": "37ecc9f7",
   "metadata": {
    "slideshow": {
     "slide_type": "slide"
    }
   },
   "source": [
    "Recall from DSC 10, to access columns in a DataFrame, you used the `.get` method."
   ]
  },
  {
   "cell_type": "code",
   "execution_count": 4,
   "id": "e38a98e2",
   "metadata": {},
   "outputs": [
    {
     "data": {
      "text/plain": [
       "np.int64(365296191)"
      ]
     },
     "execution_count": 4,
     "metadata": {},
     "output_type": "execute_result"
    }
   ],
   "source": [
    "baby.get('Count').sum()"
   ]
  },
  {
   "cell_type": "markdown",
   "id": "2c27c766",
   "metadata": {
    "slideshow": {
     "slide_type": "fragment"
    }
   },
   "source": [
    "Everything you learned in `babypandas` translates to `pandas`. However, the more common way of accessing a column in `pandas` involves dictionary syntax:"
   ]
  },
  {
   "cell_type": "code",
   "execution_count": 70,
   "id": "c8478309",
   "metadata": {},
   "outputs": [
    {
     "data": {
      "text/plain": [
       "np.int64(365296191)"
      ]
     },
     "execution_count": 70,
     "metadata": {},
     "output_type": "execute_result"
    }
   ],
   "source": [
    "baby['Count'].sum()"
   ]
  },
  {
   "cell_type": "markdown",
   "id": "c97d5bac",
   "metadata": {
    "slideshow": {
     "slide_type": "slide"
    }
   },
   "source": [
    "### How many unique names were there per year?"
   ]
  },
  {
   "cell_type": "code",
   "execution_count": 5,
   "id": "10a26947",
   "metadata": {},
   "outputs": [
    {
     "data": {
      "text/plain": [
       "Year\n",
       "1880     2000\n",
       "1881     1934\n",
       "1882     2127\n",
       "1883     2084\n",
       "1884     2297\n",
       "        ...  \n",
       "2018    32221\n",
       "2019    32109\n",
       "2020    31517\n",
       "2021    31685\n",
       "2022    31915\n",
       "Length: 143, dtype: int64"
      ]
     },
     "execution_count": 5,
     "metadata": {},
     "output_type": "execute_result"
    }
   ],
   "source": [
    "baby.groupby('Year').size()"
   ]
  },
  {
   "cell_type": "markdown",
   "id": "d373aa96",
   "metadata": {},
   "source": [
    "A shortcut to the above is as follows:"
   ]
  },
  {
   "cell_type": "code",
   "execution_count": 6,
   "id": "ebb4b305",
   "metadata": {
    "scrolled": true
   },
   "outputs": [
    {
     "data": {
      "text/plain": [
       "Year\n",
       "2008    35094\n",
       "2007    34966\n",
       "2009    34724\n",
       "2006    34102\n",
       "2010    34098\n",
       "        ...  \n",
       "1885     2294\n",
       "1882     2127\n",
       "1883     2084\n",
       "1880     2000\n",
       "1881     1934\n",
       "Name: count, Length: 143, dtype: int64"
      ]
     },
     "execution_count": 6,
     "metadata": {},
     "output_type": "execute_result"
    }
   ],
   "source": [
    "baby['Year'].value_counts()"
   ]
  },
  {
   "cell_type": "markdown",
   "id": "03792149",
   "metadata": {
    "slideshow": {
     "slide_type": "fragment"
    }
   },
   "source": [
    "Why **doesn't** the above Series actually contain the number of unique names per year?"
   ]
  },
  {
   "cell_type": "code",
   "execution_count": 7,
   "id": "7f795aac",
   "metadata": {},
   "outputs": [
    {
     "data": {
      "text/html": [
       "<div>\n",
       "<style scoped>\n",
       "    .dataframe tbody tr th:only-of-type {\n",
       "        vertical-align: middle;\n",
       "    }\n",
       "\n",
       "    .dataframe tbody tr th {\n",
       "        vertical-align: top;\n",
       "    }\n",
       "\n",
       "    .dataframe thead th {\n",
       "        text-align: right;\n",
       "    }\n",
       "</style>\n",
       "<table border=\"1\" class=\"dataframe\">\n",
       "  <thead>\n",
       "    <tr style=\"text-align: right;\">\n",
       "      <th></th>\n",
       "      <th>Name</th>\n",
       "      <th>Sex</th>\n",
       "      <th>Count</th>\n",
       "      <th>Year</th>\n",
       "    </tr>\n",
       "  </thead>\n",
       "  <tbody>\n",
       "    <tr>\n",
       "      <th>2083158</th>\n",
       "      <td>John</td>\n",
       "      <td>M</td>\n",
       "      <td>9655</td>\n",
       "      <td>1880</td>\n",
       "    </tr>\n",
       "    <tr>\n",
       "      <th>2083159</th>\n",
       "      <td>William</td>\n",
       "      <td>M</td>\n",
       "      <td>9532</td>\n",
       "      <td>1880</td>\n",
       "    </tr>\n",
       "    <tr>\n",
       "      <th>2083160</th>\n",
       "      <td>Mary</td>\n",
       "      <td>F</td>\n",
       "      <td>7065</td>\n",
       "      <td>1880</td>\n",
       "    </tr>\n",
       "    <tr>\n",
       "      <th>2083161</th>\n",
       "      <td>James</td>\n",
       "      <td>M</td>\n",
       "      <td>5927</td>\n",
       "      <td>1880</td>\n",
       "    </tr>\n",
       "    <tr>\n",
       "      <th>2083162</th>\n",
       "      <td>Charles</td>\n",
       "      <td>M</td>\n",
       "      <td>5348</td>\n",
       "      <td>1880</td>\n",
       "    </tr>\n",
       "    <tr>\n",
       "      <th>...</th>\n",
       "      <td>...</td>\n",
       "      <td>...</td>\n",
       "      <td>...</td>\n",
       "      <td>...</td>\n",
       "    </tr>\n",
       "    <tr>\n",
       "      <th>2085153</th>\n",
       "      <td>Woodie</td>\n",
       "      <td>M</td>\n",
       "      <td>5</td>\n",
       "      <td>1880</td>\n",
       "    </tr>\n",
       "    <tr>\n",
       "      <th>2085154</th>\n",
       "      <td>Worthy</td>\n",
       "      <td>M</td>\n",
       "      <td>5</td>\n",
       "      <td>1880</td>\n",
       "    </tr>\n",
       "    <tr>\n",
       "      <th>2085155</th>\n",
       "      <td>Wright</td>\n",
       "      <td>M</td>\n",
       "      <td>5</td>\n",
       "      <td>1880</td>\n",
       "    </tr>\n",
       "    <tr>\n",
       "      <th>2085156</th>\n",
       "      <td>York</td>\n",
       "      <td>M</td>\n",
       "      <td>5</td>\n",
       "      <td>1880</td>\n",
       "    </tr>\n",
       "    <tr>\n",
       "      <th>2085157</th>\n",
       "      <td>Zachariah</td>\n",
       "      <td>M</td>\n",
       "      <td>5</td>\n",
       "      <td>1880</td>\n",
       "    </tr>\n",
       "  </tbody>\n",
       "</table>\n",
       "<p>2000 rows × 4 columns</p>\n",
       "</div>"
      ],
      "text/plain": [
       "              Name Sex  Count  Year\n",
       "2083158       John   M   9655  1880\n",
       "2083159    William   M   9532  1880\n",
       "2083160       Mary   F   7065  1880\n",
       "2083161      James   M   5927  1880\n",
       "2083162    Charles   M   5348  1880\n",
       "...            ...  ..    ...   ...\n",
       "2085153     Woodie   M      5  1880\n",
       "2085154     Worthy   M      5  1880\n",
       "2085155     Wright   M      5  1880\n",
       "2085156       York   M      5  1880\n",
       "2085157  Zachariah   M      5  1880\n",
       "\n",
       "[2000 rows x 4 columns]"
      ]
     },
     "execution_count": 7,
     "metadata": {},
     "output_type": "execute_result"
    }
   ],
   "source": [
    "baby[(baby['Year'] == 1880)]"
   ]
  },
  {
   "cell_type": "code",
   "execution_count": 9,
   "id": "df97e95e",
   "metadata": {},
   "outputs": [
    {
     "data": {
      "text/plain": [
       "Name\n",
       "Grace       2\n",
       "Emma        2\n",
       "Clair       2\n",
       "Florence    2\n",
       "Clara       2\n",
       "           ..\n",
       "Evan        1\n",
       "Evalyn      1\n",
       "Evaline     1\n",
       "Evalena     1\n",
       "Zula        1\n",
       "Name: count, Length: 1889, dtype: int64"
      ]
     },
     "execution_count": 9,
     "metadata": {},
     "output_type": "execute_result"
    }
   ],
   "source": [
    "baby[(baby['Year'] == 1880)].value_counts('Name')"
   ]
  },
  {
   "cell_type": "markdown",
   "id": "5e7d10b7",
   "metadata": {
    "slideshow": {
     "slide_type": "slide"
    }
   },
   "source": [
    "### How many babies were recorded per year?"
   ]
  },
  {
   "cell_type": "code",
   "execution_count": 11,
   "id": "36d80e14",
   "metadata": {},
   "outputs": [
    {
     "data": {
      "text/plain": [
       "Year\n",
       "1880     201484\n",
       "1881     192690\n",
       "1882     221533\n",
       "1883     216945\n",
       "1884     243461\n",
       "         ...   \n",
       "2018    3511750\n",
       "2019    3465821\n",
       "2020    3333981\n",
       "2021    3379713\n",
       "2022    3361896\n",
       "Name: Count, Length: 143, dtype: int64"
      ]
     },
     "execution_count": 11,
     "metadata": {},
     "output_type": "execute_result"
    }
   ],
   "source": [
    "baby.groupby('Year')['Count'].sum()"
   ]
  },
  {
   "cell_type": "code",
   "execution_count": 12,
   "id": "c122d6cb-de97-4273-8165-307143d27191",
   "metadata": {},
   "outputs": [
    {
     "data": {
      "text/plain": [
       "<Axes: xlabel='Year'>"
      ]
     },
     "execution_count": 12,
     "metadata": {},
     "output_type": "execute_result"
    },
    {
     "data": {
      "image/png": "[encoded data removed]",
      "text/plain": [
       "<Figure size 640x480 with 1 Axes>"
      ]
     },
     "metadata": {},
     "output_type": "display_data"
    }
   ],
   "source": [
    "baby.groupby('Year')['Count'].sum().plot()"
   ]
  },
  {
   "cell_type": "markdown",
   "id": "ebdfa572-488e-4276-acde-32c831754f6f",
   "metadata": {
    "slideshow": {
     "slide_type": "slide"
    },
    "tags": []
   },
   "source": [
    "### \"'L' has to be like the consonant of the decade.\""
   ]
  },
  {
   "cell_type": "code",
   "execution_count": 13,
   "id": "7bbb520a-576e-4cb6-bcae-730ac39c9062",
   "metadata": {},
   "outputs": [
    {
     "data": {
      "text/html": [
       "<div>\n",
       "<style scoped>\n",
       "    .dataframe tbody tr th:only-of-type {\n",
       "        vertical-align: middle;\n",
       "    }\n",
       "\n",
       "    .dataframe tbody tr th {\n",
       "        vertical-align: top;\n",
       "    }\n",
       "\n",
       "    .dataframe thead th {\n",
       "        text-align: right;\n",
       "    }\n",
       "</style>\n",
       "<table border=\"1\" class=\"dataframe\">\n",
       "  <thead>\n",
       "    <tr style=\"text-align: right;\">\n",
       "      <th></th>\n",
       "      <th>Name</th>\n",
       "      <th>Sex</th>\n",
       "      <th>Count</th>\n",
       "      <th>Year</th>\n",
       "      <th>first_letter</th>\n",
       "    </tr>\n",
       "  </thead>\n",
       "  <tbody>\n",
       "    <tr>\n",
       "      <th>0</th>\n",
       "      <td>Liam</td>\n",
       "      <td>M</td>\n",
       "      <td>20456</td>\n",
       "      <td>2022</td>\n",
       "      <td>L</td>\n",
       "    </tr>\n",
       "    <tr>\n",
       "      <th>1</th>\n",
       "      <td>Noah</td>\n",
       "      <td>M</td>\n",
       "      <td>18621</td>\n",
       "      <td>2022</td>\n",
       "      <td>N</td>\n",
       "    </tr>\n",
       "    <tr>\n",
       "      <th>2</th>\n",
       "      <td>Olivia</td>\n",
       "      <td>F</td>\n",
       "      <td>16573</td>\n",
       "      <td>2022</td>\n",
       "      <td>O</td>\n",
       "    </tr>\n",
       "    <tr>\n",
       "      <th>3</th>\n",
       "      <td>Oliver</td>\n",
       "      <td>M</td>\n",
       "      <td>15076</td>\n",
       "      <td>2022</td>\n",
       "      <td>O</td>\n",
       "    </tr>\n",
       "    <tr>\n",
       "      <th>4</th>\n",
       "      <td>Emma</td>\n",
       "      <td>F</td>\n",
       "      <td>14435</td>\n",
       "      <td>2022</td>\n",
       "      <td>E</td>\n",
       "    </tr>\n",
       "    <tr>\n",
       "      <th>...</th>\n",
       "      <td>...</td>\n",
       "      <td>...</td>\n",
       "      <td>...</td>\n",
       "      <td>...</td>\n",
       "      <td>...</td>\n",
       "    </tr>\n",
       "    <tr>\n",
       "      <th>2085153</th>\n",
       "      <td>Woodie</td>\n",
       "      <td>M</td>\n",
       "      <td>5</td>\n",
       "      <td>1880</td>\n",
       "      <td>W</td>\n",
       "    </tr>\n",
       "    <tr>\n",
       "      <th>2085154</th>\n",
       "      <td>Worthy</td>\n",
       "      <td>M</td>\n",
       "      <td>5</td>\n",
       "      <td>1880</td>\n",
       "      <td>W</td>\n",
       "    </tr>\n",
       "    <tr>\n",
       "      <th>2085155</th>\n",
       "      <td>Wright</td>\n",
       "      <td>M</td>\n",
       "      <td>5</td>\n",
       "      <td>1880</td>\n",
       "      <td>W</td>\n",
       "    </tr>\n",
       "    <tr>\n",
       "      <th>2085156</th>\n",
       "      <td>York</td>\n",
       "      <td>M</td>\n",
       "      <td>5</td>\n",
       "      <td>1880</td>\n",
       "      <td>Y</td>\n",
       "    </tr>\n",
       "    <tr>\n",
       "      <th>2085157</th>\n",
       "      <td>Zachariah</td>\n",
       "      <td>M</td>\n",
       "      <td>5</td>\n",
       "      <td>1880</td>\n",
       "      <td>Z</td>\n",
       "    </tr>\n",
       "  </tbody>\n",
       "</table>\n",
       "<p>2085158 rows × 5 columns</p>\n",
       "</div>"
      ],
      "text/plain": [
       "              Name Sex  Count  Year first_letter\n",
       "0             Liam   M  20456  2022            L\n",
       "1             Noah   M  18621  2022            N\n",
       "2           Olivia   F  16573  2022            O\n",
       "3           Oliver   M  15076  2022            O\n",
       "4             Emma   F  14435  2022            E\n",
       "...            ...  ..    ...   ...          ...\n",
       "2085153     Woodie   M      5  1880            W\n",
       "2085154     Worthy   M      5  1880            W\n",
       "2085155     Wright   M      5  1880            W\n",
       "2085156       York   M      5  1880            Y\n",
       "2085157  Zachariah   M      5  1880            Z\n",
       "\n",
       "[2085158 rows x 5 columns]"
      ]
     },
     "execution_count": 13,
     "metadata": {},
     "output_type": "execute_result"
    }
   ],
   "source": [
    "baby.assign(first_letter=baby['Name'].str[0])"
   ]
  },
  {
   "cell_type": "code",
   "execution_count": 14,
   "id": "9228ce94-b4e6-4683-873d-5dda36d51b8a",
   "metadata": {
    "tags": []
   },
   "outputs": [
    {
     "data": {
      "text/plain": [
       "<Axes: title={'center': 'Number of Babies Born with an \"L\" Name Per Year'}, xlabel='Year'>"
      ]
     },
     "execution_count": 14,
     "metadata": {},
     "output_type": "execute_result"
    },
    {
     "data": {
      "image/png": "[encoded data removed]",
      "text/plain": [
       "<Figure size 640x480 with 1 Axes>"
      ]
     },
     "metadata": {},
     "output_type": "display_data"
    }
   ],
   "source": [
    "(baby\n",
    " .assign(first_letter=baby['Name'].str[0])\n",
    " .query('first_letter == \"L\"')\n",
    " .groupby('Year')\n",
    " ['Count']\n",
    " .sum()\n",
    " .plot(title='Number of Babies Born with an \"L\" Name Per Year')\n",
    ")"
   ]
  },
  {
   "cell_type": "markdown",
   "id": "b1bf7d1b-6ed3-4c6a-b210-481e1bcdd334",
   "metadata": {
    "slideshow": {
     "slide_type": "slide"
    },
    "tags": []
   },
   "source": [
    "### What about individual names?"
   ]
  },
  {
   "cell_type": "code",
   "execution_count": 17,
   "id": "1f78e486",
   "metadata": {},
   "outputs": [
    {
     "data": {
      "text/plain": [
       "<Axes: title={'center': 'Number of Babies Born Named \"Siri\" Per Year'}, xlabel='Year'>"
      ]
     },
     "execution_count": 17,
     "metadata": {},
     "output_type": "execute_result"
    },
    {
     "data": {
      "image/png": "[encoded data removed]",
      "text/plain": [
       "<Figure size 640x480 with 1 Axes>"
      ]
     },
     "metadata": {},
     "output_type": "display_data"
    }
   ],
   "source": [
    "(baby\n",
    " .query('Name == \"Bivin\"')\n",
    " .groupby('Year')\n",
    " ['Count']\n",
    " .sum()\n",
    " .plot(title='Number of Babies Born Named \"Siri\" Per Year')\n",
    ")"
   ]
  },
  {
   "cell_type": "code",
   "execution_count": 18,
   "id": "1de20c77",
   "metadata": {
    "slideshow": {
     "slide_type": "slide"
    }
   },
   "outputs": [],
   "source": [
    "def name_graph(name):\n",
    "    return (baby\n",
    "     .query(f'Name == \"{name}\"')\n",
    "     .groupby('Year')\n",
    "     ['Count']\n",
    "     .sum()\n",
    "     .plot(title=f'Number of Babies Born Named \"{name}\" Per Year')\n",
    "    )"
   ]
  },
  {
   "cell_type": "code",
   "execution_count": 20,
   "id": "630c3609",
   "metadata": {},
   "outputs": [
    {
     "data": {
      "text/plain": [
       "<Axes: title={'center': 'Number of Babies Born Named \"Brian\" Per Year'}, xlabel='Year'>"
      ]
     },
     "execution_count": 20,
     "metadata": {},
     "output_type": "execute_result"
    },
    {
     "data": {
      "image/png": "[encoded data removed]",
      "text/plain": [
       "<Figure size 640x480 with 1 Axes>"
      ]
     },
     "metadata": {},
     "output_type": "display_data"
    }
   ],
   "source": [
    "name_graph('Brian')"
   ]
  },
  {
   "cell_type": "markdown",
   "id": "fdeb94d7",
   "metadata": {
    "slideshow": {
     "slide_type": "slide"
    }
   },
   "source": [
    "### What about other names?"
   ]
  },
  {
   "cell_type": "code",
   "execution_count": 81,
   "id": "63c59294",
   "metadata": {},
   "outputs": [
    {
     "data": {
      "application/vnd.plotly.v1+json": {
       "config": {
        "plotlyServerURL": "https://plot.ly"
       },
       "data": [
        {
         "hovertemplate": "variable=Count<br>Year=%{x}<br>value=%{y}<extra></extra>",
         "legendgroup": "Count",
         "line": {
          "color": "#1F77B4",
          "dash": "solid"
         },
         "marker": {
          "symbol": "circle"
         },
         "mode": "lines",
         "name": "Count",
         "orientation": "v",
         "showlegend": true,
         "type": "scatter",
         "x": [
          1916,
          1917,
          1921,
          1923,
          1924,
          1925,
          1926,
          1927,
          1928,
          1931,
          1935,
          1937,
          1941,
          1942,
          1943,
          1944,
          1945,
          1946,
          1947,
          1948,
          1949,
          1950,
          1951,
          1952,
          1953,
          1954,
          1955,
          1956,
          1957,
          1958,
          1959,
          1960,
          1961,
          1962,
          1963,
          1964,
          1965,
          1966,
          1967,
          1968,
          1969,
          1970,
          1971,
          1972,
          1973,
          1974,
          1975,
          1976,
          1977,
          1978,
          1979,
          1980,
          1981,
          1982,
          1983,
          1984,
          1985,
          1986,
          1987,
          1988,
          1989,
          1990,
          1991,
          1992,
          1993,
          1994,
          1995,
          1996,
          1997,
          1998,
          1999,
          2000,
          2001,
          2002,
          2003,
          2004,
          2005,
          2006,
          2007,
          2008,
          2009,
          2010,
          2011,
          2012,
          2013,
          2014,
          2015,
          2016,
          2017,
          2018,
          2019,
          2020,
          2021,
          2022
         ],
         "xaxis": "x",
         "y": [
          5,
          5,
          6,
          5,
          5,
          10,
          6,
          6,
          7,
          5,
          5,
          7,
          6,
          8,
          6,
          16,
          20,
          24,
          46,
          48,
          45,
          38,
          55,
          52,
          39,
          33,
          41,
          33,
          53,
          39,
          26,
          34,
          36,
          47,
          34,
          31,
          28,
          32,
          46,
          79,
          75,
          85,
          68,
          92,
          152,
          213,
          211,
          202,
          189,
          175,
          176,
          179,
          222,
          215,
          219,
          215,
          200,
          503,
          830,
          925,
          1310,
          2139,
          2487,
          2240,
          3050,
          3459,
          3359,
          3266,
          3096,
          3622,
          3652,
          3682,
          3909,
          4408,
          4603,
          4468,
          4674,
          6122,
          5794,
          5239,
          5317,
          5049,
          4518,
          4296,
          4111,
          4256,
          6067,
          4777,
          3898,
          3074,
          2006,
          1288,
          704,
          574
         ],
         "yaxis": "y"
        }
       ],
       "layout": {
        "autosize": true,
        "legend": {
         "title": {
          "text": "variable"
         },
         "tracegroupgap": 0
        },
        "template": {
         "data": {
          "bar": [
           {
            "error_x": {
             "color": "rgb(36,36,36)"
            },
            "error_y": {
             "color": "rgb(36,36,36)"
            },
            "marker": {
             "line": {
              "color": "white",
              "width": 0.5
             },
             "pattern": {
              "fillmode": "overlay",
              "size": 10,
              "solidity": 0.2
             }
            },
            "type": "bar"
           }
          ],
          "barpolar": [
           {
            "marker": {
             "line": {
              "color": "white",
              "width": 0.5
             },
             "pattern": {
              "fillmode": "overlay",
              "size": 10,
              "solidity": 0.2
             }
            },
            "type": "barpolar"
           }
          ],
          "carpet": [
           {
            "aaxis": {
             "endlinecolor": "rgb(36,36,36)",
             "gridcolor": "white",
             "linecolor": "white",
             "minorgridcolor": "white",
             "startlinecolor": "rgb(36,36,36)"
            },
            "baxis": {
             "endlinecolor": "rgb(36,36,36)",
             "gridcolor": "white",
             "linecolor": "white",
             "minorgridcolor": "white",
             "startlinecolor": "rgb(36,36,36)"
            },
            "type": "carpet"
           }
          ],
          "choropleth": [
           {
            "colorbar": {
             "outlinewidth": 1,
             "tickcolor": "rgb(36,36,36)",
             "ticks": "outside"
            },
            "type": "choropleth"
           }
          ],
          "contour": [
           {
            "colorbar": {
             "outlinewidth": 1,
             "tickcolor": "rgb(36,36,36)",
             "ticks": "outside"
            },
            "colorscale": [
             [
              0,
              "#440154"
             ],
             [
              0.1111111111111111,
              "#482878"
             ],
             [
              0.2222222222222222,
              "#3e4989"
             ],
             [
              0.3333333333333333,
              "#31688e"
             ],
             [
              0.4444444444444444,
              "#26828e"
             ],
             [
              0.5555555555555556,
              "#1f9e89"
             ],
             [
              0.6666666666666666,
              "#35b779"
             ],
             [
              0.7777777777777778,
              "#6ece58"
             ],
             [
              0.8888888888888888,
              "#b5de2b"
             ],
             [
              1,
              "#fde725"
             ]
            ],
            "type": "contour"
           }
          ],
          "contourcarpet": [
           {
            "colorbar": {
             "outlinewidth": 1,
             "tickcolor": "rgb(36,36,36)",
             "ticks": "outside"
            },
            "type": "contourcarpet"
           }
          ],
          "heatmap": [
           {
            "colorbar": {
             "outlinewidth": 1,
             "tickcolor": "rgb(36,36,36)",
             "ticks": "outside"
            },
            "colorscale": [
             [
              0,
              "#440154"
             ],
             [
              0.1111111111111111,
              "#482878"
             ],
             [
              0.2222222222222222,
              "#3e4989"
             ],
             [
              0.3333333333333333,
              "#31688e"
             ],
             [
              0.4444444444444444,
              "#26828e"
             ],
             [
              0.5555555555555556,
              "#1f9e89"
             ],
             [
              0.6666666666666666,
              "#35b779"
             ],
             [
              0.7777777777777778,
              "#6ece58"
             ],
             [
              0.8888888888888888,
              "#b5de2b"
             ],
             [
              1,
              "#fde725"
             ]
            ],
            "type": "heatmap"
           }
          ],
          "heatmapgl": [
           {
            "colorbar": {
             "outlinewidth": 1,
             "tickcolor": "rgb(36,36,36)",
             "ticks": "outside"
            },
            "colorscale": [
             [
              0,
              "#440154"
             ],
             [
              0.1111111111111111,
              "#482878"
             ],
             [
              0.2222222222222222,
              "#3e4989"
             ],
             [
              0.3333333333333333,
              "#31688e"
             ],
             [
              0.4444444444444444,
              "#26828e"
             ],
             [
              0.5555555555555556,
              "#1f9e89"
             ],
             [
              0.6666666666666666,
              "#35b779"
             ],
             [
              0.7777777777777778,
              "#6ece58"
             ],
             [
              0.8888888888888888,
              "#b5de2b"
             ],
             [
              1,
              "#fde725"
             ]
            ],
            "type": "heatmapgl"
           }
          ],
          "histogram": [
           {
            "marker": {
             "line": {
              "color": "white",
              "width": 0.6
             }
            },
            "type": "histogram"
           }
          ],
          "histogram2d": [
           {
            "colorbar": {
             "outlinewidth": 1,
             "tickcolor": "rgb(36,36,36)",
             "ticks": "outside"
            },
            "colorscale": [
             [
              0,
              "#440154"
             ],
             [
              0.1111111111111111,
              "#482878"
             ],
             [
              0.2222222222222222,
              "#3e4989"
             ],
             [
              0.3333333333333333,
              "#31688e"
             ],
             [
              0.4444444444444444,
              "#26828e"
             ],
             [
              0.5555555555555556,
              "#1f9e89"
             ],
             [
              0.6666666666666666,
              "#35b779"
             ],
             [
              0.7777777777777778,
              "#6ece58"
             ],
             [
              0.8888888888888888,
              "#b5de2b"
             ],
             [
              1,
              "#fde725"
             ]
            ],
            "type": "histogram2d"
           }
          ],
          "histogram2dcontour": [
           {
            "colorbar": {
             "outlinewidth": 1,
             "tickcolor": "rgb(36,36,36)",
             "ticks": "outside"
            },
            "colorscale": [
             [
              0,
              "#440154"
             ],
             [
              0.1111111111111111,
              "#482878"
             ],
             [
              0.2222222222222222,
              "#3e4989"
             ],
             [
              0.3333333333333333,
              "#31688e"
             ],
             [
              0.4444444444444444,
              "#26828e"
             ],
             [
              0.5555555555555556,
              "#1f9e89"
             ],
             [
              0.6666666666666666,
              "#35b779"
             ],
             [
              0.7777777777777778,
              "#6ece58"
             ],
             [
              0.8888888888888888,
              "#b5de2b"
             ],
             [
              1,
              "#fde725"
             ]
            ],
            "type": "histogram2dcontour"
           }
          ],
          "mesh3d": [
           {
            "colorbar": {
             "outlinewidth": 1,
             "tickcolor": "rgb(36,36,36)",
             "ticks": "outside"
            },
            "type": "mesh3d"
           }
          ],
          "parcoords": [
           {
            "line": {
             "colorbar": {
              "outlinewidth": 1,
              "tickcolor": "rgb(36,36,36)",
              "ticks": "outside"
             }
            },
            "type": "parcoords"
           }
          ],
          "pie": [
           {
            "automargin": true,
            "type": "pie"
           }
          ],
          "scatter": [
           {
            "fillpattern": {
             "fillmode": "overlay",
             "size": 10,
             "solidity": 0.2
            },
            "type": "scatter"
           }
          ],
          "scatter3d": [
           {
            "line": {
             "colorbar": {
              "outlinewidth": 1,
              "tickcolor": "rgb(36,36,36)",
              "ticks": "outside"
             }
            },
            "marker": {
             "colorbar": {
              "outlinewidth": 1,
              "tickcolor": "rgb(36,36,36)",
              "ticks": "outside"
             }
            },
            "type": "scatter3d"
           }
          ],
          "scattercarpet": [
           {
            "marker": {
             "colorbar": {
              "outlinewidth": 1,
              "tickcolor": "rgb(36,36,36)",
              "ticks": "outside"
             }
            },
            "type": "scattercarpet"
           }
          ],
          "scattergeo": [
           {
            "marker": {
             "colorbar": {
              "outlinewidth": 1,
              "tickcolor": "rgb(36,36,36)",
              "ticks": "outside"
             }
            },
            "type": "scattergeo"
           }
          ],
          "scattergl": [
           {
            "marker": {
             "colorbar": {
              "outlinewidth": 1,
              "tickcolor": "rgb(36,36,36)",
              "ticks": "outside"
             }
            },
            "type": "scattergl"
           }
          ],
          "scattermapbox": [
           {
            "marker": {
             "colorbar": {
              "outlinewidth": 1,
              "tickcolor": "rgb(36,36,36)",
              "ticks": "outside"
             }
            },
            "type": "scattermapbox"
           }
          ],
          "scatterpolar": [
           {
            "marker": {
             "colorbar": {
              "outlinewidth": 1,
              "tickcolor": "rgb(36,36,36)",
              "ticks": "outside"
             }
            },
            "type": "scatterpolar"
           }
          ],
          "scatterpolargl": [
           {
            "marker": {
             "colorbar": {
              "outlinewidth": 1,
              "tickcolor": "rgb(36,36,36)",
              "ticks": "outside"
             }
            },
            "type": "scatterpolargl"
           }
          ],
          "scatterternary": [
           {
            "marker": {
             "colorbar": {
              "outlinewidth": 1,
              "tickcolor": "rgb(36,36,36)",
              "ticks": "outside"
             }
            },
            "type": "scatterternary"
           }
          ],
          "surface": [
           {
            "colorbar": {
             "outlinewidth": 1,
             "tickcolor": "rgb(36,36,36)",
             "ticks": "outside"
            },
            "colorscale": [
             [
              0,
              "#440154"
             ],
             [
              0.1111111111111111,
              "#482878"
             ],
             [
              0.2222222222222222,
              "#3e4989"
             ],
             [
              0.3333333333333333,
              "#31688e"
             ],
             [
              0.4444444444444444,
              "#26828e"
             ],
             [
              0.5555555555555556,
              "#1f9e89"
             ],
             [
              0.6666666666666666,
              "#35b779"
             ],
             [
              0.7777777777777778,
              "#6ece58"
             ],
             [
              0.8888888888888888,
              "#b5de2b"
             ],
             [
              1,
              "#fde725"
             ]
            ],
            "type": "surface"
           }
          ],
          "table": [
           {
            "cells": {
             "fill": {
              "color": "rgb(237,237,237)"
             },
             "line": {
              "color": "white"
             }
            },
            "header": {
             "fill": {
              "color": "rgb(217,217,217)"
             },
             "line": {
              "color": "white"
             }
            },
            "type": "table"
           }
          ]
         },
         "layout": {
          "annotationdefaults": {
           "arrowhead": 0,
           "arrowwidth": 1
          },
          "autosize": true,
          "autotypenumbers": "strict",
          "coloraxis": {
           "colorbar": {
            "outlinewidth": 1,
            "tickcolor": "rgb(36,36,36)",
            "ticks": "outside"
           }
          },
          "colorscale": {
           "diverging": [
            [
             0,
             "rgb(103,0,31)"
            ],
            [
             0.1,
             "rgb(178,24,43)"
            ],
            [
             0.2,
             "rgb(214,96,77)"
            ],
            [
             0.3,
             "rgb(244,165,130)"
            ],
            [
             0.4,
             "rgb(253,219,199)"
            ],
            [
             0.5,
             "rgb(247,247,247)"
            ],
            [
             0.6,
             "rgb(209,229,240)"
            ],
            [
             0.7,
             "rgb(146,197,222)"
            ],
            [
             0.8,
             "rgb(67,147,195)"
            ],
            [
             0.9,
             "rgb(33,102,172)"
            ],
            [
             1,
             "rgb(5,48,97)"
            ]
           ],
           "sequential": [
            [
             0,
             "#440154"
            ],
            [
             0.1111111111111111,
             "#482878"
            ],
            [
             0.2222222222222222,
             "#3e4989"
            ],
            [
             0.3333333333333333,
             "#31688e"
            ],
            [
             0.4444444444444444,
             "#26828e"
            ],
            [
             0.5555555555555556,
             "#1f9e89"
            ],
            [
             0.6666666666666666,
             "#35b779"
            ],
            [
             0.7777777777777778,
             "#6ece58"
            ],
            [
             0.8888888888888888,
             "#b5de2b"
            ],
            [
             1,
             "#fde725"
            ]
           ],
           "sequentialminus": [
            [
             0,
             "#440154"
            ],
            [
             0.1111111111111111,
             "#482878"
            ],
            [
             0.2222222222222222,
             "#3e4989"
            ],
            [
             0.3333333333333333,
             "#31688e"
            ],
            [
             0.4444444444444444,
             "#26828e"
            ],
            [
             0.5555555555555556,
             "#1f9e89"
            ],
            [
             0.6666666666666666,
             "#35b779"
            ],
            [
             0.7777777777777778,
             "#6ece58"
            ],
            [
             0.8888888888888888,
             "#b5de2b"
            ],
            [
             1,
             "#fde725"
            ]
           ]
          },
          "colorway": [
           "#1F77B4",
           "#FF7F0E",
           "#2CA02C",
           "#D62728",
           "#9467BD",
           "#8C564B",
           "#E377C2",
           "#7F7F7F",
           "#BCBD22",
           "#17BECF"
          ],
          "font": {
           "color": "rgb(36,36,36)"
          },
          "geo": {
           "bgcolor": "white",
           "lakecolor": "white",
           "landcolor": "white",
           "showlakes": true,
           "showland": true,
           "subunitcolor": "white"
          },
          "height": 400,
          "hoverlabel": {
           "align": "left"
          },
          "hovermode": "closest",
          "mapbox": {
           "style": "light"
          },
          "margin": {
           "b": 30,
           "l": 30,
           "r": 30,
           "t": 30
          },
          "paper_bgcolor": "white",
          "plot_bgcolor": "white",
          "polar": {
           "angularaxis": {
            "gridcolor": "rgb(232,232,232)",
            "linecolor": "rgb(36,36,36)",
            "showgrid": false,
            "showline": true,
            "ticks": "outside"
           },
           "bgcolor": "white",
           "radialaxis": {
            "gridcolor": "rgb(232,232,232)",
            "linecolor": "rgb(36,36,36)",
            "showgrid": false,
            "showline": true,
            "ticks": "outside"
           }
          },
          "scene": {
           "xaxis": {
            "backgroundcolor": "white",
            "gridcolor": "rgb(232,232,232)",
            "gridwidth": 2,
            "linecolor": "rgb(36,36,36)",
            "showbackground": true,
            "showgrid": false,
            "showline": true,
            "ticks": "outside",
            "zeroline": false,
            "zerolinecolor": "rgb(36,36,36)"
           },
           "yaxis": {
            "backgroundcolor": "white",
            "gridcolor": "rgb(232,232,232)",
            "gridwidth": 2,
            "linecolor": "rgb(36,36,36)",
            "showbackground": true,
            "showgrid": false,
            "showline": true,
            "ticks": "outside",
            "zeroline": false,
            "zerolinecolor": "rgb(36,36,36)"
           },
           "zaxis": {
            "backgroundcolor": "white",
            "gridcolor": "rgb(232,232,232)",
            "gridwidth": 2,
            "linecolor": "rgb(36,36,36)",
            "showbackground": true,
            "showgrid": false,
            "showline": true,
            "ticks": "outside",
            "zeroline": false,
            "zerolinecolor": "rgb(36,36,36)"
           }
          },
          "shapedefaults": {
           "fillcolor": "black",
           "line": {
            "width": 0
           },
           "opacity": 0.3
          },
          "ternary": {
           "aaxis": {
            "gridcolor": "rgb(232,232,232)",
            "linecolor": "rgb(36,36,36)",
            "showgrid": false,
            "showline": true,
            "ticks": "outside"
           },
           "baxis": {
            "gridcolor": "rgb(232,232,232)",
            "linecolor": "rgb(36,36,36)",
            "showgrid": false,
            "showline": true,
            "ticks": "outside"
           },
           "bgcolor": "white",
           "caxis": {
            "gridcolor": "rgb(232,232,232)",
            "linecolor": "rgb(36,36,36)",
            "showgrid": false,
            "showline": true,
            "ticks": "outside"
           }
          },
          "title": {
           "x": 0.5,
           "xanchor": "center"
          },
          "width": 600,
          "xaxis": {
           "automargin": true,
           "gridcolor": "rgb(232,232,232)",
           "linecolor": "rgb(36,36,36)",
           "showgrid": true,
           "showline": true,
           "ticks": "outside",
           "title": {
            "standoff": 15
           },
           "zeroline": false,
           "zerolinecolor": "rgb(36,36,36)"
          },
          "yaxis": {
           "automargin": true,
           "gridcolor": "rgb(232,232,232)",
           "linecolor": "rgb(36,36,36)",
           "showgrid": true,
           "showline": true,
           "ticks": "outside",
           "title": {
            "standoff": 15
           },
           "zeroline": false,
           "zerolinecolor": "rgb(36,36,36)"
          }
         }
        },
        "title": {
         "text": "Number of Babies Born Named \"Alexa\" Per Year"
        },
        "xaxis": {
         "anchor": "y",
         "autorange": true,
         "domain": [
          0,
          1
         ],
         "range": [
          1916,
          2022
         ],
         "title": {
          "text": "Year"
         },
         "type": "linear"
        },
        "yaxis": {
         "anchor": "x",
         "autorange": true,
         "domain": [
          0,
          1
         ],
         "range": [
          -334.8333333333333,
          6461.833333333333
         ],
         "title": {
          "text": "value"
         },
         "type": "linear"
        }
       }
      },
      "image/png": "[encoded data removed]",
      "text/html": [
       "<div>                            <div id=\"c21ea737-f0c9-48b3-bfb1-fb13d6991956\" class=\"plotly-graph-div\" style=\"height:400px; width:600px;\"></div>            <script type=\"text/javascript\">                require([\"plotly\"], function(Plotly) {                    window.PLOTLYENV=window.PLOTLYENV || {};                                    if (document.getElementById(\"c21ea737-f0c9-48b3-bfb1-fb13d6991956\")) {                    Plotly.newPlot(                        \"c21ea737-f0c9-48b3-bfb1-fb13d6991956\",                        [{\"hovertemplate\":\"variable=Count\\u003cbr\\u003eYear=%{x}\\u003cbr\\u003evalue=%{y}\\u003cextra\\u003e\\u003c\\u002fextra\\u003e\",\"legendgroup\":\"Count\",\"line\":{\"color\":\"#1F77B4\",\"dash\":\"solid\"},\"marker\":{\"symbol\":\"circle\"},\"mode\":\"lines\",\"name\":\"Count\",\"orientation\":\"v\",\"showlegend\":true,\"x\":[1916,1917,1921,1923,1924,1925,1926,1927,1928,1931,1935,1937,1941,1942,1943,1944,1945,1946,1947,1948,1949,1950,1951,1952,1953,1954,1955,1956,1957,1958,1959,1960,1961,1962,1963,1964,1965,1966,1967,1968,1969,1970,1971,1972,1973,1974,1975,1976,1977,1978,1979,1980,1981,1982,1983,1984,1985,1986,1987,1988,1989,1990,1991,1992,1993,1994,1995,1996,1997,1998,1999,2000,2001,2002,2003,2004,2005,2006,2007,2008,2009,2010,2011,2012,2013,2014,2015,2016,2017,2018,2019,2020,2021,2022],\"xaxis\":\"x\",\"y\":[5,5,6,5,5,10,6,6,7,5,5,7,6,8,6,16,20,24,46,48,45,38,55,52,39,33,41,33,53,39,26,34,36,47,34,31,28,32,46,79,75,85,68,92,152,213,211,202,189,175,176,179,222,215,219,215,200,503,830,925,1310,2139,2487,2240,3050,3459,3359,3266,3096,3622,3652,3682,3909,4408,4603,4468,4674,6122,5794,5239,5317,5049,4518,4296,4111,4256,6067,4777,3898,3074,2006,1288,704,574],\"yaxis\":\"y\",\"type\":\"scatter\"}],                        {\"template\":{\"data\":{\"barpolar\":[{\"marker\":{\"line\":{\"color\":\"white\",\"width\":0.5},\"pattern\":{\"fillmode\":\"overlay\",\"size\":10,\"solidity\":0.2}},\"type\":\"barpolar\"}],\"bar\":[{\"error_x\":{\"color\":\"rgb(36,36,36)\"},\"error_y\":{\"color\":\"rgb(36,36,36)\"},\"marker\":{\"line\":{\"color\":\"white\",\"width\":0.5},\"pattern\":{\"fillmode\":\"overlay\",\"size\":10,\"solidity\":0.2}},\"type\":\"bar\"}],\"carpet\":[{\"aaxis\":{\"endlinecolor\":\"rgb(36,36,36)\",\"gridcolor\":\"white\",\"linecolor\":\"white\",\"minorgridcolor\":\"white\",\"startlinecolor\":\"rgb(36,36,36)\"},\"baxis\":{\"endlinecolor\":\"rgb(36,36,36)\",\"gridcolor\":\"white\",\"linecolor\":\"white\",\"minorgridcolor\":\"white\",\"startlinecolor\":\"rgb(36,36,36)\"},\"type\":\"carpet\"}],\"choropleth\":[{\"colorbar\":{\"outlinewidth\":1,\"tickcolor\":\"rgb(36,36,36)\",\"ticks\":\"outside\"},\"type\":\"choropleth\"}],\"contourcarpet\":[{\"colorbar\":{\"outlinewidth\":1,\"tickcolor\":\"rgb(36,36,36)\",\"ticks\":\"outside\"},\"type\":\"contourcarpet\"}],\"contour\":[{\"colorbar\":{\"outlinewidth\":1,\"tickcolor\":\"rgb(36,36,36)\",\"ticks\":\"outside\"},\"colorscale\":[[0.0,\"#440154\"],[0.1111111111111111,\"#482878\"],[0.2222222222222222,\"#3e4989\"],[0.3333333333333333,\"#31688e\"],[0.4444444444444444,\"#26828e\"],[0.5555555555555556,\"#1f9e89\"],[0.6666666666666666,\"#35b779\"],[0.7777777777777778,\"#6ece58\"],[0.8888888888888888,\"#b5de2b\"],[1.0,\"#fde725\"]],\"type\":\"contour\"}],\"heatmapgl\":[{\"colorbar\":{\"outlinewidth\":1,\"tickcolor\":\"rgb(36,36,36)\",\"ticks\":\"outside\"},\"colorscale\":[[0.0,\"#440154\"],[0.1111111111111111,\"#482878\"],[0.2222222222222222,\"#3e4989\"],[0.3333333333333333,\"#31688e\"],[0.4444444444444444,\"#26828e\"],[0.5555555555555556,\"#1f9e89\"],[0.6666666666666666,\"#35b779\"],[0.7777777777777778,\"#6ece58\"],[0.8888888888888888,\"#b5de2b\"],[1.0,\"#fde725\"]],\"type\":\"heatmapgl\"}],\"heatmap\":[{\"colorbar\":{\"outlinewidth\":1,\"tickcolor\":\"rgb(36,36,36)\",\"ticks\":\"outside\"},\"colorscale\":[[0.0,\"#440154\"],[0.1111111111111111,\"#482878\"],[0.2222222222222222,\"#3e4989\"],[0.3333333333333333,\"#31688e\"],[0.4444444444444444,\"#26828e\"],[0.5555555555555556,\"#1f9e89\"],[0.6666666666666666,\"#35b779\"],[0.7777777777777778,\"#6ece58\"],[0.8888888888888888,\"#b5de2b\"],[1.0,\"#fde725\"]],\"type\":\"heatmap\"}],\"histogram2dcontour\":[{\"colorbar\":{\"outlinewidth\":1,\"tickcolor\":\"rgb(36,36,36)\",\"ticks\":\"outside\"},\"colorscale\":[[0.0,\"#440154\"],[0.1111111111111111,\"#482878\"],[0.2222222222222222,\"#3e4989\"],[0.3333333333333333,\"#31688e\"],[0.4444444444444444,\"#26828e\"],[0.5555555555555556,\"#1f9e89\"],[0.6666666666666666,\"#35b779\"],[0.7777777777777778,\"#6ece58\"],[0.8888888888888888,\"#b5de2b\"],[1.0,\"#fde725\"]],\"type\":\"histogram2dcontour\"}],\"histogram2d\":[{\"colorbar\":{\"outlinewidth\":1,\"tickcolor\":\"rgb(36,36,36)\",\"ticks\":\"outside\"},\"colorscale\":[[0.0,\"#440154\"],[0.1111111111111111,\"#482878\"],[0.2222222222222222,\"#3e4989\"],[0.3333333333333333,\"#31688e\"],[0.4444444444444444,\"#26828e\"],[0.5555555555555556,\"#1f9e89\"],[0.6666666666666666,\"#35b779\"],[0.7777777777777778,\"#6ece58\"],[0.8888888888888888,\"#b5de2b\"],[1.0,\"#fde725\"]],\"type\":\"histogram2d\"}],\"histogram\":[{\"marker\":{\"line\":{\"color\":\"white\",\"width\":0.6}},\"type\":\"histogram\"}],\"mesh3d\":[{\"colorbar\":{\"outlinewidth\":1,\"tickcolor\":\"rgb(36,36,36)\",\"ticks\":\"outside\"},\"type\":\"mesh3d\"}],\"parcoords\":[{\"line\":{\"colorbar\":{\"outlinewidth\":1,\"tickcolor\":\"rgb(36,36,36)\",\"ticks\":\"outside\"}},\"type\":\"parcoords\"}],\"pie\":[{\"automargin\":true,\"type\":\"pie\"}],\"scatter3d\":[{\"line\":{\"colorbar\":{\"outlinewidth\":1,\"tickcolor\":\"rgb(36,36,36)\",\"ticks\":\"outside\"}},\"marker\":{\"colorbar\":{\"outlinewidth\":1,\"tickcolor\":\"rgb(36,36,36)\",\"ticks\":\"outside\"}},\"type\":\"scatter3d\"}],\"scattercarpet\":[{\"marker\":{\"colorbar\":{\"outlinewidth\":1,\"tickcolor\":\"rgb(36,36,36)\",\"ticks\":\"outside\"}},\"type\":\"scattercarpet\"}],\"scattergeo\":[{\"marker\":{\"colorbar\":{\"outlinewidth\":1,\"tickcolor\":\"rgb(36,36,36)\",\"ticks\":\"outside\"}},\"type\":\"scattergeo\"}],\"scattergl\":[{\"marker\":{\"colorbar\":{\"outlinewidth\":1,\"tickcolor\":\"rgb(36,36,36)\",\"ticks\":\"outside\"}},\"type\":\"scattergl\"}],\"scattermapbox\":[{\"marker\":{\"colorbar\":{\"outlinewidth\":1,\"tickcolor\":\"rgb(36,36,36)\",\"ticks\":\"outside\"}},\"type\":\"scattermapbox\"}],\"scatterpolargl\":[{\"marker\":{\"colorbar\":{\"outlinewidth\":1,\"tickcolor\":\"rgb(36,36,36)\",\"ticks\":\"outside\"}},\"type\":\"scatterpolargl\"}],\"scatterpolar\":[{\"marker\":{\"colorbar\":{\"outlinewidth\":1,\"tickcolor\":\"rgb(36,36,36)\",\"ticks\":\"outside\"}},\"type\":\"scatterpolar\"}],\"scatter\":[{\"fillpattern\":{\"fillmode\":\"overlay\",\"size\":10,\"solidity\":0.2},\"type\":\"scatter\"}],\"scatterternary\":[{\"marker\":{\"colorbar\":{\"outlinewidth\":1,\"tickcolor\":\"rgb(36,36,36)\",\"ticks\":\"outside\"}},\"type\":\"scatterternary\"}],\"surface\":[{\"colorbar\":{\"outlinewidth\":1,\"tickcolor\":\"rgb(36,36,36)\",\"ticks\":\"outside\"},\"colorscale\":[[0.0,\"#440154\"],[0.1111111111111111,\"#482878\"],[0.2222222222222222,\"#3e4989\"],[0.3333333333333333,\"#31688e\"],[0.4444444444444444,\"#26828e\"],[0.5555555555555556,\"#1f9e89\"],[0.6666666666666666,\"#35b779\"],[0.7777777777777778,\"#6ece58\"],[0.8888888888888888,\"#b5de2b\"],[1.0,\"#fde725\"]],\"type\":\"surface\"}],\"table\":[{\"cells\":{\"fill\":{\"color\":\"rgb(237,237,237)\"},\"line\":{\"color\":\"white\"}},\"header\":{\"fill\":{\"color\":\"rgb(217,217,217)\"},\"line\":{\"color\":\"white\"}},\"type\":\"table\"}]},\"layout\":{\"annotationdefaults\":{\"arrowhead\":0,\"arrowwidth\":1},\"autotypenumbers\":\"strict\",\"coloraxis\":{\"colorbar\":{\"outlinewidth\":1,\"tickcolor\":\"rgb(36,36,36)\",\"ticks\":\"outside\"}},\"colorscale\":{\"diverging\":[[0.0,\"rgb(103,0,31)\"],[0.1,\"rgb(178,24,43)\"],[0.2,\"rgb(214,96,77)\"],[0.3,\"rgb(244,165,130)\"],[0.4,\"rgb(253,219,199)\"],[0.5,\"rgb(247,247,247)\"],[0.6,\"rgb(209,229,240)\"],[0.7,\"rgb(146,197,222)\"],[0.8,\"rgb(67,147,195)\"],[0.9,\"rgb(33,102,172)\"],[1.0,\"rgb(5,48,97)\"]],\"sequential\":[[0.0,\"#440154\"],[0.1111111111111111,\"#482878\"],[0.2222222222222222,\"#3e4989\"],[0.3333333333333333,\"#31688e\"],[0.4444444444444444,\"#26828e\"],[0.5555555555555556,\"#1f9e89\"],[0.6666666666666666,\"#35b779\"],[0.7777777777777778,\"#6ece58\"],[0.8888888888888888,\"#b5de2b\"],[1.0,\"#fde725\"]],\"sequentialminus\":[[0.0,\"#440154\"],[0.1111111111111111,\"#482878\"],[0.2222222222222222,\"#3e4989\"],[0.3333333333333333,\"#31688e\"],[0.4444444444444444,\"#26828e\"],[0.5555555555555556,\"#1f9e89\"],[0.6666666666666666,\"#35b779\"],[0.7777777777777778,\"#6ece58\"],[0.8888888888888888,\"#b5de2b\"],[1.0,\"#fde725\"]]},\"colorway\":[\"#1F77B4\",\"#FF7F0E\",\"#2CA02C\",\"#D62728\",\"#9467BD\",\"#8C564B\",\"#E377C2\",\"#7F7F7F\",\"#BCBD22\",\"#17BECF\"],\"font\":{\"color\":\"rgb(36,36,36)\"},\"geo\":{\"bgcolor\":\"white\",\"lakecolor\":\"white\",\"landcolor\":\"white\",\"showlakes\":true,\"showland\":true,\"subunitcolor\":\"white\"},\"hoverlabel\":{\"align\":\"left\"},\"hovermode\":\"closest\",\"mapbox\":{\"style\":\"light\"},\"paper_bgcolor\":\"white\",\"plot_bgcolor\":\"white\",\"polar\":{\"angularaxis\":{\"gridcolor\":\"rgb(232,232,232)\",\"linecolor\":\"rgb(36,36,36)\",\"showgrid\":false,\"showline\":true,\"ticks\":\"outside\"},\"bgcolor\":\"white\",\"radialaxis\":{\"gridcolor\":\"rgb(232,232,232)\",\"linecolor\":\"rgb(36,36,36)\",\"showgrid\":false,\"showline\":true,\"ticks\":\"outside\"}},\"scene\":{\"xaxis\":{\"backgroundcolor\":\"white\",\"gridcolor\":\"rgb(232,232,232)\",\"gridwidth\":2,\"linecolor\":\"rgb(36,36,36)\",\"showbackground\":true,\"showgrid\":false,\"showline\":true,\"ticks\":\"outside\",\"zeroline\":false,\"zerolinecolor\":\"rgb(36,36,36)\"},\"yaxis\":{\"backgroundcolor\":\"white\",\"gridcolor\":\"rgb(232,232,232)\",\"gridwidth\":2,\"linecolor\":\"rgb(36,36,36)\",\"showbackground\":true,\"showgrid\":false,\"showline\":true,\"ticks\":\"outside\",\"zeroline\":false,\"zerolinecolor\":\"rgb(36,36,36)\"},\"zaxis\":{\"backgroundcolor\":\"white\",\"gridcolor\":\"rgb(232,232,232)\",\"gridwidth\":2,\"linecolor\":\"rgb(36,36,36)\",\"showbackground\":true,\"showgrid\":false,\"showline\":true,\"ticks\":\"outside\",\"zeroline\":false,\"zerolinecolor\":\"rgb(36,36,36)\"}},\"shapedefaults\":{\"fillcolor\":\"black\",\"line\":{\"width\":0},\"opacity\":0.3},\"ternary\":{\"aaxis\":{\"gridcolor\":\"rgb(232,232,232)\",\"linecolor\":\"rgb(36,36,36)\",\"showgrid\":false,\"showline\":true,\"ticks\":\"outside\"},\"baxis\":{\"gridcolor\":\"rgb(232,232,232)\",\"linecolor\":\"rgb(36,36,36)\",\"showgrid\":false,\"showline\":true,\"ticks\":\"outside\"},\"bgcolor\":\"white\",\"caxis\":{\"gridcolor\":\"rgb(232,232,232)\",\"linecolor\":\"rgb(36,36,36)\",\"showgrid\":false,\"showline\":true,\"ticks\":\"outside\"}},\"title\":{\"x\":0.5,\"xanchor\":\"center\"},\"xaxis\":{\"automargin\":true,\"gridcolor\":\"rgb(232,232,232)\",\"linecolor\":\"rgb(36,36,36)\",\"showgrid\":true,\"showline\":true,\"ticks\":\"outside\",\"title\":{\"standoff\":15},\"zeroline\":false,\"zerolinecolor\":\"rgb(36,36,36)\"},\"yaxis\":{\"automargin\":true,\"gridcolor\":\"rgb(232,232,232)\",\"linecolor\":\"rgb(36,36,36)\",\"showgrid\":true,\"showline\":true,\"ticks\":\"outside\",\"title\":{\"standoff\":15},\"zeroline\":false,\"zerolinecolor\":\"rgb(36,36,36)\"},\"autosize\":true,\"height\":400,\"margin\":{\"b\":30,\"l\":30,\"r\":30,\"t\":30},\"width\":600}},\"xaxis\":{\"anchor\":\"y\",\"domain\":[0.0,1.0],\"title\":{\"text\":\"Year\"}},\"yaxis\":{\"anchor\":\"x\",\"domain\":[0.0,1.0],\"title\":{\"text\":\"value\"}},\"legend\":{\"title\":{\"text\":\"variable\"},\"tracegroupgap\":0},\"title\":{\"text\":\"Number of Babies Born Named \\\"Alexa\\\" Per Year\"}},                        {\"responsive\": true}                    ).then(function(){\n",
       "                            \n",
       "var gd = document.getElementById('c21ea737-f0c9-48b3-bfb1-fb13d6991956');\n",
       "var x = new MutationObserver(function (mutations, observer) {{\n",
       "        var display = window.getComputedStyle(gd).display;\n",
       "        if (!display || display === 'none') {{\n",
       "            console.log([gd, 'removed!']);\n",
       "            Plotly.purge(gd);\n",
       "            observer.disconnect();\n",
       "        }}\n",
       "}});\n",
       "\n",
       "// Listen for the removal of the full notebook cells\n",
       "var notebookContainer = gd.closest('#notebook-container');\n",
       "if (notebookContainer) {{\n",
       "    x.observe(notebookContainer, {childList: true});\n",
       "}}\n",
       "\n",
       "// Listen for the clearing of the current output cell\n",
       "var outputEl = gd.closest('.output');\n",
       "if (outputEl) {{\n",
       "    x.observe(outputEl, {childList: true});\n",
       "}}\n",
       "\n",
       "                        })                };                });            </script>        </div>"
      ]
     },
     "metadata": {},
     "output_type": "display_data"
    }
   ],
   "source": [
    "name_graph('Alexa')"
   ]
  },
  {
   "cell_type": "markdown",
   "id": "4170226a",
   "metadata": {
    "slideshow": {
     "slide_type": "slide"
    },
    "tags": []
   },
   "source": [
    "### This week...\n",
    "\n",
    "- Lab 1 will be released today!\n",
    "- Start [setting up your environment](https://dsc80.com/tech_support), which you'll need to do before working on Lab 1.\n",
    "- Also fill out the [Welcome Survey](https://docs.google.com/forms/d/e/1FAIpQLScNAvrwJpb850IjIul91ddi2bUKLyrRQkAS8N6t5mbXy0Vi0A/viewform?usp=dialog) and read the [Syllabus](https://dsc80.com/syllabus)!"
   ]
  },
  {
   "cell_type": "code",
   "execution_count": null,
   "id": "fedde600-a1ce-437a-820d-bdc0e69b3506",
   "metadata": {},
   "outputs": [],
   "source": []
  }
 ],
 "metadata": {
  "kernelspec": {
   "display_name": "Python 3 (ipykernel)",
   "language": "python",
   "name": "python3"
  },
  "language_info": {
   "codemirror_mode": {
    "name": "ipython",
    "version": 3
   },
   "file_extension": ".py",
   "mimetype": "text/x-python",
   "name": "python",
   "nbconvert_exporter": "python",
   "pygments_lexer": "ipython3",
   "version": "3.12.11"
  },
  "livereveal": {
   "scroll": true
  },
  "rise": {
   "transition": "none"
  }
 },
 "nbformat": 4,
 "nbformat_minor": 5
}
