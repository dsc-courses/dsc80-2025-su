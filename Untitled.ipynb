{
 "cells": [
  {
   "cell_type": "code",
   "execution_count": 1,
   "id": "b5d4e450-bbfb-47b2-80c7-1fd48f766201",
   "metadata": {},
   "outputs": [],
   "source": [
    "import numpy as np"
   ]
  },
  {
   "cell_type": "code",
   "execution_count": 3,
   "id": "e7245a4e-70f9-4495-8817-185c4229ddc6",
   "metadata": {},
   "outputs": [
    {
     "data": {
      "text/plain": [
       "np.True_"
      ]
     },
     "execution_count": 3,
     "metadata": {},
     "output_type": "execute_result"
    }
   ],
   "source": [
    "np.True_"
   ]
  },
  {
   "cell_type": "code",
   "execution_count": 4,
   "id": "6664b957-6428-4f1b-add5-4c3cb65d6dff",
   "metadata": {},
   "outputs": [
    {
     "data": {
      "text/plain": [
       "np.False_"
      ]
     },
     "execution_count": 4,
     "metadata": {},
     "output_type": "execute_result"
    }
   ],
   "source": [
    "np.False_"
   ]
  },
  {
   "cell_type": "code",
   "execution_count": 5,
   "id": "930b5e40-75dd-41a1-b105-dc5e221e2909",
   "metadata": {},
   "outputs": [
    {
     "name": "stdout",
     "output_type": "stream",
     "text": [
      "2.1.1\n"
     ]
    }
   ],
   "source": [
    "print(np.__version__)"
   ]
  },
  {
   "cell_type": "code",
   "execution_count": 7,
   "id": "90aa0a52-3480-4c0c-817e-41e0327d02d6",
   "metadata": {},
   "outputs": [
    {
     "name": "stdout",
     "output_type": "stream",
     "text": [
      "False\n"
     ]
    }
   ],
   "source": [
    "print(np.False_)"
   ]
  },
  {
   "cell_type": "code",
   "execution_count": 8,
   "id": "0e7c69b3-5599-47b4-a890-6c137a2858f0",
   "metadata": {},
   "outputs": [
    {
     "name": "stdout",
     "output_type": "stream",
     "text": [
      "True\n"
     ]
    }
   ],
   "source": [
    "print(np.True_)"
   ]
  },
  {
   "cell_type": "code",
   "execution_count": 10,
   "id": "0b0f50a6-d5ee-43fc-9bec-5ed93dbf9593",
   "metadata": {},
   "outputs": [
    {
     "data": {
      "text/plain": [
       "np.True_"
      ]
     },
     "execution_count": 10,
     "metadata": {},
     "output_type": "execute_result"
    }
   ],
   "source": [
    "np.True_ == True"
   ]
  },
  {
   "cell_type": "code",
   "execution_count": 11,
   "id": "12fa58d5-2296-4c5b-99d8-66a8c49fd479",
   "metadata": {},
   "outputs": [
    {
     "data": {
      "text/plain": [
       "np.True_"
      ]
     },
     "execution_count": 11,
     "metadata": {},
     "output_type": "execute_result"
    }
   ],
   "source": [
    "np.True_"
   ]
  },
  {
   "cell_type": "code",
   "execution_count": 13,
   "id": "51c00561-9587-4f09-aeec-897b9f95889c",
   "metadata": {},
   "outputs": [
    {
     "data": {
      "text/plain": [
       "True"
      ]
     },
     "execution_count": 13,
     "metadata": {},
     "output_type": "execute_result"
    }
   ],
   "source": [
    "bool(np.True_)"
   ]
  },
  {
   "cell_type": "code",
   "execution_count": 14,
   "id": "5ac10324-03c1-42ec-83b1-88f39a8b8fcc",
   "metadata": {},
   "outputs": [
    {
     "name": "stdout",
     "output_type": "stream",
     "text": [
      "True\n"
     ]
    }
   ],
   "source": [
    "print(np.True_)"
   ]
  },
  {
   "cell_type": "code",
   "execution_count": null,
   "id": "058da18e-149f-4468-9bd3-7b8b7c9791d6",
   "metadata": {},
   "outputs": [],
   "source": []
  }
 ],
 "metadata": {
  "kernelspec": {
   "display_name": "Python 3 (ipykernel)",
   "language": "python",
   "name": "python3"
  },
  "language_info": {
   "codemirror_mode": {
    "name": "ipython",
    "version": 3
   },
   "file_extension": ".py",
   "mimetype": "text/x-python",
   "name": "python",
   "nbconvert_exporter": "python",
   "pygments_lexer": "ipython3",
   "version": "3.12.11"
  }
 },
 "nbformat": 4,
 "nbformat_minor": 5
}
